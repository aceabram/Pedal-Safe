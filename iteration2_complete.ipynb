{
 "cells": [
  {
   "cell_type": "code",
   "execution_count": 2,
   "metadata": {},
   "outputs": [],
   "source": [
    "# data manipulation\n",
    "\n",
    "import geopandas as gpd\n",
    "import pandas as pd\n",
    "import numpy as np\n",
    "import networkx as nx\n",
    "from shapely import wkt\n",
    "from shapely.geometry import LineString, Point, MultiLineString\n",
    "\n",
    "# database connection\n",
    "from sshtunnel import SSHTunnelForwarder\n",
    "import psycopg2\n",
    "\n",
    "# plotting libraries\n",
    "import geoplot.crs as gcrs\n",
    "import folium\n",
    "import plotly.express as px\n",
    "\n"
   ]
  },
  {
   "cell_type": "code",
   "execution_count": 3,
   "metadata": {},
   "outputs": [],
   "source": [
    "# SSH tunnel configuration\n",
    "ec2_public_dns = 'ec2-13-238-251-201.ap-southeast-2.compute.amazonaws.com'\n",
    "ssh_username = 'ubuntu'\n",
    "ssh_pkey = 'PedalSafe-Vijay_Keypair.pem'\n",
    "rds_instance_access_point = 'database-ec2-1.cxkqw8uo29xn.ap-southeast-2.rds.amazonaws.com'\n",
    "rds_port = 5432  # PostgreSQL default port\n",
    "\n",
    "# Establish SSH tunnel\n",
    "def make_connection():\n",
    "    try:\n",
    "        tunnel = SSHTunnelForwarder(ec2_public_dns,\n",
    "                                    ssh_username=ssh_username,\n",
    "                                    ssh_pkey=ssh_pkey,\n",
    "                                    remote_bind_address=(rds_instance_access_point, rds_port))\n",
    "        tunnel.start()\n",
    "        print(\"****SSH Tunnel Established****\")\n",
    "\n",
    "        connection = psycopg2.connect(\n",
    "            dbname=\"PedalSafe_EC2_Master_DB\",\n",
    "            user=\"postgres\",\n",
    "            password=\"miBjRVM9LG3GdYS\",\n",
    "            host='127.0.0.1',  # Connect to localhost since we're tunneling\n",
    "            port=tunnel.local_bind_port\n",
    "        )\n",
    "        print('Database connected')\n",
    "        cursor = connection.cursor()\n",
    "        return connection, cursor\n",
    "    except psycopg2.Error as e:\n",
    "        print(\"Error establishing connection:\", e)\n",
    "        raise\n",
    "\n",
    "def exec_query(connection, query):\n",
    "    try:\n",
    "        cursor = connection.cursor()\n",
    "        cursor.execute(query)\n",
    "        cursor.close()\n",
    "        connection.commit()\n",
    "    except psycopg2.Error as e:\n",
    "        print(\"Error executing query:\", e)\n",
    "        raise"
   ]
  },
  {
   "cell_type": "code",
   "execution_count": 6,
   "metadata": {},
   "outputs": [],
   "source": [
    "# accident_df = pd.read_csv('../data/accident.csv')\n",
    "# bikelanes_df = pd.read_csv('../data/bikelanes.csv')\n",
    "# boundary_df = pd.read_csv('../data/boundary.csv')\n",
    "# all_roads_df = pd.read_csv('../data/all_roads.csv')\n",
    "# crime_df = pd.read_csv('../data/crimes.csv')"
   ]
  },
  {
   "cell_type": "code",
   "execution_count": 20,
   "metadata": {},
   "outputs": [
    {
     "name": "stdout",
     "output_type": "stream",
     "text": [
      "****SSH Tunnel Established****\n",
      "Database connected\n",
      "all data fetched \n"
     ]
    }
   ],
   "source": [
    "# fetch data from database\n",
    "conn, cur = make_connection()\n",
    "#  accident dataframe\n",
    "cur.execute(\"SELECT * FROM accident;\")\n",
    "rows = cur.fetchall()\n",
    "columns = [desc[0] for desc in cur.description]\n",
    "accident_df = pd.DataFrame(data=rows, columns=columns)\n",
    "accidents_gdf = gpd.GeoDataFrame(\n",
    "    accident_df,\n",
    "    geometry=gpd.points_from_xy(accident_df.longitude, accident_df.latitude)\n",
    ")\n",
    "\n",
    "# boundary dataframe\n",
    "cur.execute(\"SELECT * FROM Boundary;\")\n",
    "rows = cur.fetchall()\n",
    "columns = [desc[0] for desc in cur.description]\n",
    "boundary_df = pd.DataFrame(data=rows, columns=columns)\n",
    "boundary_df['mccid_gis'] = boundary_df['mccid_gis'].astype(int)\n",
    "boundary_df['polygon_geometry'] = boundary_df['polygon_geometry'].apply(wkt.loads)\n",
    "\n",
    "# bikelanes dataframe\n",
    "cur.execute(\"SELECT * FROM Bikelanes;\")\n",
    "rows = cur.fetchall()\n",
    "columns = [desc[0] for desc in cur.description]\n",
    "bikelanes_df = pd.DataFrame(data=rows, columns=columns)\n",
    "bikelanes_df['geometry'] = bikelanes_df['geometry'].apply(wkt.loads)\n",
    "bikelanes_gdf = gpd.GeoDataFrame(bikelanes_df, geometry=bikelanes_df['geometry'])\n",
    "\n",
    "# all roads dataframe\n",
    "cur.execute(\"SELECT * FROM Allroads;\")\n",
    "rows = cur.fetchall()\n",
    "columns = [desc[0] for desc in cur.description]\n",
    "all_roads_df = pd.DataFrame(data=rows, columns=columns)\n",
    "all_roads_df['geometry'] = all_roads_df['geometry'].apply(wkt.loads)\n",
    "all_roads_gdf = gpd.GeoDataFrame(all_roads_df, geometry=all_roads_df['geometry'])\n",
    "\n",
    "# crimes dataset\n",
    "cur.execute(\"SELECT * FROM crimes;\")\n",
    "rows = cur.fetchall()\n",
    "columns = [desc[0] for desc in cur.description]\n",
    "crime_df = pd.DataFrame(data=rows, columns=columns)\n",
    "\n",
    "# bikerails dataset\n",
    "cur.execute(\"SELECT * FROM bikerails;\")\n",
    "rows = cur.fetchall()\n",
    "columns = [desc[0] for desc in cur.description]\n",
    "bikerails_df = pd.DataFrame(data=rows, columns=columns)\n",
    "bikerails_df['geometry'] = bikerails_df['geometry'].apply(wkt.loads)\n",
    "bikerails_gdf = gpd.GeoDataFrame(bikerails_df, geometry=bikerails_df['geometry'])\n",
    "\n",
    "\n",
    "print('all data fetched ')\n"
   ]
  },
  {
   "cell_type": "code",
   "execution_count": 5,
   "metadata": {},
   "outputs": [],
   "source": [
    "from math import radians, sin, cos, sqrt, atan2\n",
    "def haversine(lat1, lon1, lat2, lon2):\n",
    "    R = 6371.0  # Earth radius in kilometers\n",
    "\n",
    "    # Convert latitude and longitude from degrees to radians\n",
    "    lat1, lon1, lat2, lon2 = map(radians, [lat1, lon1, lat2, lon2])\n",
    "\n",
    "    # Calculate the differences\n",
    "    dlat = lat2 - lat1\n",
    "    dlon = lon2 - lon1\n",
    "\n",
    "    # Calculate the distance using the Haversine formula\n",
    "    a = sin(dlat / 2)**2 + cos(lat1) * cos(lat2) * sin(dlon / 2)**2\n",
    "    c = 2 * atan2(sqrt(a), sqrt(1 - a))\n",
    "    distance = R * c\n",
    "\n",
    "    return distance\n",
    "\n",
    "def get_color(accident_count):\n",
    "    if accident_count == 0:\n",
    "        return 'green'\n",
    "    elif 1 <= accident_count < 5:\n",
    "        return 'yellow'\n",
    "    elif 5 <= accident_count < 10:\n",
    "        return 'orange'\n",
    "    else:\n",
    "        return 'red'\n",
    "\n",
    "\n",
    "   \n",
    "# Extract the cycle lanes and create network graph \n",
    "def create_bikelane_network():\n",
    "    cycle_lanes = []       \n",
    "    \n",
    "    G = nx.Graph()\n",
    "    for idx, row in bikelanes_gdf.iterrows():\n",
    "        geom = row['geometry']\n",
    "        accident_count = row['count']\n",
    "        #accident_count = accident_counts.get(idx, 0)  # Assuming 'accident_counts' maps IDs to counts\n",
    "        if isinstance(geom, LineString):\n",
    "            coords = list(geom.coords)\n",
    "            cycle_lanes.append(geom.coords)\n",
    "            for i in range(len(coords) - 1):\n",
    "                G.add_edge(coords[i], coords[i + 1], weight=accident_count)\n",
    "        elif isinstance(geom, MultiLineString):\n",
    "            for line in geom.geoms:\n",
    "                coords = list(line.coords)\n",
    "                cycle_lanes.append(line.coords)\n",
    "                for i in range(len(coords) - 1):\n",
    "                    G.add_edge(coords[i], coords[i + 1], weight=accident_count)\n",
    "\n",
    "\n",
    "    return cycle_lanes, G   \n",
    "      \n",
    "def create_all_roads_network():\n",
    "    cycle_lanes = []       \n",
    "    \n",
    "    G = nx.Graph()\n",
    "    for idx, row in all_roads_df.iterrows():\n",
    "        geom = row['geometry']\n",
    "        accident_count = row['count']\n",
    "        #accident_count = accident_counts.get(idx, 0)  # Assuming 'accident_counts' maps IDs to counts\n",
    "        if isinstance(geom, LineString):\n",
    "            coords = list(geom.coords)\n",
    "            cycle_lanes.append(geom.coords)\n",
    "            for i in range(len(coords) - 1):\n",
    "                G.add_edge(coords[i], coords[i + 1], weight=accident_count)\n",
    "        elif isinstance(geom, MultiLineString):\n",
    "            for line in geom.geoms:\n",
    "                coords = list(line.coords)\n",
    "                cycle_lanes.append(line.coords)\n",
    "                for i in range(len(coords) - 1):\n",
    "                    G.add_edge(coords[i], coords[i + 1], weight=accident_count)\n",
    "\n",
    "\n",
    "    return cycle_lanes, G           "
   ]
  },
  {
   "cell_type": "code",
   "execution_count": 6,
   "metadata": {},
   "outputs": [],
   "source": [
    "def blue_route(start_point, end_point, bikelane_network, all_roads_network):\n",
    "    G = bikelane_network\n",
    "    G2 = all_roads_network\n",
    "    destination_text = 'dest_text'\n",
    "    start_text = 'start_text'\n",
    "    # Create a map\n",
    "    accessToken= 'vJATUvPkKU7abTaQMSHw2p9x0jpRE1EcXBTlkPfKH7zeLdtwpN8LyDjoQEXRFjKr'\n",
    "    tiles = f'https://tile.jawg.io/jawg-terrain/{{z}}/{{x}}/{{y}}{{r}}.png?access-token={accessToken}'\n",
    "    attr = \t'<a href=\"https://jawg.io\" title=\"Tiles Courtesy of Jawg Maps\" target=\"_blank\">&copy; <b>Jawg</b>Maps</a> &copy; <a href=\"https://www.openstreetmap.org/copyright\">OpenStreetMap</a> contributors',\n",
    "\n",
    "    map_load_location = [(start_point[1]+end_point[1])/2, (start_point[0]+end_point[0])/2]\n",
    "    m = folium.Map(location=map_load_location, zoom_start=13,tiles=tiles, attr=attr)  \n",
    "    distance = 0\n",
    "    MAX_DISTANCE_THRESHOLD = 1.5\n",
    "\n",
    "    # Find the nearest nodes in the graph to the start and end points\n",
    "    start_node_index = np.argmin([Point(node).distance(Point(start_point)) for node in G.nodes])\n",
    "    end_node_index = np.argmin([Point(node).distance(Point(end_point)) for node in G.nodes])\n",
    "    start_node = list(G.nodes)[start_node_index]\n",
    "    end_node = list(G.nodes)[end_node_index]\n",
    "\n",
    "    \n",
    "\n",
    "    # Check if the nearest nodes are within the range of the bike lanes\n",
    "    start_distance = round(haversine(start_point[1], start_point[0], start_node[1], start_node[0]),2)\n",
    "    end_distance = round(haversine(end_point[1], end_point[0], end_node[1], end_node[0]),2)\n",
    "\n",
    "    start_far = start_distance > MAX_DISTANCE_THRESHOLD\n",
    "    end_far = end_distance > MAX_DISTANCE_THRESHOLD\n",
    "    \n",
    "    if start_far or end_far:\n",
    "        message = \"Start\" if start_far else \"End\"\n",
    "        print(f\"{message} point is out of range of bike lanes ({start_distance if start_far else end_distance} km away).\")\n",
    "    else:\n",
    "        try:\n",
    "            # Find the shortest path between the start and end nodes\n",
    "            path_nodes = nx.shortest_path(G, source=start_node, target=end_node)\n",
    "            #path_nodes = nx.astar_path(G, source=start_node, target=end_node, heuristic=lambda n, goal: haversine(n[1], n[0], end_point[1], end_point[0]))\n",
    "\n",
    "            # Convert the path nodes to coordinates\n",
    "            path_coords = [[node[1], node[0]] for node in path_nodes]\n",
    "            total_distance = 0\n",
    "            for i in range(len(path_coords) - 1):\n",
    "                total_distance += haversine(path_coords[i+1][0],path_coords[i+1][1], path_coords[i][0],path_coords[i][1])\n",
    "\n",
    "            # Add the route to the map\n",
    "            folium.PolyLine(locations=path_coords, color='#1f77b4', weight=10).add_to(m)\n",
    "\n",
    "            nearest_node = start_node\n",
    "    \n",
    "            if start_distance <= MAX_DISTANCE_THRESHOLD:\n",
    "                \n",
    "                folium.PolyLine(locations=[(start_point[1], start_point[0]), (nearest_node[1], nearest_node[0])], color='black', weight=2, dash_array='5,5').add_to(m)\n",
    "            \n",
    "            if end_distance <= MAX_DISTANCE_THRESHOLD:\n",
    "                \n",
    "                folium.PolyLine(locations=[(end_point[1], end_point[0]), (end_node[1], end_node[0])], color='black', weight=5, dash_array='5,5').add_to(m)\n",
    "\n",
    "        except nx.NetworkXNoPath:\n",
    "            print(\"There will be breaks in bicycle lanes\")\n",
    "            start_node_index2 = np.argmin([Point(node).distance(Point(start_point)) for node in G2.nodes])\n",
    "            end_node_index2 = np.argmin([Point(node).distance(Point(end_point)) for node in G2.nodes])\n",
    "            start_node2 = list(G2.nodes)[start_node_index2]\n",
    "            end_node2 = list(G2.nodes)[end_node_index2]\n",
    "            \n",
    "            # Find the shortest path between the start and end nodes\n",
    "            path_nodes2 = nx.shortest_path(G2, source=start_node2, target=end_node2)\n",
    "            \n",
    "            # Convert the path nodes to coordinates\n",
    "            path_coords2 = [[node[1], node[0]] for node in path_nodes2]\n",
    "            total_distance = 0\n",
    "            for i in range(len(path_coords2) - 1):\n",
    "                total_distance += haversine(path_coords2[i+1][0],path_coords2[i+1][1], path_coords2[i][0],path_coords2[i][1])\n",
    "\n",
    "            # Add the route to the map\n",
    "            folium.PolyLine(locations=path_coords2, color='#1f77b4', weight=10).add_to(m)\n",
    "            \n",
    "            # Add a dotted line between start_point and nearest bike lane node\n",
    "            # Check if the nearest nodes are within the range of the bike lanes\n",
    "            start_distance = round(haversine(start_point[1], start_point[0], start_node2[1], start_node2[0]),2)\n",
    "            end_distance = round(haversine(end_point[1], end_point[0], end_node2[1], end_node2[0]),2)\n",
    "    \n",
    "            nearest_node = start_node2\n",
    "            if start_distance <= MAX_DISTANCE_THRESHOLD:\n",
    "                \n",
    "                folium.PolyLine(locations=[(start_point[1], start_point[0]), (nearest_node[1], nearest_node[0])], color='black', weight=5, dash_array='5,5').add_to(m)\n",
    "            \n",
    "            if end_distance <= MAX_DISTANCE_THRESHOLD:\n",
    "                \n",
    "                folium.PolyLine(locations=[(end_point[1], end_point[0]), (end_node2[1], end_node2[0])], color='black', weight=5, dash_array='5,5').add_to(m)\n",
    "\n",
    "\n",
    "    folium.CircleMarker(location=(start_point[1],start_point[0]), radius=5, color='#7EA1FF', weight=8,popup=f\"{start_text}\").add_to(m)\n",
    "    folium.Marker(location=(end_point[1],end_point[0]),radius=2,color='red', weight=5,popup=f\"{destination_text}\").add_to(m)        \n",
    "            \n",
    "    # display map\n",
    "    return m, total_distance    \n",
    "        \n"
   ]
  },
  {
   "cell_type": "code",
   "execution_count": 7,
   "metadata": {},
   "outputs": [
    {
     "name": "stdout",
     "output_type": "stream",
     "text": [
      "There will be breaks in bicycle lanes\n",
      "Route distance: 3.38 km,\n",
      "Time to reach: 13.5 min\n"
     ]
    },
    {
     "data": {
      "text/html": [
       "<div style=\"width:100%;\"><div style=\"position:relative;width:100%;height:0;padding-bottom:60%;\"><span style=\"color:#565656\">Make this Notebook Trusted to load map: File -> Trust Notebook</span><iframe srcdoc=\"&lt;!DOCTYPE html&gt;\n",
       "&lt;html&gt;\n",
       "&lt;head&gt;\n",
       "    \n",
       "    &lt;meta http-equiv=&quot;content-type&quot; content=&quot;text/html; charset=UTF-8&quot; /&gt;\n",
       "    \n",
       "        &lt;script&gt;\n",
       "            L_NO_TOUCH = false;\n",
       "            L_DISABLE_3D = false;\n",
       "        &lt;/script&gt;\n",
       "    \n",
       "    &lt;style&gt;html, body {width: 100%;height: 100%;margin: 0;padding: 0;}&lt;/style&gt;\n",
       "    &lt;style&gt;#map {position:absolute;top:0;bottom:0;right:0;left:0;}&lt;/style&gt;\n",
       "    &lt;script src=&quot;https://cdn.jsdelivr.net/npm/leaflet@1.9.3/dist/leaflet.js&quot;&gt;&lt;/script&gt;\n",
       "    &lt;script src=&quot;https://code.jquery.com/jquery-1.12.4.min.js&quot;&gt;&lt;/script&gt;\n",
       "    &lt;script src=&quot;https://cdn.jsdelivr.net/npm/bootstrap@5.2.2/dist/js/bootstrap.bundle.min.js&quot;&gt;&lt;/script&gt;\n",
       "    &lt;script src=&quot;https://cdnjs.cloudflare.com/ajax/libs/Leaflet.awesome-markers/2.0.2/leaflet.awesome-markers.js&quot;&gt;&lt;/script&gt;\n",
       "    &lt;link rel=&quot;stylesheet&quot; href=&quot;https://cdn.jsdelivr.net/npm/leaflet@1.9.3/dist/leaflet.css&quot;/&gt;\n",
       "    &lt;link rel=&quot;stylesheet&quot; href=&quot;https://cdn.jsdelivr.net/npm/bootstrap@5.2.2/dist/css/bootstrap.min.css&quot;/&gt;\n",
       "    &lt;link rel=&quot;stylesheet&quot; href=&quot;https://netdna.bootstrapcdn.com/bootstrap/3.0.0/css/bootstrap.min.css&quot;/&gt;\n",
       "    &lt;link rel=&quot;stylesheet&quot; href=&quot;https://cdn.jsdelivr.net/npm/@fortawesome/fontawesome-free@6.2.0/css/all.min.css&quot;/&gt;\n",
       "    &lt;link rel=&quot;stylesheet&quot; href=&quot;https://cdnjs.cloudflare.com/ajax/libs/Leaflet.awesome-markers/2.0.2/leaflet.awesome-markers.css&quot;/&gt;\n",
       "    &lt;link rel=&quot;stylesheet&quot; href=&quot;https://cdn.jsdelivr.net/gh/python-visualization/folium/folium/templates/leaflet.awesome.rotate.min.css&quot;/&gt;\n",
       "    \n",
       "            &lt;meta name=&quot;viewport&quot; content=&quot;width=device-width,\n",
       "                initial-scale=1.0, maximum-scale=1.0, user-scalable=no&quot; /&gt;\n",
       "            &lt;style&gt;\n",
       "                #map_dd00192527198ac46908238f5c58ad72 {\n",
       "                    position: relative;\n",
       "                    width: 100.0%;\n",
       "                    height: 100.0%;\n",
       "                    left: 0.0%;\n",
       "                    top: 0.0%;\n",
       "                }\n",
       "                .leaflet-container { font-size: 1rem; }\n",
       "            &lt;/style&gt;\n",
       "        \n",
       "&lt;/head&gt;\n",
       "&lt;body&gt;\n",
       "    \n",
       "    \n",
       "            &lt;div class=&quot;folium-map&quot; id=&quot;map_dd00192527198ac46908238f5c58ad72&quot; &gt;&lt;/div&gt;\n",
       "        \n",
       "&lt;/body&gt;\n",
       "&lt;script&gt;\n",
       "    \n",
       "    \n",
       "            var map_dd00192527198ac46908238f5c58ad72 = L.map(\n",
       "                &quot;map_dd00192527198ac46908238f5c58ad72&quot;,\n",
       "                {\n",
       "                    center: [-37.82279465, 144.96656925000002],\n",
       "                    crs: L.CRS.EPSG3857,\n",
       "                    zoom: 13,\n",
       "                    zoomControl: true,\n",
       "                    preferCanvas: false,\n",
       "                }\n",
       "            );\n",
       "\n",
       "            \n",
       "\n",
       "        \n",
       "    \n",
       "            var tile_layer_14bf4016a9bf63c91a647781757de5ab = L.tileLayer(\n",
       "                &quot;https://tile.jawg.io/jawg-terrain/{z}/{x}/{y}{r}.png?access-token=vJATUvPkKU7abTaQMSHw2p9x0jpRE1EcXBTlkPfKH7zeLdtwpN8LyDjoQEXRFjKr&quot;,\n",
       "                {&quot;attribution&quot;: [&quot;\\u003ca href=\\&quot;https://jawg.io\\&quot; title=\\&quot;Tiles Courtesy of Jawg Maps\\&quot; target=\\&quot;_blank\\&quot;\\u003e\\u0026copy; \\u003cb\\u003eJawg\\u003c/b\\u003eMaps\\u003c/a\\u003e \\u0026copy; \\u003ca href=\\&quot;https://www.openstreetmap.org/copyright\\&quot;\\u003eOpenStreetMap\\u003c/a\\u003e contributors&quot;], &quot;detectRetina&quot;: false, &quot;maxNativeZoom&quot;: 18, &quot;maxZoom&quot;: 18, &quot;minZoom&quot;: 0, &quot;noWrap&quot;: false, &quot;opacity&quot;: 1, &quot;subdomains&quot;: &quot;abc&quot;, &quot;tms&quot;: false}\n",
       "            ).addTo(map_dd00192527198ac46908238f5c58ad72);\n",
       "        \n",
       "    \n",
       "            var poly_line_b2d327eec74abdf181d046b98eef7638 = L.polyline(\n",
       "                [[-37.8100364701, 144.9626836657], [-37.8100226645, 144.9627311434], [-37.8100221159, 144.9627330304], [-37.8100133171, 144.962764768], [-37.8100075652, 144.9627855163], [-37.8099859613, 144.962863442], [-37.8099738806, 144.9629070182], [-37.809973515, 144.9629083357], [-37.80997342, 144.9629086802], [-37.8099718312, 144.9629144101], [-37.8099572898, 144.9629668649], [-37.8099549487, 144.9629753098], [-37.8098733352, 144.9632367175], [-37.8098037113, 144.9634750935], [-37.8097392767, 144.9636956966], [-37.8097368234, 144.9637040684], [-37.8097054109, 144.9638112563], [-37.8096712045, 144.9639279749], [-37.8097101383, 144.9639433653], [-37.809747418, 144.9639581027], [-37.810114077, 144.9641334885], [-37.8104979354, 144.9643171045], [-37.8105141936, 144.964323672], [-37.8105576499, 144.9643412275], [-37.8106024303, 144.9643593168], [-37.8106294987, 144.9643702515], [-37.8107095939, 144.9644070798], [-37.8107806269, 144.9644397407], [-37.8108683744, 144.9644800881], [-37.8111423568, 144.9646060679], [-37.811243921, 144.9646527676], [-37.8113968468, 144.9647230855], [-37.811421459, 144.9647331621], [-37.811545919, 144.9647841166], [-37.8115609876, 144.9647323463], [-37.8115774509, 144.9646758144], [-37.8116090529, 144.9645672955], [-37.8116331518, 144.9644845417], [-37.8116860972, 144.9643027337], [-37.8117743343, 144.9643253194], [-37.811818713, 144.9643454044], [-37.8125936196, 144.9646961206], [-37.8126279535, 144.9647236496], [-37.8126309089, 144.9647260186], [-37.8126696356, 144.9647570699], [-37.812621379, 144.9649221202], [-37.8125928175, 144.9650198054], [-37.8125924584, 144.965021033], [-37.8125922066, 144.9650218941], [-37.812564478, 144.9651167326], [-37.8126085723, 144.965134761], [-37.8126290965, 144.965143153], [-37.8126734562, 144.9651636039], [-37.8127503807, 144.9651990694], [-37.8128011147, 144.96522246], [-37.8128261996, 144.9652340245], [-37.8128510147, 144.9652454658], [-37.8129188605, 144.9652767448], [-37.8129558184, 144.9652937846], [-37.8130297406, 144.9653278662], [-37.8130666994, 144.965344906], [-37.8131406242, 144.9653789888], [-37.8132751993, 144.9654410339], [-37.8133573425, 144.9654789056], [-37.813418892, 144.965507283], [-37.8134221039, 144.9655089033], [-37.813548372, 144.9655725775], [-37.8135307229, 144.9656334745], [-37.8135172521, 144.9656794772], [-37.813639403, 144.9657356086], [-37.8136424334, 144.965737001], [-37.8137511153, 144.9657859301], [-37.8137885611, 144.9658027888], [-37.8138258961, 144.9658195971], [-37.8138636517, 144.9658365938], [-37.8139821724, 144.9658899526], [-37.8140217772, 144.9659077835], [-37.814088174, 144.9659376755], [-37.8141543902, 144.9659674862], [-37.8141942746, 144.9659854424], [-37.814233654, 144.9660031717], [-37.8142725576, 144.9660206858], [-37.8143392732, 144.9660507226], [-37.8143705702, 144.9660648127], [-37.8144437007, 144.966097736], [-37.814452696, 144.9661018932], [-37.8145002939, 144.9661238863], [-37.8145467563, 144.9661453552], [-37.814572671, 144.9661573291], [-37.8145999905, 144.966170338], [-37.8148625692, 144.9662953671], [-37.8151400451, 144.9664274902], [-37.8153505344, 144.9665277175], [-37.81536149, 144.9665329343], [-37.8154017319, 144.9665520797], [-37.8154783822, 144.966588547], [-37.8155546136, 144.9666248157], [-37.8156049551, 144.9666487676], [-37.8156956211, 144.9666919037], [-37.8160304539, 144.9668483572], [-37.8161041365, 144.9668827856], [-37.8163893964, 144.9670160773], [-37.8164135993, 144.9670251054], [-37.8164680893, 144.9670454293], [-37.8165067209, 144.9670598381], [-37.8165318598, 144.9670692155], [-37.8173090018, 144.9674313881], [-37.8173195405, 144.9674375173], [-37.817433794, 144.9675039551], [-37.8175681972, 144.9675821115], [-37.8176138949, 144.9676086844], [-37.8176761524, 144.9676487691], [-37.8177298182, 144.9676833231], [-37.817837301, 144.9677525272], [-37.8179452766, 144.967817291], [-37.8183261169, 144.9679964256], [-37.8183656688, 144.9680150292], [-37.8183900773, 144.9680256359], [-37.8185418724, 144.9680915992], [-37.8186744119, 144.9681335835], [-37.8187066358, 144.9681443202], [-37.8187484493, 144.9681582508], [-37.8188144129, 144.9681777434], [-37.8188212598, 144.9681797663], [-37.8188432792, 144.9681903727], [-37.819011146, 144.9682712312], [-37.8193003164, 144.9684094345], [-37.8195759612, 144.9685365823], [-37.819656112, 144.9685743594], [-37.8197177318, 144.968603403], [-37.8198188959, 144.9686510863], [-37.8200092582, 144.9687408114], [-37.8201683556, 144.9688285335], [-37.8202189514, 144.9688575912], [-37.8202883975, 144.9689295039], [-37.8203565271, 144.9689930223], [-37.8205442801, 144.9691332619], [-37.8206478771, 144.9691897193], [-37.8206515392, 144.9691913753], [-37.8207596498, 144.9692401317], [-37.820978773, 144.9693389638], [-37.8210530559, 144.9693727123], [-37.8211102638, 144.9693991231], [-37.822904649, 144.97022756], [-37.8231058505, 144.9703218898], [-37.8231329307, 144.9703345867], [-37.8231408157, 144.9703382833], [-37.8232032935, 144.9703664188], [-37.8232482453, 144.9703866627], [-37.8232989116, 144.970409479], [-37.8233448473, 144.970497734], [-37.8233487116, 144.9705051593], [-37.8233807226, 144.9705666604], [-37.8247685943, 144.9711982773], [-37.8248337969, 144.9712279687], [-37.8249508531, 144.9712812527], [-37.8250931233, 144.9713337532], [-37.8255786024, 144.9715129761], [-37.8258928065, 144.9716043171], [-37.8260580789, 144.9716523636], [-37.8261073187, 144.9715631549], [-37.826122397, 144.9715358384], [-37.826132414, 144.9715381681], [-37.826147384, 144.9715416494], [-37.8262120941, 144.9715826244], [-37.8263116416, 144.9716456601], [-37.8263485764, 144.9716690472], [-37.8266802543, 144.9717088736], [-37.8269851822, 144.971745488], [-37.8270547569, 144.9717258931], [-37.8272696361, 144.971665382], [-37.8272703367, 144.9716652469], [-37.8272707624, 144.9716650614], [-37.8272712217, 144.971665409], [-37.8274275963, 144.9717836824], [-37.8274579211, 144.9717811319], [-37.8277805547, 144.9717539963], [-37.8288364186, 144.9716651898], [-37.8298123822, 144.9716500789], [-37.829819599, 144.9716412496], [-37.8298902691, 144.9715547863], [-37.8299127985, 144.9715272212], [-37.8298950163, 144.9713214058], [-37.8299007803, 144.9713015351], [-37.8299623732, 144.9710891813], [-37.8299701632, 144.9710623197], [-37.8300473437, 144.9710634311], [-37.8304260593, 144.9710755417], [-37.8308805372, 144.9711079692], [-37.8311321024, 144.9711346185], [-37.8314209578, 144.9711867611], [-37.8317042673, 144.97126735], [-37.8318998958, 144.9713419093], [-37.8319971835, 144.9713826242], [-37.8322023143, 144.9714805335], [-37.8323094608, 144.9715339077], [-37.8323494288, 144.9715581747], [-37.8325529323, 144.9716817367], [-37.8327805388, 144.971860451], [-37.8328966905, 144.9719663406], [-37.8329191252, 144.9719867932], [-37.8330143186, 144.9720785349], [-37.8332086755, 144.9723251523], [-37.8332976363, 144.9724421742], [-37.8335173859, 144.9727611793], [-37.8336333925, 144.9729408609], [-37.8337530634, 144.9731262207], [-37.8339396186, 144.9734065057], [-37.8340191981, 144.9735175623], [-37.8348983119, 144.9726970471], [-37.8353515945, 144.9723409626], [-37.8356115052, 144.9721773747]],\n",
       "                {&quot;bubblingMouseEvents&quot;: true, &quot;color&quot;: &quot;#1f77b4&quot;, &quot;dashArray&quot;: null, &quot;dashOffset&quot;: null, &quot;fill&quot;: false, &quot;fillColor&quot;: &quot;#1f77b4&quot;, &quot;fillOpacity&quot;: 0.2, &quot;fillRule&quot;: &quot;evenodd&quot;, &quot;lineCap&quot;: &quot;round&quot;, &quot;lineJoin&quot;: &quot;round&quot;, &quot;noClip&quot;: false, &quot;opacity&quot;: 1.0, &quot;smoothFactor&quot;: 1.0, &quot;stroke&quot;: true, &quot;weight&quot;: 10}\n",
       "            ).addTo(map_dd00192527198ac46908238f5c58ad72);\n",
       "        \n",
       "    \n",
       "            var poly_line_b2fcd3e7e3aa49588562fe4cc6b300b1 = L.polyline(\n",
       "                [[-37.8102361, 144.9627652], [-37.8100364701, 144.9626836657]],\n",
       "                {&quot;bubblingMouseEvents&quot;: true, &quot;color&quot;: &quot;black&quot;, &quot;dashArray&quot;: &quot;5,5&quot;, &quot;dashOffset&quot;: null, &quot;fill&quot;: false, &quot;fillColor&quot;: &quot;black&quot;, &quot;fillOpacity&quot;: 0.2, &quot;fillRule&quot;: &quot;evenodd&quot;, &quot;lineCap&quot;: &quot;round&quot;, &quot;lineJoin&quot;: &quot;round&quot;, &quot;noClip&quot;: false, &quot;opacity&quot;: 1.0, &quot;smoothFactor&quot;: 1.0, &quot;stroke&quot;: true, &quot;weight&quot;: 5}\n",
       "            ).addTo(map_dd00192527198ac46908238f5c58ad72);\n",
       "        \n",
       "    \n",
       "            var poly_line_9b331c87217db6d1c420f590472d3c55 = L.polyline(\n",
       "                [[-37.8353532, 144.9703733], [-37.8356115052, 144.9721773747]],\n",
       "                {&quot;bubblingMouseEvents&quot;: true, &quot;color&quot;: &quot;black&quot;, &quot;dashArray&quot;: &quot;5,5&quot;, &quot;dashOffset&quot;: null, &quot;fill&quot;: false, &quot;fillColor&quot;: &quot;black&quot;, &quot;fillOpacity&quot;: 0.2, &quot;fillRule&quot;: &quot;evenodd&quot;, &quot;lineCap&quot;: &quot;round&quot;, &quot;lineJoin&quot;: &quot;round&quot;, &quot;noClip&quot;: false, &quot;opacity&quot;: 1.0, &quot;smoothFactor&quot;: 1.0, &quot;stroke&quot;: true, &quot;weight&quot;: 5}\n",
       "            ).addTo(map_dd00192527198ac46908238f5c58ad72);\n",
       "        \n",
       "    \n",
       "            var circle_marker_6ac7c23882906e13d208dc712b36890c = L.circleMarker(\n",
       "                [-37.8102361, 144.9627652],\n",
       "                {&quot;bubblingMouseEvents&quot;: true, &quot;color&quot;: &quot;#7EA1FF&quot;, &quot;dashArray&quot;: null, &quot;dashOffset&quot;: null, &quot;fill&quot;: false, &quot;fillColor&quot;: &quot;#7EA1FF&quot;, &quot;fillOpacity&quot;: 0.2, &quot;fillRule&quot;: &quot;evenodd&quot;, &quot;lineCap&quot;: &quot;round&quot;, &quot;lineJoin&quot;: &quot;round&quot;, &quot;opacity&quot;: 1.0, &quot;radius&quot;: 5, &quot;stroke&quot;: true, &quot;weight&quot;: 8}\n",
       "            ).addTo(map_dd00192527198ac46908238f5c58ad72);\n",
       "        \n",
       "    \n",
       "        var popup_7ae30960ce63ee7380ab189afe22e081 = L.popup({&quot;maxWidth&quot;: &quot;100%&quot;});\n",
       "\n",
       "        \n",
       "            \n",
       "                var html_4aa692dfbf9ec373f6536bb5cac3c914 = $(`&lt;div id=&quot;html_4aa692dfbf9ec373f6536bb5cac3c914&quot; style=&quot;width: 100.0%; height: 100.0%;&quot;&gt;start_text&lt;/div&gt;`)[0];\n",
       "                popup_7ae30960ce63ee7380ab189afe22e081.setContent(html_4aa692dfbf9ec373f6536bb5cac3c914);\n",
       "            \n",
       "        \n",
       "\n",
       "        circle_marker_6ac7c23882906e13d208dc712b36890c.bindPopup(popup_7ae30960ce63ee7380ab189afe22e081)\n",
       "        ;\n",
       "\n",
       "        \n",
       "    \n",
       "    \n",
       "            var marker_3f31e0741479a7ac902e141cf415f5d5 = L.marker(\n",
       "                [-37.8353532, 144.9703733],\n",
       "                {&quot;color&quot;: &quot;red&quot;, &quot;radius&quot;: 2, &quot;weight&quot;: 5}\n",
       "            ).addTo(map_dd00192527198ac46908238f5c58ad72);\n",
       "        \n",
       "    \n",
       "        var popup_6ebec811720214b04b34ebc469861e9d = L.popup({&quot;maxWidth&quot;: &quot;100%&quot;});\n",
       "\n",
       "        \n",
       "            \n",
       "                var html_d36bac7ac026439b03071173a394efd8 = $(`&lt;div id=&quot;html_d36bac7ac026439b03071173a394efd8&quot; style=&quot;width: 100.0%; height: 100.0%;&quot;&gt;dest_text&lt;/div&gt;`)[0];\n",
       "                popup_6ebec811720214b04b34ebc469861e9d.setContent(html_d36bac7ac026439b03071173a394efd8);\n",
       "            \n",
       "        \n",
       "\n",
       "        marker_3f31e0741479a7ac902e141cf415f5d5.bindPopup(popup_6ebec811720214b04b34ebc469861e9d)\n",
       "        ;\n",
       "\n",
       "        \n",
       "    \n",
       "&lt;/script&gt;\n",
       "&lt;/html&gt;\" style=\"position:absolute;width:100%;height:100%;left:0;top:0;border:none !important;\" allowfullscreen webkitallowfullscreen mozallowfullscreen></iframe></div></div>"
      ],
      "text/plain": [
       "<folium.folium.Map at 0x15eb4ba50>"
      ]
     },
     "execution_count": 7,
     "metadata": {},
     "output_type": "execute_result"
    }
   ],
   "source": [
    "\n",
    "_, bikelanes_graph = create_bikelane_network()\n",
    "_, allroads_graph = create_all_roads_network()\n",
    "start_tuple = (144.9627652,-37.8102361)\n",
    "destination_tuple = (144.9703733,-37.8353532) \n",
    "\n",
    "\n",
    "# start_tuple = (144.9512, -37.796)\n",
    "# destination_tuple = (144.98818764532,-37.814201226257) \n",
    "\n",
    "fig, route_distance = blue_route(start_tuple, destination_tuple, bikelanes_graph,allroads_graph)\n",
    "average_speed = 15\n",
    "average_time = route_distance/average_speed\n",
    "print(f'Route distance: {round(route_distance,2)} km,\\nTime to reach: {round(average_time*60,1)} min' )\n",
    "fig"
   ]
  },
  {
   "cell_type": "code",
   "execution_count": 60,
   "metadata": {},
   "outputs": [],
   "source": [
    "\n",
    "def colored_route(start_point, end_point, bikelane_network, all_roads_network):\n",
    "    G = bikelane_network\n",
    "    G2 = all_roads_network\n",
    "    destination_text = 'dest_text'\n",
    "    start_text = 'start_text'\n",
    "    # Create a map\n",
    "    accessToken= 'vJATUvPkKU7abTaQMSHw2p9x0jpRE1EcXBTlkPfKH7zeLdtwpN8LyDjoQEXRFjKr'\n",
    "    tiles = f'https://tile.jawg.io/jawg-terrain/{{z}}/{{x}}/{{y}}{{r}}.png?access-token={accessToken}'\n",
    "    attr = \t'<a href=\"https://jawg.io\" title=\"Tiles Courtesy of Jawg Maps\" target=\"_blank\">&copy; <b>Jawg</b>Maps</a> &copy; <a href=\"https://www.openstreetmap.org/copyright\">OpenStreetMap</a> contributors',\n",
    "\n",
    "    map_load_location = [(start_point[1]+end_point[1])/2, (start_point[0]+end_point[0])/2]\n",
    "    m = folium.Map(location=map_load_location, zoom_start=13,tiles=tiles, attr=attr)  \n",
    "    \n",
    "    MAX_DISTANCE_THRESHOLD = 1.5\n",
    "\n",
    "    # Find the nearest nodes in the graph to the start and end points\n",
    "    start_node_index = np.argmin([Point(node).distance(Point(start_point)) for node in G.nodes])\n",
    "    end_node_index = np.argmin([Point(node).distance(Point(end_point)) for node in G.nodes])\n",
    "    start_node = list(G.nodes)[start_node_index]\n",
    "    end_node = list(G.nodes)[end_node_index]\n",
    "    \n",
    "\n",
    "    # Check if the nearest nodes are within the range of the bike lanes\n",
    "    start_distance = round(haversine(start_point[1], start_point[0], start_node[1], start_node[0]),2)\n",
    "    end_distance = round(haversine(end_point[1], end_point[0], end_node[1], end_node[0]),2)\n",
    "    \n",
    "    start_far = start_distance > MAX_DISTANCE_THRESHOLD\n",
    "    end_far = end_distance > MAX_DISTANCE_THRESHOLD\n",
    "    \n",
    "    if start_far or end_far:\n",
    "        message = \"Start\" if start_far else \"End\"\n",
    "        print(f\"{message} point is out of range of bike lanes ({start_distance if start_far else end_distance} km away).\")\n",
    "\n",
    "    else:\n",
    "        try:\n",
    "            #Find the shortest path between the start and end nodes\n",
    "            path_nodes = nx.shortest_path(G, source=start_node, target=end_node)\n",
    "            path_coords = [[node[1], node[0]] for node in path_nodes]\n",
    "            total_distance = 0\n",
    "            for i in range(len(path_coords) - 1):\n",
    "                total_distance += haversine(path_coords[i+1][0],path_coords[i+1][1], path_coords[i][0],path_coords[i][1])\n",
    "\n",
    "            for node in path_nodes[:-1]:\n",
    "                next_node = path_nodes[path_nodes.index(node) + 1]\n",
    "                color = get_color(G[node][next_node]['weight'])\n",
    "                # Add the route to the map\n",
    "                folium.PolyLine(locations=[(node[1], node[0]), (next_node[1], next_node[0])], color=color, weight=10).add_to(m)\n",
    "            # Add a dotted line between start_point and nearest bike lane node\n",
    "            nearest_node = start_node\n",
    "            if start_distance <= MAX_DISTANCE_THRESHOLD:\n",
    "                \n",
    "                folium.PolyLine(locations=[(start_point[1], start_point[0]), (nearest_node[1], nearest_node[0])], color='black', weight=5, dash_array='5,5').add_to(m)\n",
    "            \n",
    "            if end_distance <= MAX_DISTANCE_THRESHOLD:\n",
    "                \n",
    "                folium.PolyLine(locations=[(end_point[1], end_point[0]), (end_node[1], end_node[0])], color='black', weight=5, dash_array='5,5').add_to(m)\n",
    "\n",
    "                    \n",
    "        except nx.NetworkXNoPath:\n",
    "           \n",
    "            # Display a square area around the start and end points\n",
    "            print(\"There will be breaks in bicycle lanes.\")\n",
    "            start_node_index2 = np.argmin([Point(node).distance(Point(start_point)) for node in G2.nodes])\n",
    "            end_node_index2 = np.argmin([Point(node).distance(Point(end_point)) for node in G2.nodes])\n",
    "            start_node2 = list(G2.nodes)[start_node_index2]\n",
    "            end_node2 = list(G2.nodes)[end_node_index2]\n",
    "            \n",
    "            # Find the shortest path between the start and end nodes\n",
    "            path_nodes = nx.shortest_path(G2, source=start_node2, target=end_node2)\n",
    "            \n",
    "            path_coords = [[node[1], node[0]] for node in path_nodes]\n",
    "            total_distance = 0\n",
    "            for i in range(len(path_coords) - 1):\n",
    "                total_distance += haversine(path_coords[i+1][0],path_coords[i+1][1], path_coords[i][0],path_coords[i][1])\n",
    "\n",
    "            # Add the route to the map\n",
    "            colors = []\n",
    "            for node in path_nodes[:-1]:\n",
    "                next_node = path_nodes[path_nodes.index(node) + 1]\n",
    "                color = get_color(G2[node][next_node]['weight'])\n",
    "                colors.append(color)\n",
    "                # Add the route to the map\n",
    "                folium.PolyLine(locations=[(node[1], node[0]), (next_node[1], next_node[0])], color=color, weight=10).add_to(m)\n",
    "            \n",
    "            # Add a dotted line between start_point and nearest bike lane node\n",
    "            # Check if the nearest nodes are within the range of the bike lanes\n",
    "            start_distance = round(haversine(start_point[1], start_point[0], start_node2[1], start_node2[0]),2)\n",
    "            end_distance = round(haversine(end_point[1], end_point[0], end_node2[1], end_node2[0]),2)\n",
    "    \n",
    "            nearest_node = start_node2\n",
    "            if start_distance <= MAX_DISTANCE_THRESHOLD:\n",
    "                \n",
    "                folium.PolyLine(locations=[(start_point[1], start_point[0]), (nearest_node[1], nearest_node[0])], color='black', weight=5, dash_array='5,5').add_to(m)\n",
    "            \n",
    "            if end_distance <= MAX_DISTANCE_THRESHOLD:\n",
    "                \n",
    "                folium.PolyLine(locations=[(end_point[1], end_point[0]), (end_node2[1], end_node2[0])], color='black', weight=5, dash_array='5,5').add_to(m)\n",
    "\n",
    "            \n",
    "            \n",
    "                \n",
    "    \n",
    "    folium.CircleMarker(location=(start_point[1],start_point[0]), radius=5, color='#7EA1FF', weight=8,popup=f\"{start_text}\").add_to(m)\n",
    "    folium.Marker(location=(end_point[1],end_point[0]),radius=2,color='red', weight=5,popup=f\"{destination_text}\").add_to(m)        \n",
    "    \n",
    "    legend_html = '''\n",
    "     <div style=\"position: fixed; \n",
    "     bottom: 50px; left: 100px; width: 250px; height: 100px; \n",
    "     border:2px solid grey; z-index:9999; font-size:14px;\n",
    "     background-color: rgba(255, 255, 255, 0.7);\n",
    "     \n",
    "     \">&nbsp; <strong> Accident risk</strong>   <br>\n",
    "     &nbsp; <i class=\"fa fa-minus\" style=\"color:red\"></i> <strong> High Risk </strong>(10+ accidents) <br>\n",
    "     &nbsp; <i class=\"fa fa-minus\" style=\"color:orange\"></i> <strong>Medium risk </strong> (5-10 accidents)<br>\n",
    "     &nbsp; <i class=\"fa fa-minus\" style=\"color:yellow\"></i> <strong>Low risk </strong>(1-5 accidents) <br>\n",
    "     &nbsp; <i class=\"fa fa-minus\" style=\"color:green\"></i> <strong>No accidents </strong> \n",
    "      </div>\n",
    "     '''\n",
    "\n",
    "    m.get_root().html.add_child(folium.Element(legend_html))\n",
    "\n",
    "\n",
    "    # display map\n",
    "    return m, total_distance\n",
    "        "
   ]
  },
  {
   "cell_type": "code",
   "execution_count": 61,
   "metadata": {},
   "outputs": [
    {
     "name": "stdout",
     "output_type": "stream",
     "text": [
      "There will be breaks in bicycle lanes.\n",
      "Route distance: 3.38 km,\n",
      "Time to reach: 13.5 min\n"
     ]
    },
    {
     "data": {
      "text/html": [
       "<div style=\"width:100%;\"><div style=\"position:relative;width:100%;height:0;padding-bottom:60%;\"><span style=\"color:#565656\">Make this Notebook Trusted to load map: File -> Trust Notebook</span><iframe srcdoc=\"&lt;!DOCTYPE html&gt;\n",
       "&lt;html&gt;\n",
       "&lt;head&gt;\n",
       "    \n",
       "    &lt;meta http-equiv=&quot;content-type&quot; content=&quot;text/html; charset=UTF-8&quot; /&gt;\n",
       "    \n",
       "        &lt;script&gt;\n",
       "            L_NO_TOUCH = false;\n",
       "            L_DISABLE_3D = false;\n",
       "        &lt;/script&gt;\n",
       "    \n",
       "    &lt;style&gt;html, body {width: 100%;height: 100%;margin: 0;padding: 0;}&lt;/style&gt;\n",
       "    &lt;style&gt;#map {position:absolute;top:0;bottom:0;right:0;left:0;}&lt;/style&gt;\n",
       "    &lt;script src=&quot;https://cdn.jsdelivr.net/npm/leaflet@1.9.3/dist/leaflet.js&quot;&gt;&lt;/script&gt;\n",
       "    &lt;script src=&quot;https://code.jquery.com/jquery-1.12.4.min.js&quot;&gt;&lt;/script&gt;\n",
       "    &lt;script src=&quot;https://cdn.jsdelivr.net/npm/bootstrap@5.2.2/dist/js/bootstrap.bundle.min.js&quot;&gt;&lt;/script&gt;\n",
       "    &lt;script src=&quot;https://cdnjs.cloudflare.com/ajax/libs/Leaflet.awesome-markers/2.0.2/leaflet.awesome-markers.js&quot;&gt;&lt;/script&gt;\n",
       "    &lt;link rel=&quot;stylesheet&quot; href=&quot;https://cdn.jsdelivr.net/npm/leaflet@1.9.3/dist/leaflet.css&quot;/&gt;\n",
       "    &lt;link rel=&quot;stylesheet&quot; href=&quot;https://cdn.jsdelivr.net/npm/bootstrap@5.2.2/dist/css/bootstrap.min.css&quot;/&gt;\n",
       "    &lt;link rel=&quot;stylesheet&quot; href=&quot;https://netdna.bootstrapcdn.com/bootstrap/3.0.0/css/bootstrap.min.css&quot;/&gt;\n",
       "    &lt;link rel=&quot;stylesheet&quot; href=&quot;https://cdn.jsdelivr.net/npm/@fortawesome/fontawesome-free@6.2.0/css/all.min.css&quot;/&gt;\n",
       "    &lt;link rel=&quot;stylesheet&quot; href=&quot;https://cdnjs.cloudflare.com/ajax/libs/Leaflet.awesome-markers/2.0.2/leaflet.awesome-markers.css&quot;/&gt;\n",
       "    &lt;link rel=&quot;stylesheet&quot; href=&quot;https://cdn.jsdelivr.net/gh/python-visualization/folium/folium/templates/leaflet.awesome.rotate.min.css&quot;/&gt;\n",
       "    \n",
       "            &lt;meta name=&quot;viewport&quot; content=&quot;width=device-width,\n",
       "                initial-scale=1.0, maximum-scale=1.0, user-scalable=no&quot; /&gt;\n",
       "            &lt;style&gt;\n",
       "                #map_f1a80e88c84cb76166b6aaa3e5941c99 {\n",
       "                    position: relative;\n",
       "                    width: 100.0%;\n",
       "                    height: 100.0%;\n",
       "                    left: 0.0%;\n",
       "                    top: 0.0%;\n",
       "                }\n",
       "                .leaflet-container { font-size: 1rem; }\n",
       "            &lt;/style&gt;\n",
       "        \n",
       "&lt;/head&gt;\n",
       "&lt;body&gt;\n",
       "    \n",
       "    \n",
       "     &lt;div style=&quot;position: fixed; \n",
       "     bottom: 50px; left: 100px; width: 250px; height: 100px; \n",
       "     border:2px solid grey; z-index:9999; font-size:14px;\n",
       "     background-color: rgba(255, 255, 255, 0.7);\n",
       "     \n",
       "     &quot;&gt;&amp;nbsp; &lt;strong&gt; Accident risk&lt;/strong&gt;   &lt;br&gt;\n",
       "     &amp;nbsp; &lt;i class=&quot;fa fa-minus&quot; style=&quot;color:red&quot;&gt;&lt;/i&gt; &lt;strong&gt; High Risk &lt;/strong&gt;(10+ accidents) &lt;br&gt;\n",
       "     &amp;nbsp; &lt;i class=&quot;fa fa-minus&quot; style=&quot;color:orange&quot;&gt;&lt;/i&gt; &lt;strong&gt;Medium risk &lt;/strong&gt; (5-10 accidents)&lt;br&gt;\n",
       "     &amp;nbsp; &lt;i class=&quot;fa fa-minus&quot; style=&quot;color:yellow&quot;&gt;&lt;/i&gt; &lt;strong&gt;Low risk &lt;/strong&gt;(1-5 accidents) &lt;br&gt;\n",
       "     &amp;nbsp; &lt;i class=&quot;fa fa-minus&quot; style=&quot;color:green&quot;&gt;&lt;/i&gt; &lt;strong&gt;No accidents &lt;/strong&gt; \n",
       "      &lt;/div&gt;\n",
       "     \n",
       "    \n",
       "            &lt;div class=&quot;folium-map&quot; id=&quot;map_f1a80e88c84cb76166b6aaa3e5941c99&quot; &gt;&lt;/div&gt;\n",
       "        \n",
       "&lt;/body&gt;\n",
       "&lt;script&gt;\n",
       "    \n",
       "    \n",
       "            var map_f1a80e88c84cb76166b6aaa3e5941c99 = L.map(\n",
       "                &quot;map_f1a80e88c84cb76166b6aaa3e5941c99&quot;,\n",
       "                {\n",
       "                    center: [-37.82279465, 144.96656925000002],\n",
       "                    crs: L.CRS.EPSG3857,\n",
       "                    zoom: 13,\n",
       "                    zoomControl: true,\n",
       "                    preferCanvas: false,\n",
       "                }\n",
       "            );\n",
       "\n",
       "            \n",
       "\n",
       "        \n",
       "    \n",
       "            var tile_layer_9fefbd0582e4ec6cbbf1d3b5f8d1cf3c = L.tileLayer(\n",
       "                &quot;https://tile.jawg.io/jawg-terrain/{z}/{x}/{y}{r}.png?access-token=vJATUvPkKU7abTaQMSHw2p9x0jpRE1EcXBTlkPfKH7zeLdtwpN8LyDjoQEXRFjKr&quot;,\n",
       "                {&quot;attribution&quot;: [&quot;\\u003ca href=\\&quot;https://jawg.io\\&quot; title=\\&quot;Tiles Courtesy of Jawg Maps\\&quot; target=\\&quot;_blank\\&quot;\\u003e\\u0026copy; \\u003cb\\u003eJawg\\u003c/b\\u003eMaps\\u003c/a\\u003e \\u0026copy; \\u003ca href=\\&quot;https://www.openstreetmap.org/copyright\\&quot;\\u003eOpenStreetMap\\u003c/a\\u003e contributors&quot;], &quot;detectRetina&quot;: false, &quot;maxNativeZoom&quot;: 18, &quot;maxZoom&quot;: 18, &quot;minZoom&quot;: 0, &quot;noWrap&quot;: false, &quot;opacity&quot;: 1, &quot;subdomains&quot;: &quot;abc&quot;, &quot;tms&quot;: false}\n",
       "            ).addTo(map_f1a80e88c84cb76166b6aaa3e5941c99);\n",
       "        \n",
       "    \n",
       "            var poly_line_099f105bf295416e4229a7346cb50bb7 = L.polyline(\n",
       "                [[-37.8100364701, 144.9626836657], [-37.8100226645, 144.9627311434]],\n",
       "                {&quot;bubblingMouseEvents&quot;: true, &quot;color&quot;: &quot;green&quot;, &quot;dashArray&quot;: null, &quot;dashOffset&quot;: null, &quot;fill&quot;: false, &quot;fillColor&quot;: &quot;green&quot;, &quot;fillOpacity&quot;: 0.2, &quot;fillRule&quot;: &quot;evenodd&quot;, &quot;lineCap&quot;: &quot;round&quot;, &quot;lineJoin&quot;: &quot;round&quot;, &quot;noClip&quot;: false, &quot;opacity&quot;: 1.0, &quot;smoothFactor&quot;: 1.0, &quot;stroke&quot;: true, &quot;weight&quot;: 10}\n",
       "            ).addTo(map_f1a80e88c84cb76166b6aaa3e5941c99);\n",
       "        \n",
       "    \n",
       "            var poly_line_9663ac22bb331abee4b54777a2782a3d = L.polyline(\n",
       "                [[-37.8100226645, 144.9627311434], [-37.8100221159, 144.9627330304]],\n",
       "                {&quot;bubblingMouseEvents&quot;: true, &quot;color&quot;: &quot;green&quot;, &quot;dashArray&quot;: null, &quot;dashOffset&quot;: null, &quot;fill&quot;: false, &quot;fillColor&quot;: &quot;green&quot;, &quot;fillOpacity&quot;: 0.2, &quot;fillRule&quot;: &quot;evenodd&quot;, &quot;lineCap&quot;: &quot;round&quot;, &quot;lineJoin&quot;: &quot;round&quot;, &quot;noClip&quot;: false, &quot;opacity&quot;: 1.0, &quot;smoothFactor&quot;: 1.0, &quot;stroke&quot;: true, &quot;weight&quot;: 10}\n",
       "            ).addTo(map_f1a80e88c84cb76166b6aaa3e5941c99);\n",
       "        \n",
       "    \n",
       "            var poly_line_7bdd72d39a6de56ea1793d7ed7ce23fc = L.polyline(\n",
       "                [[-37.8100221159, 144.9627330304], [-37.8100133171, 144.962764768]],\n",
       "                {&quot;bubblingMouseEvents&quot;: true, &quot;color&quot;: &quot;green&quot;, &quot;dashArray&quot;: null, &quot;dashOffset&quot;: null, &quot;fill&quot;: false, &quot;fillColor&quot;: &quot;green&quot;, &quot;fillOpacity&quot;: 0.2, &quot;fillRule&quot;: &quot;evenodd&quot;, &quot;lineCap&quot;: &quot;round&quot;, &quot;lineJoin&quot;: &quot;round&quot;, &quot;noClip&quot;: false, &quot;opacity&quot;: 1.0, &quot;smoothFactor&quot;: 1.0, &quot;stroke&quot;: true, &quot;weight&quot;: 10}\n",
       "            ).addTo(map_f1a80e88c84cb76166b6aaa3e5941c99);\n",
       "        \n",
       "    \n",
       "            var poly_line_75b6b84599e6c3c8bb7a83d0b0048380 = L.polyline(\n",
       "                [[-37.8100133171, 144.962764768], [-37.8100075652, 144.9627855163]],\n",
       "                {&quot;bubblingMouseEvents&quot;: true, &quot;color&quot;: &quot;green&quot;, &quot;dashArray&quot;: null, &quot;dashOffset&quot;: null, &quot;fill&quot;: false, &quot;fillColor&quot;: &quot;green&quot;, &quot;fillOpacity&quot;: 0.2, &quot;fillRule&quot;: &quot;evenodd&quot;, &quot;lineCap&quot;: &quot;round&quot;, &quot;lineJoin&quot;: &quot;round&quot;, &quot;noClip&quot;: false, &quot;opacity&quot;: 1.0, &quot;smoothFactor&quot;: 1.0, &quot;stroke&quot;: true, &quot;weight&quot;: 10}\n",
       "            ).addTo(map_f1a80e88c84cb76166b6aaa3e5941c99);\n",
       "        \n",
       "    \n",
       "            var poly_line_594aa134f4b6cdf389c39d18e79d173b = L.polyline(\n",
       "                [[-37.8100075652, 144.9627855163], [-37.8099859613, 144.962863442]],\n",
       "                {&quot;bubblingMouseEvents&quot;: true, &quot;color&quot;: &quot;green&quot;, &quot;dashArray&quot;: null, &quot;dashOffset&quot;: null, &quot;fill&quot;: false, &quot;fillColor&quot;: &quot;green&quot;, &quot;fillOpacity&quot;: 0.2, &quot;fillRule&quot;: &quot;evenodd&quot;, &quot;lineCap&quot;: &quot;round&quot;, &quot;lineJoin&quot;: &quot;round&quot;, &quot;noClip&quot;: false, &quot;opacity&quot;: 1.0, &quot;smoothFactor&quot;: 1.0, &quot;stroke&quot;: true, &quot;weight&quot;: 10}\n",
       "            ).addTo(map_f1a80e88c84cb76166b6aaa3e5941c99);\n",
       "        \n",
       "    \n",
       "            var poly_line_032547fc310b0df2f693250df901d0ab = L.polyline(\n",
       "                [[-37.8099859613, 144.962863442], [-37.8099738806, 144.9629070182]],\n",
       "                {&quot;bubblingMouseEvents&quot;: true, &quot;color&quot;: &quot;green&quot;, &quot;dashArray&quot;: null, &quot;dashOffset&quot;: null, &quot;fill&quot;: false, &quot;fillColor&quot;: &quot;green&quot;, &quot;fillOpacity&quot;: 0.2, &quot;fillRule&quot;: &quot;evenodd&quot;, &quot;lineCap&quot;: &quot;round&quot;, &quot;lineJoin&quot;: &quot;round&quot;, &quot;noClip&quot;: false, &quot;opacity&quot;: 1.0, &quot;smoothFactor&quot;: 1.0, &quot;stroke&quot;: true, &quot;weight&quot;: 10}\n",
       "            ).addTo(map_f1a80e88c84cb76166b6aaa3e5941c99);\n",
       "        \n",
       "    \n",
       "            var poly_line_da7f81df77772c3131ae11e985289fb5 = L.polyline(\n",
       "                [[-37.8099738806, 144.9629070182], [-37.809973515, 144.9629083357]],\n",
       "                {&quot;bubblingMouseEvents&quot;: true, &quot;color&quot;: &quot;green&quot;, &quot;dashArray&quot;: null, &quot;dashOffset&quot;: null, &quot;fill&quot;: false, &quot;fillColor&quot;: &quot;green&quot;, &quot;fillOpacity&quot;: 0.2, &quot;fillRule&quot;: &quot;evenodd&quot;, &quot;lineCap&quot;: &quot;round&quot;, &quot;lineJoin&quot;: &quot;round&quot;, &quot;noClip&quot;: false, &quot;opacity&quot;: 1.0, &quot;smoothFactor&quot;: 1.0, &quot;stroke&quot;: true, &quot;weight&quot;: 10}\n",
       "            ).addTo(map_f1a80e88c84cb76166b6aaa3e5941c99);\n",
       "        \n",
       "    \n",
       "            var poly_line_984e4c33de4ced9b7c0073d9bfe74548 = L.polyline(\n",
       "                [[-37.809973515, 144.9629083357], [-37.80997342, 144.9629086802]],\n",
       "                {&quot;bubblingMouseEvents&quot;: true, &quot;color&quot;: &quot;green&quot;, &quot;dashArray&quot;: null, &quot;dashOffset&quot;: null, &quot;fill&quot;: false, &quot;fillColor&quot;: &quot;green&quot;, &quot;fillOpacity&quot;: 0.2, &quot;fillRule&quot;: &quot;evenodd&quot;, &quot;lineCap&quot;: &quot;round&quot;, &quot;lineJoin&quot;: &quot;round&quot;, &quot;noClip&quot;: false, &quot;opacity&quot;: 1.0, &quot;smoothFactor&quot;: 1.0, &quot;stroke&quot;: true, &quot;weight&quot;: 10}\n",
       "            ).addTo(map_f1a80e88c84cb76166b6aaa3e5941c99);\n",
       "        \n",
       "    \n",
       "            var poly_line_595dd07e1b7ca1d60ecd431289b6e05d = L.polyline(\n",
       "                [[-37.80997342, 144.9629086802], [-37.8099718312, 144.9629144101]],\n",
       "                {&quot;bubblingMouseEvents&quot;: true, &quot;color&quot;: &quot;green&quot;, &quot;dashArray&quot;: null, &quot;dashOffset&quot;: null, &quot;fill&quot;: false, &quot;fillColor&quot;: &quot;green&quot;, &quot;fillOpacity&quot;: 0.2, &quot;fillRule&quot;: &quot;evenodd&quot;, &quot;lineCap&quot;: &quot;round&quot;, &quot;lineJoin&quot;: &quot;round&quot;, &quot;noClip&quot;: false, &quot;opacity&quot;: 1.0, &quot;smoothFactor&quot;: 1.0, &quot;stroke&quot;: true, &quot;weight&quot;: 10}\n",
       "            ).addTo(map_f1a80e88c84cb76166b6aaa3e5941c99);\n",
       "        \n",
       "    \n",
       "            var poly_line_b8f6b209f2149eb09e856f040361c02e = L.polyline(\n",
       "                [[-37.8099718312, 144.9629144101], [-37.8099572898, 144.9629668649]],\n",
       "                {&quot;bubblingMouseEvents&quot;: true, &quot;color&quot;: &quot;green&quot;, &quot;dashArray&quot;: null, &quot;dashOffset&quot;: null, &quot;fill&quot;: false, &quot;fillColor&quot;: &quot;green&quot;, &quot;fillOpacity&quot;: 0.2, &quot;fillRule&quot;: &quot;evenodd&quot;, &quot;lineCap&quot;: &quot;round&quot;, &quot;lineJoin&quot;: &quot;round&quot;, &quot;noClip&quot;: false, &quot;opacity&quot;: 1.0, &quot;smoothFactor&quot;: 1.0, &quot;stroke&quot;: true, &quot;weight&quot;: 10}\n",
       "            ).addTo(map_f1a80e88c84cb76166b6aaa3e5941c99);\n",
       "        \n",
       "    \n",
       "            var poly_line_5bcdd96e1d31d2814b4108bed5076c05 = L.polyline(\n",
       "                [[-37.8099572898, 144.9629668649], [-37.8099549487, 144.9629753098]],\n",
       "                {&quot;bubblingMouseEvents&quot;: true, &quot;color&quot;: &quot;green&quot;, &quot;dashArray&quot;: null, &quot;dashOffset&quot;: null, &quot;fill&quot;: false, &quot;fillColor&quot;: &quot;green&quot;, &quot;fillOpacity&quot;: 0.2, &quot;fillRule&quot;: &quot;evenodd&quot;, &quot;lineCap&quot;: &quot;round&quot;, &quot;lineJoin&quot;: &quot;round&quot;, &quot;noClip&quot;: false, &quot;opacity&quot;: 1.0, &quot;smoothFactor&quot;: 1.0, &quot;stroke&quot;: true, &quot;weight&quot;: 10}\n",
       "            ).addTo(map_f1a80e88c84cb76166b6aaa3e5941c99);\n",
       "        \n",
       "    \n",
       "            var poly_line_a27d719e750a58949840c87cc3b3d72c = L.polyline(\n",
       "                [[-37.8099549487, 144.9629753098], [-37.8098733352, 144.9632367175]],\n",
       "                {&quot;bubblingMouseEvents&quot;: true, &quot;color&quot;: &quot;green&quot;, &quot;dashArray&quot;: null, &quot;dashOffset&quot;: null, &quot;fill&quot;: false, &quot;fillColor&quot;: &quot;green&quot;, &quot;fillOpacity&quot;: 0.2, &quot;fillRule&quot;: &quot;evenodd&quot;, &quot;lineCap&quot;: &quot;round&quot;, &quot;lineJoin&quot;: &quot;round&quot;, &quot;noClip&quot;: false, &quot;opacity&quot;: 1.0, &quot;smoothFactor&quot;: 1.0, &quot;stroke&quot;: true, &quot;weight&quot;: 10}\n",
       "            ).addTo(map_f1a80e88c84cb76166b6aaa3e5941c99);\n",
       "        \n",
       "    \n",
       "            var poly_line_424f5b216865810091a3e8422b2c58b6 = L.polyline(\n",
       "                [[-37.8098733352, 144.9632367175], [-37.8098037113, 144.9634750935]],\n",
       "                {&quot;bubblingMouseEvents&quot;: true, &quot;color&quot;: &quot;green&quot;, &quot;dashArray&quot;: null, &quot;dashOffset&quot;: null, &quot;fill&quot;: false, &quot;fillColor&quot;: &quot;green&quot;, &quot;fillOpacity&quot;: 0.2, &quot;fillRule&quot;: &quot;evenodd&quot;, &quot;lineCap&quot;: &quot;round&quot;, &quot;lineJoin&quot;: &quot;round&quot;, &quot;noClip&quot;: false, &quot;opacity&quot;: 1.0, &quot;smoothFactor&quot;: 1.0, &quot;stroke&quot;: true, &quot;weight&quot;: 10}\n",
       "            ).addTo(map_f1a80e88c84cb76166b6aaa3e5941c99);\n",
       "        \n",
       "    \n",
       "            var poly_line_2b588681519f2bd60de9b153f8641885 = L.polyline(\n",
       "                [[-37.8098037113, 144.9634750935], [-37.8097392767, 144.9636956966]],\n",
       "                {&quot;bubblingMouseEvents&quot;: true, &quot;color&quot;: &quot;green&quot;, &quot;dashArray&quot;: null, &quot;dashOffset&quot;: null, &quot;fill&quot;: false, &quot;fillColor&quot;: &quot;green&quot;, &quot;fillOpacity&quot;: 0.2, &quot;fillRule&quot;: &quot;evenodd&quot;, &quot;lineCap&quot;: &quot;round&quot;, &quot;lineJoin&quot;: &quot;round&quot;, &quot;noClip&quot;: false, &quot;opacity&quot;: 1.0, &quot;smoothFactor&quot;: 1.0, &quot;stroke&quot;: true, &quot;weight&quot;: 10}\n",
       "            ).addTo(map_f1a80e88c84cb76166b6aaa3e5941c99);\n",
       "        \n",
       "    \n",
       "            var poly_line_ffd4accaa64b35e8a1bc4fbae4bb05c7 = L.polyline(\n",
       "                [[-37.8097392767, 144.9636956966], [-37.8097368234, 144.9637040684]],\n",
       "                {&quot;bubblingMouseEvents&quot;: true, &quot;color&quot;: &quot;green&quot;, &quot;dashArray&quot;: null, &quot;dashOffset&quot;: null, &quot;fill&quot;: false, &quot;fillColor&quot;: &quot;green&quot;, &quot;fillOpacity&quot;: 0.2, &quot;fillRule&quot;: &quot;evenodd&quot;, &quot;lineCap&quot;: &quot;round&quot;, &quot;lineJoin&quot;: &quot;round&quot;, &quot;noClip&quot;: false, &quot;opacity&quot;: 1.0, &quot;smoothFactor&quot;: 1.0, &quot;stroke&quot;: true, &quot;weight&quot;: 10}\n",
       "            ).addTo(map_f1a80e88c84cb76166b6aaa3e5941c99);\n",
       "        \n",
       "    \n",
       "            var poly_line_9fb4549105249bc5ee11e773b58a6e99 = L.polyline(\n",
       "                [[-37.8097368234, 144.9637040684], [-37.8097054109, 144.9638112563]],\n",
       "                {&quot;bubblingMouseEvents&quot;: true, &quot;color&quot;: &quot;green&quot;, &quot;dashArray&quot;: null, &quot;dashOffset&quot;: null, &quot;fill&quot;: false, &quot;fillColor&quot;: &quot;green&quot;, &quot;fillOpacity&quot;: 0.2, &quot;fillRule&quot;: &quot;evenodd&quot;, &quot;lineCap&quot;: &quot;round&quot;, &quot;lineJoin&quot;: &quot;round&quot;, &quot;noClip&quot;: false, &quot;opacity&quot;: 1.0, &quot;smoothFactor&quot;: 1.0, &quot;stroke&quot;: true, &quot;weight&quot;: 10}\n",
       "            ).addTo(map_f1a80e88c84cb76166b6aaa3e5941c99);\n",
       "        \n",
       "    \n",
       "            var poly_line_cbb97b64daceb58522cba34b2cd16056 = L.polyline(\n",
       "                [[-37.8097054109, 144.9638112563], [-37.8096712045, 144.9639279749]],\n",
       "                {&quot;bubblingMouseEvents&quot;: true, &quot;color&quot;: &quot;green&quot;, &quot;dashArray&quot;: null, &quot;dashOffset&quot;: null, &quot;fill&quot;: false, &quot;fillColor&quot;: &quot;green&quot;, &quot;fillOpacity&quot;: 0.2, &quot;fillRule&quot;: &quot;evenodd&quot;, &quot;lineCap&quot;: &quot;round&quot;, &quot;lineJoin&quot;: &quot;round&quot;, &quot;noClip&quot;: false, &quot;opacity&quot;: 1.0, &quot;smoothFactor&quot;: 1.0, &quot;stroke&quot;: true, &quot;weight&quot;: 10}\n",
       "            ).addTo(map_f1a80e88c84cb76166b6aaa3e5941c99);\n",
       "        \n",
       "    \n",
       "            var poly_line_947b8176bda9f8951559babd01f80a78 = L.polyline(\n",
       "                [[-37.8096712045, 144.9639279749], [-37.8097101383, 144.9639433653]],\n",
       "                {&quot;bubblingMouseEvents&quot;: true, &quot;color&quot;: &quot;green&quot;, &quot;dashArray&quot;: null, &quot;dashOffset&quot;: null, &quot;fill&quot;: false, &quot;fillColor&quot;: &quot;green&quot;, &quot;fillOpacity&quot;: 0.2, &quot;fillRule&quot;: &quot;evenodd&quot;, &quot;lineCap&quot;: &quot;round&quot;, &quot;lineJoin&quot;: &quot;round&quot;, &quot;noClip&quot;: false, &quot;opacity&quot;: 1.0, &quot;smoothFactor&quot;: 1.0, &quot;stroke&quot;: true, &quot;weight&quot;: 10}\n",
       "            ).addTo(map_f1a80e88c84cb76166b6aaa3e5941c99);\n",
       "        \n",
       "    \n",
       "            var poly_line_fad13dc50e61fa85e07be9cf5b6e72c5 = L.polyline(\n",
       "                [[-37.8097101383, 144.9639433653], [-37.809747418, 144.9639581027]],\n",
       "                {&quot;bubblingMouseEvents&quot;: true, &quot;color&quot;: &quot;green&quot;, &quot;dashArray&quot;: null, &quot;dashOffset&quot;: null, &quot;fill&quot;: false, &quot;fillColor&quot;: &quot;green&quot;, &quot;fillOpacity&quot;: 0.2, &quot;fillRule&quot;: &quot;evenodd&quot;, &quot;lineCap&quot;: &quot;round&quot;, &quot;lineJoin&quot;: &quot;round&quot;, &quot;noClip&quot;: false, &quot;opacity&quot;: 1.0, &quot;smoothFactor&quot;: 1.0, &quot;stroke&quot;: true, &quot;weight&quot;: 10}\n",
       "            ).addTo(map_f1a80e88c84cb76166b6aaa3e5941c99);\n",
       "        \n",
       "    \n",
       "            var poly_line_6960d275f973ec85be2615bbe44a0042 = L.polyline(\n",
       "                [[-37.809747418, 144.9639581027], [-37.810114077, 144.9641334885]],\n",
       "                {&quot;bubblingMouseEvents&quot;: true, &quot;color&quot;: &quot;yellow&quot;, &quot;dashArray&quot;: null, &quot;dashOffset&quot;: null, &quot;fill&quot;: false, &quot;fillColor&quot;: &quot;yellow&quot;, &quot;fillOpacity&quot;: 0.2, &quot;fillRule&quot;: &quot;evenodd&quot;, &quot;lineCap&quot;: &quot;round&quot;, &quot;lineJoin&quot;: &quot;round&quot;, &quot;noClip&quot;: false, &quot;opacity&quot;: 1.0, &quot;smoothFactor&quot;: 1.0, &quot;stroke&quot;: true, &quot;weight&quot;: 10}\n",
       "            ).addTo(map_f1a80e88c84cb76166b6aaa3e5941c99);\n",
       "        \n",
       "    \n",
       "            var poly_line_a0313a6cbfb3a6d519f0a821b00dd135 = L.polyline(\n",
       "                [[-37.810114077, 144.9641334885], [-37.8104979354, 144.9643171045]],\n",
       "                {&quot;bubblingMouseEvents&quot;: true, &quot;color&quot;: &quot;green&quot;, &quot;dashArray&quot;: null, &quot;dashOffset&quot;: null, &quot;fill&quot;: false, &quot;fillColor&quot;: &quot;green&quot;, &quot;fillOpacity&quot;: 0.2, &quot;fillRule&quot;: &quot;evenodd&quot;, &quot;lineCap&quot;: &quot;round&quot;, &quot;lineJoin&quot;: &quot;round&quot;, &quot;noClip&quot;: false, &quot;opacity&quot;: 1.0, &quot;smoothFactor&quot;: 1.0, &quot;stroke&quot;: true, &quot;weight&quot;: 10}\n",
       "            ).addTo(map_f1a80e88c84cb76166b6aaa3e5941c99);\n",
       "        \n",
       "    \n",
       "            var poly_line_784b7bc4c80a4c15dd168bc0202acac5 = L.polyline(\n",
       "                [[-37.8104979354, 144.9643171045], [-37.8105141936, 144.964323672]],\n",
       "                {&quot;bubblingMouseEvents&quot;: true, &quot;color&quot;: &quot;green&quot;, &quot;dashArray&quot;: null, &quot;dashOffset&quot;: null, &quot;fill&quot;: false, &quot;fillColor&quot;: &quot;green&quot;, &quot;fillOpacity&quot;: 0.2, &quot;fillRule&quot;: &quot;evenodd&quot;, &quot;lineCap&quot;: &quot;round&quot;, &quot;lineJoin&quot;: &quot;round&quot;, &quot;noClip&quot;: false, &quot;opacity&quot;: 1.0, &quot;smoothFactor&quot;: 1.0, &quot;stroke&quot;: true, &quot;weight&quot;: 10}\n",
       "            ).addTo(map_f1a80e88c84cb76166b6aaa3e5941c99);\n",
       "        \n",
       "    \n",
       "            var poly_line_a0bd19e5ac91c90d5d3d26391841abad = L.polyline(\n",
       "                [[-37.8105141936, 144.964323672], [-37.8105576499, 144.9643412275]],\n",
       "                {&quot;bubblingMouseEvents&quot;: true, &quot;color&quot;: &quot;green&quot;, &quot;dashArray&quot;: null, &quot;dashOffset&quot;: null, &quot;fill&quot;: false, &quot;fillColor&quot;: &quot;green&quot;, &quot;fillOpacity&quot;: 0.2, &quot;fillRule&quot;: &quot;evenodd&quot;, &quot;lineCap&quot;: &quot;round&quot;, &quot;lineJoin&quot;: &quot;round&quot;, &quot;noClip&quot;: false, &quot;opacity&quot;: 1.0, &quot;smoothFactor&quot;: 1.0, &quot;stroke&quot;: true, &quot;weight&quot;: 10}\n",
       "            ).addTo(map_f1a80e88c84cb76166b6aaa3e5941c99);\n",
       "        \n",
       "    \n",
       "            var poly_line_110c27c11a66daf3453b4f014a045e18 = L.polyline(\n",
       "                [[-37.8105576499, 144.9643412275], [-37.8106024303, 144.9643593168]],\n",
       "                {&quot;bubblingMouseEvents&quot;: true, &quot;color&quot;: &quot;green&quot;, &quot;dashArray&quot;: null, &quot;dashOffset&quot;: null, &quot;fill&quot;: false, &quot;fillColor&quot;: &quot;green&quot;, &quot;fillOpacity&quot;: 0.2, &quot;fillRule&quot;: &quot;evenodd&quot;, &quot;lineCap&quot;: &quot;round&quot;, &quot;lineJoin&quot;: &quot;round&quot;, &quot;noClip&quot;: false, &quot;opacity&quot;: 1.0, &quot;smoothFactor&quot;: 1.0, &quot;stroke&quot;: true, &quot;weight&quot;: 10}\n",
       "            ).addTo(map_f1a80e88c84cb76166b6aaa3e5941c99);\n",
       "        \n",
       "    \n",
       "            var poly_line_2f616f0879f6a51ec62c0fe5eebb78a5 = L.polyline(\n",
       "                [[-37.8106024303, 144.9643593168], [-37.8106294987, 144.9643702515]],\n",
       "                {&quot;bubblingMouseEvents&quot;: true, &quot;color&quot;: &quot;green&quot;, &quot;dashArray&quot;: null, &quot;dashOffset&quot;: null, &quot;fill&quot;: false, &quot;fillColor&quot;: &quot;green&quot;, &quot;fillOpacity&quot;: 0.2, &quot;fillRule&quot;: &quot;evenodd&quot;, &quot;lineCap&quot;: &quot;round&quot;, &quot;lineJoin&quot;: &quot;round&quot;, &quot;noClip&quot;: false, &quot;opacity&quot;: 1.0, &quot;smoothFactor&quot;: 1.0, &quot;stroke&quot;: true, &quot;weight&quot;: 10}\n",
       "            ).addTo(map_f1a80e88c84cb76166b6aaa3e5941c99);\n",
       "        \n",
       "    \n",
       "            var poly_line_d86633362f231c3d1cb6d2a41b788aa9 = L.polyline(\n",
       "                [[-37.8106294987, 144.9643702515], [-37.8107095939, 144.9644070798]],\n",
       "                {&quot;bubblingMouseEvents&quot;: true, &quot;color&quot;: &quot;green&quot;, &quot;dashArray&quot;: null, &quot;dashOffset&quot;: null, &quot;fill&quot;: false, &quot;fillColor&quot;: &quot;green&quot;, &quot;fillOpacity&quot;: 0.2, &quot;fillRule&quot;: &quot;evenodd&quot;, &quot;lineCap&quot;: &quot;round&quot;, &quot;lineJoin&quot;: &quot;round&quot;, &quot;noClip&quot;: false, &quot;opacity&quot;: 1.0, &quot;smoothFactor&quot;: 1.0, &quot;stroke&quot;: true, &quot;weight&quot;: 10}\n",
       "            ).addTo(map_f1a80e88c84cb76166b6aaa3e5941c99);\n",
       "        \n",
       "    \n",
       "            var poly_line_0fd49042fd34f9a61bfc62fb0be27fd0 = L.polyline(\n",
       "                [[-37.8107095939, 144.9644070798], [-37.8107806269, 144.9644397407]],\n",
       "                {&quot;bubblingMouseEvents&quot;: true, &quot;color&quot;: &quot;green&quot;, &quot;dashArray&quot;: null, &quot;dashOffset&quot;: null, &quot;fill&quot;: false, &quot;fillColor&quot;: &quot;green&quot;, &quot;fillOpacity&quot;: 0.2, &quot;fillRule&quot;: &quot;evenodd&quot;, &quot;lineCap&quot;: &quot;round&quot;, &quot;lineJoin&quot;: &quot;round&quot;, &quot;noClip&quot;: false, &quot;opacity&quot;: 1.0, &quot;smoothFactor&quot;: 1.0, &quot;stroke&quot;: true, &quot;weight&quot;: 10}\n",
       "            ).addTo(map_f1a80e88c84cb76166b6aaa3e5941c99);\n",
       "        \n",
       "    \n",
       "            var poly_line_de563652b75b9d52b05b5bb7b3923e00 = L.polyline(\n",
       "                [[-37.8107806269, 144.9644397407], [-37.8108683744, 144.9644800881]],\n",
       "                {&quot;bubblingMouseEvents&quot;: true, &quot;color&quot;: &quot;green&quot;, &quot;dashArray&quot;: null, &quot;dashOffset&quot;: null, &quot;fill&quot;: false, &quot;fillColor&quot;: &quot;green&quot;, &quot;fillOpacity&quot;: 0.2, &quot;fillRule&quot;: &quot;evenodd&quot;, &quot;lineCap&quot;: &quot;round&quot;, &quot;lineJoin&quot;: &quot;round&quot;, &quot;noClip&quot;: false, &quot;opacity&quot;: 1.0, &quot;smoothFactor&quot;: 1.0, &quot;stroke&quot;: true, &quot;weight&quot;: 10}\n",
       "            ).addTo(map_f1a80e88c84cb76166b6aaa3e5941c99);\n",
       "        \n",
       "    \n",
       "            var poly_line_61619a0802694f3d308aa81fb2f1d9b0 = L.polyline(\n",
       "                [[-37.8108683744, 144.9644800881], [-37.8111423568, 144.9646060679]],\n",
       "                {&quot;bubblingMouseEvents&quot;: true, &quot;color&quot;: &quot;yellow&quot;, &quot;dashArray&quot;: null, &quot;dashOffset&quot;: null, &quot;fill&quot;: false, &quot;fillColor&quot;: &quot;yellow&quot;, &quot;fillOpacity&quot;: 0.2, &quot;fillRule&quot;: &quot;evenodd&quot;, &quot;lineCap&quot;: &quot;round&quot;, &quot;lineJoin&quot;: &quot;round&quot;, &quot;noClip&quot;: false, &quot;opacity&quot;: 1.0, &quot;smoothFactor&quot;: 1.0, &quot;stroke&quot;: true, &quot;weight&quot;: 10}\n",
       "            ).addTo(map_f1a80e88c84cb76166b6aaa3e5941c99);\n",
       "        \n",
       "    \n",
       "            var poly_line_7aa9bcab0607c1a4d90aa10bdc68e8b9 = L.polyline(\n",
       "                [[-37.8111423568, 144.9646060679], [-37.811243921, 144.9646527676]],\n",
       "                {&quot;bubblingMouseEvents&quot;: true, &quot;color&quot;: &quot;yellow&quot;, &quot;dashArray&quot;: null, &quot;dashOffset&quot;: null, &quot;fill&quot;: false, &quot;fillColor&quot;: &quot;yellow&quot;, &quot;fillOpacity&quot;: 0.2, &quot;fillRule&quot;: &quot;evenodd&quot;, &quot;lineCap&quot;: &quot;round&quot;, &quot;lineJoin&quot;: &quot;round&quot;, &quot;noClip&quot;: false, &quot;opacity&quot;: 1.0, &quot;smoothFactor&quot;: 1.0, &quot;stroke&quot;: true, &quot;weight&quot;: 10}\n",
       "            ).addTo(map_f1a80e88c84cb76166b6aaa3e5941c99);\n",
       "        \n",
       "    \n",
       "            var poly_line_251b642d2b2c7a25f6a03808d060a13b = L.polyline(\n",
       "                [[-37.811243921, 144.9646527676], [-37.8113968468, 144.9647230855]],\n",
       "                {&quot;bubblingMouseEvents&quot;: true, &quot;color&quot;: &quot;yellow&quot;, &quot;dashArray&quot;: null, &quot;dashOffset&quot;: null, &quot;fill&quot;: false, &quot;fillColor&quot;: &quot;yellow&quot;, &quot;fillOpacity&quot;: 0.2, &quot;fillRule&quot;: &quot;evenodd&quot;, &quot;lineCap&quot;: &quot;round&quot;, &quot;lineJoin&quot;: &quot;round&quot;, &quot;noClip&quot;: false, &quot;opacity&quot;: 1.0, &quot;smoothFactor&quot;: 1.0, &quot;stroke&quot;: true, &quot;weight&quot;: 10}\n",
       "            ).addTo(map_f1a80e88c84cb76166b6aaa3e5941c99);\n",
       "        \n",
       "    \n",
       "            var poly_line_00b44fbfc25b64e9721b0f202f52804b = L.polyline(\n",
       "                [[-37.8113968468, 144.9647230855], [-37.811421459, 144.9647331621]],\n",
       "                {&quot;bubblingMouseEvents&quot;: true, &quot;color&quot;: &quot;green&quot;, &quot;dashArray&quot;: null, &quot;dashOffset&quot;: null, &quot;fill&quot;: false, &quot;fillColor&quot;: &quot;green&quot;, &quot;fillOpacity&quot;: 0.2, &quot;fillRule&quot;: &quot;evenodd&quot;, &quot;lineCap&quot;: &quot;round&quot;, &quot;lineJoin&quot;: &quot;round&quot;, &quot;noClip&quot;: false, &quot;opacity&quot;: 1.0, &quot;smoothFactor&quot;: 1.0, &quot;stroke&quot;: true, &quot;weight&quot;: 10}\n",
       "            ).addTo(map_f1a80e88c84cb76166b6aaa3e5941c99);\n",
       "        \n",
       "    \n",
       "            var poly_line_13c24c74927e2a0d9f45d2906f8f74af = L.polyline(\n",
       "                [[-37.811421459, 144.9647331621], [-37.811545919, 144.9647841166]],\n",
       "                {&quot;bubblingMouseEvents&quot;: true, &quot;color&quot;: &quot;green&quot;, &quot;dashArray&quot;: null, &quot;dashOffset&quot;: null, &quot;fill&quot;: false, &quot;fillColor&quot;: &quot;green&quot;, &quot;fillOpacity&quot;: 0.2, &quot;fillRule&quot;: &quot;evenodd&quot;, &quot;lineCap&quot;: &quot;round&quot;, &quot;lineJoin&quot;: &quot;round&quot;, &quot;noClip&quot;: false, &quot;opacity&quot;: 1.0, &quot;smoothFactor&quot;: 1.0, &quot;stroke&quot;: true, &quot;weight&quot;: 10}\n",
       "            ).addTo(map_f1a80e88c84cb76166b6aaa3e5941c99);\n",
       "        \n",
       "    \n",
       "            var poly_line_ff995f699442c9e95b5d865477a8171c = L.polyline(\n",
       "                [[-37.811545919, 144.9647841166], [-37.8115609876, 144.9647323463]],\n",
       "                {&quot;bubblingMouseEvents&quot;: true, &quot;color&quot;: &quot;green&quot;, &quot;dashArray&quot;: null, &quot;dashOffset&quot;: null, &quot;fill&quot;: false, &quot;fillColor&quot;: &quot;green&quot;, &quot;fillOpacity&quot;: 0.2, &quot;fillRule&quot;: &quot;evenodd&quot;, &quot;lineCap&quot;: &quot;round&quot;, &quot;lineJoin&quot;: &quot;round&quot;, &quot;noClip&quot;: false, &quot;opacity&quot;: 1.0, &quot;smoothFactor&quot;: 1.0, &quot;stroke&quot;: true, &quot;weight&quot;: 10}\n",
       "            ).addTo(map_f1a80e88c84cb76166b6aaa3e5941c99);\n",
       "        \n",
       "    \n",
       "            var poly_line_79f6491e519f5a7dfcff7f2c160ad2b4 = L.polyline(\n",
       "                [[-37.8115609876, 144.9647323463], [-37.8115774509, 144.9646758144]],\n",
       "                {&quot;bubblingMouseEvents&quot;: true, &quot;color&quot;: &quot;orange&quot;, &quot;dashArray&quot;: null, &quot;dashOffset&quot;: null, &quot;fill&quot;: false, &quot;fillColor&quot;: &quot;orange&quot;, &quot;fillOpacity&quot;: 0.2, &quot;fillRule&quot;: &quot;evenodd&quot;, &quot;lineCap&quot;: &quot;round&quot;, &quot;lineJoin&quot;: &quot;round&quot;, &quot;noClip&quot;: false, &quot;opacity&quot;: 1.0, &quot;smoothFactor&quot;: 1.0, &quot;stroke&quot;: true, &quot;weight&quot;: 10}\n",
       "            ).addTo(map_f1a80e88c84cb76166b6aaa3e5941c99);\n",
       "        \n",
       "    \n",
       "            var poly_line_f5a9dc5454667d9a3183d1b0899cc022 = L.polyline(\n",
       "                [[-37.8115774509, 144.9646758144], [-37.8116090529, 144.9645672955]],\n",
       "                {&quot;bubblingMouseEvents&quot;: true, &quot;color&quot;: &quot;yellow&quot;, &quot;dashArray&quot;: null, &quot;dashOffset&quot;: null, &quot;fill&quot;: false, &quot;fillColor&quot;: &quot;yellow&quot;, &quot;fillOpacity&quot;: 0.2, &quot;fillRule&quot;: &quot;evenodd&quot;, &quot;lineCap&quot;: &quot;round&quot;, &quot;lineJoin&quot;: &quot;round&quot;, &quot;noClip&quot;: false, &quot;opacity&quot;: 1.0, &quot;smoothFactor&quot;: 1.0, &quot;stroke&quot;: true, &quot;weight&quot;: 10}\n",
       "            ).addTo(map_f1a80e88c84cb76166b6aaa3e5941c99);\n",
       "        \n",
       "    \n",
       "            var poly_line_4e6586c34f42f34342cd1d70b00d11b6 = L.polyline(\n",
       "                [[-37.8116090529, 144.9645672955], [-37.8116331518, 144.9644845417]],\n",
       "                {&quot;bubblingMouseEvents&quot;: true, &quot;color&quot;: &quot;yellow&quot;, &quot;dashArray&quot;: null, &quot;dashOffset&quot;: null, &quot;fill&quot;: false, &quot;fillColor&quot;: &quot;yellow&quot;, &quot;fillOpacity&quot;: 0.2, &quot;fillRule&quot;: &quot;evenodd&quot;, &quot;lineCap&quot;: &quot;round&quot;, &quot;lineJoin&quot;: &quot;round&quot;, &quot;noClip&quot;: false, &quot;opacity&quot;: 1.0, &quot;smoothFactor&quot;: 1.0, &quot;stroke&quot;: true, &quot;weight&quot;: 10}\n",
       "            ).addTo(map_f1a80e88c84cb76166b6aaa3e5941c99);\n",
       "        \n",
       "    \n",
       "            var poly_line_e1226461583960cf3bd8f28beb1222d4 = L.polyline(\n",
       "                [[-37.8116331518, 144.9644845417], [-37.8116860972, 144.9643027337]],\n",
       "                {&quot;bubblingMouseEvents&quot;: true, &quot;color&quot;: &quot;yellow&quot;, &quot;dashArray&quot;: null, &quot;dashOffset&quot;: null, &quot;fill&quot;: false, &quot;fillColor&quot;: &quot;yellow&quot;, &quot;fillOpacity&quot;: 0.2, &quot;fillRule&quot;: &quot;evenodd&quot;, &quot;lineCap&quot;: &quot;round&quot;, &quot;lineJoin&quot;: &quot;round&quot;, &quot;noClip&quot;: false, &quot;opacity&quot;: 1.0, &quot;smoothFactor&quot;: 1.0, &quot;stroke&quot;: true, &quot;weight&quot;: 10}\n",
       "            ).addTo(map_f1a80e88c84cb76166b6aaa3e5941c99);\n",
       "        \n",
       "    \n",
       "            var poly_line_69672f96583e0d68147b487bcea224b2 = L.polyline(\n",
       "                [[-37.8116860972, 144.9643027337], [-37.8117743343, 144.9643253194]],\n",
       "                {&quot;bubblingMouseEvents&quot;: true, &quot;color&quot;: &quot;green&quot;, &quot;dashArray&quot;: null, &quot;dashOffset&quot;: null, &quot;fill&quot;: false, &quot;fillColor&quot;: &quot;green&quot;, &quot;fillOpacity&quot;: 0.2, &quot;fillRule&quot;: &quot;evenodd&quot;, &quot;lineCap&quot;: &quot;round&quot;, &quot;lineJoin&quot;: &quot;round&quot;, &quot;noClip&quot;: false, &quot;opacity&quot;: 1.0, &quot;smoothFactor&quot;: 1.0, &quot;stroke&quot;: true, &quot;weight&quot;: 10}\n",
       "            ).addTo(map_f1a80e88c84cb76166b6aaa3e5941c99);\n",
       "        \n",
       "    \n",
       "            var poly_line_84569c1a743c47aff09c9369c4a51a86 = L.polyline(\n",
       "                [[-37.8117743343, 144.9643253194], [-37.811818713, 144.9643454044]],\n",
       "                {&quot;bubblingMouseEvents&quot;: true, &quot;color&quot;: &quot;green&quot;, &quot;dashArray&quot;: null, &quot;dashOffset&quot;: null, &quot;fill&quot;: false, &quot;fillColor&quot;: &quot;green&quot;, &quot;fillOpacity&quot;: 0.2, &quot;fillRule&quot;: &quot;evenodd&quot;, &quot;lineCap&quot;: &quot;round&quot;, &quot;lineJoin&quot;: &quot;round&quot;, &quot;noClip&quot;: false, &quot;opacity&quot;: 1.0, &quot;smoothFactor&quot;: 1.0, &quot;stroke&quot;: true, &quot;weight&quot;: 10}\n",
       "            ).addTo(map_f1a80e88c84cb76166b6aaa3e5941c99);\n",
       "        \n",
       "    \n",
       "            var poly_line_17765302feca04f4021c2975bd87b5e0 = L.polyline(\n",
       "                [[-37.811818713, 144.9643454044], [-37.8125936196, 144.9646961206]],\n",
       "                {&quot;bubblingMouseEvents&quot;: true, &quot;color&quot;: &quot;green&quot;, &quot;dashArray&quot;: null, &quot;dashOffset&quot;: null, &quot;fill&quot;: false, &quot;fillColor&quot;: &quot;green&quot;, &quot;fillOpacity&quot;: 0.2, &quot;fillRule&quot;: &quot;evenodd&quot;, &quot;lineCap&quot;: &quot;round&quot;, &quot;lineJoin&quot;: &quot;round&quot;, &quot;noClip&quot;: false, &quot;opacity&quot;: 1.0, &quot;smoothFactor&quot;: 1.0, &quot;stroke&quot;: true, &quot;weight&quot;: 10}\n",
       "            ).addTo(map_f1a80e88c84cb76166b6aaa3e5941c99);\n",
       "        \n",
       "    \n",
       "            var poly_line_5060fa952c186727379fbe619a35822e = L.polyline(\n",
       "                [[-37.8125936196, 144.9646961206], [-37.8126279535, 144.9647236496]],\n",
       "                {&quot;bubblingMouseEvents&quot;: true, &quot;color&quot;: &quot;green&quot;, &quot;dashArray&quot;: null, &quot;dashOffset&quot;: null, &quot;fill&quot;: false, &quot;fillColor&quot;: &quot;green&quot;, &quot;fillOpacity&quot;: 0.2, &quot;fillRule&quot;: &quot;evenodd&quot;, &quot;lineCap&quot;: &quot;round&quot;, &quot;lineJoin&quot;: &quot;round&quot;, &quot;noClip&quot;: false, &quot;opacity&quot;: 1.0, &quot;smoothFactor&quot;: 1.0, &quot;stroke&quot;: true, &quot;weight&quot;: 10}\n",
       "            ).addTo(map_f1a80e88c84cb76166b6aaa3e5941c99);\n",
       "        \n",
       "    \n",
       "            var poly_line_4b10ba1ff6056f88ba745400e9235629 = L.polyline(\n",
       "                [[-37.8126279535, 144.9647236496], [-37.8126309089, 144.9647260186]],\n",
       "                {&quot;bubblingMouseEvents&quot;: true, &quot;color&quot;: &quot;green&quot;, &quot;dashArray&quot;: null, &quot;dashOffset&quot;: null, &quot;fill&quot;: false, &quot;fillColor&quot;: &quot;green&quot;, &quot;fillOpacity&quot;: 0.2, &quot;fillRule&quot;: &quot;evenodd&quot;, &quot;lineCap&quot;: &quot;round&quot;, &quot;lineJoin&quot;: &quot;round&quot;, &quot;noClip&quot;: false, &quot;opacity&quot;: 1.0, &quot;smoothFactor&quot;: 1.0, &quot;stroke&quot;: true, &quot;weight&quot;: 10}\n",
       "            ).addTo(map_f1a80e88c84cb76166b6aaa3e5941c99);\n",
       "        \n",
       "    \n",
       "            var poly_line_dd423d532ad7cee6cec2a758394ca196 = L.polyline(\n",
       "                [[-37.8126309089, 144.9647260186], [-37.8126696356, 144.9647570699]],\n",
       "                {&quot;bubblingMouseEvents&quot;: true, &quot;color&quot;: &quot;green&quot;, &quot;dashArray&quot;: null, &quot;dashOffset&quot;: null, &quot;fill&quot;: false, &quot;fillColor&quot;: &quot;green&quot;, &quot;fillOpacity&quot;: 0.2, &quot;fillRule&quot;: &quot;evenodd&quot;, &quot;lineCap&quot;: &quot;round&quot;, &quot;lineJoin&quot;: &quot;round&quot;, &quot;noClip&quot;: false, &quot;opacity&quot;: 1.0, &quot;smoothFactor&quot;: 1.0, &quot;stroke&quot;: true, &quot;weight&quot;: 10}\n",
       "            ).addTo(map_f1a80e88c84cb76166b6aaa3e5941c99);\n",
       "        \n",
       "    \n",
       "            var poly_line_0cf931bcb44481ec379115e498200160 = L.polyline(\n",
       "                [[-37.8126696356, 144.9647570699], [-37.812621379, 144.9649221202]],\n",
       "                {&quot;bubblingMouseEvents&quot;: true, &quot;color&quot;: &quot;green&quot;, &quot;dashArray&quot;: null, &quot;dashOffset&quot;: null, &quot;fill&quot;: false, &quot;fillColor&quot;: &quot;green&quot;, &quot;fillOpacity&quot;: 0.2, &quot;fillRule&quot;: &quot;evenodd&quot;, &quot;lineCap&quot;: &quot;round&quot;, &quot;lineJoin&quot;: &quot;round&quot;, &quot;noClip&quot;: false, &quot;opacity&quot;: 1.0, &quot;smoothFactor&quot;: 1.0, &quot;stroke&quot;: true, &quot;weight&quot;: 10}\n",
       "            ).addTo(map_f1a80e88c84cb76166b6aaa3e5941c99);\n",
       "        \n",
       "    \n",
       "            var poly_line_bc6159513b98140f50987d5bacde0d62 = L.polyline(\n",
       "                [[-37.812621379, 144.9649221202], [-37.8125928175, 144.9650198054]],\n",
       "                {&quot;bubblingMouseEvents&quot;: true, &quot;color&quot;: &quot;green&quot;, &quot;dashArray&quot;: null, &quot;dashOffset&quot;: null, &quot;fill&quot;: false, &quot;fillColor&quot;: &quot;green&quot;, &quot;fillOpacity&quot;: 0.2, &quot;fillRule&quot;: &quot;evenodd&quot;, &quot;lineCap&quot;: &quot;round&quot;, &quot;lineJoin&quot;: &quot;round&quot;, &quot;noClip&quot;: false, &quot;opacity&quot;: 1.0, &quot;smoothFactor&quot;: 1.0, &quot;stroke&quot;: true, &quot;weight&quot;: 10}\n",
       "            ).addTo(map_f1a80e88c84cb76166b6aaa3e5941c99);\n",
       "        \n",
       "    \n",
       "            var poly_line_2178971da2ca1c7355ab8c347260c669 = L.polyline(\n",
       "                [[-37.8125928175, 144.9650198054], [-37.8125924584, 144.965021033]],\n",
       "                {&quot;bubblingMouseEvents&quot;: true, &quot;color&quot;: &quot;green&quot;, &quot;dashArray&quot;: null, &quot;dashOffset&quot;: null, &quot;fill&quot;: false, &quot;fillColor&quot;: &quot;green&quot;, &quot;fillOpacity&quot;: 0.2, &quot;fillRule&quot;: &quot;evenodd&quot;, &quot;lineCap&quot;: &quot;round&quot;, &quot;lineJoin&quot;: &quot;round&quot;, &quot;noClip&quot;: false, &quot;opacity&quot;: 1.0, &quot;smoothFactor&quot;: 1.0, &quot;stroke&quot;: true, &quot;weight&quot;: 10}\n",
       "            ).addTo(map_f1a80e88c84cb76166b6aaa3e5941c99);\n",
       "        \n",
       "    \n",
       "            var poly_line_5e21d0fc57d559f9aa50636075c690c8 = L.polyline(\n",
       "                [[-37.8125924584, 144.965021033], [-37.8125922066, 144.9650218941]],\n",
       "                {&quot;bubblingMouseEvents&quot;: true, &quot;color&quot;: &quot;green&quot;, &quot;dashArray&quot;: null, &quot;dashOffset&quot;: null, &quot;fill&quot;: false, &quot;fillColor&quot;: &quot;green&quot;, &quot;fillOpacity&quot;: 0.2, &quot;fillRule&quot;: &quot;evenodd&quot;, &quot;lineCap&quot;: &quot;round&quot;, &quot;lineJoin&quot;: &quot;round&quot;, &quot;noClip&quot;: false, &quot;opacity&quot;: 1.0, &quot;smoothFactor&quot;: 1.0, &quot;stroke&quot;: true, &quot;weight&quot;: 10}\n",
       "            ).addTo(map_f1a80e88c84cb76166b6aaa3e5941c99);\n",
       "        \n",
       "    \n",
       "            var poly_line_28397ebf31d6f44a91ba4367a9e3e5f3 = L.polyline(\n",
       "                [[-37.8125922066, 144.9650218941], [-37.812564478, 144.9651167326]],\n",
       "                {&quot;bubblingMouseEvents&quot;: true, &quot;color&quot;: &quot;green&quot;, &quot;dashArray&quot;: null, &quot;dashOffset&quot;: null, &quot;fill&quot;: false, &quot;fillColor&quot;: &quot;green&quot;, &quot;fillOpacity&quot;: 0.2, &quot;fillRule&quot;: &quot;evenodd&quot;, &quot;lineCap&quot;: &quot;round&quot;, &quot;lineJoin&quot;: &quot;round&quot;, &quot;noClip&quot;: false, &quot;opacity&quot;: 1.0, &quot;smoothFactor&quot;: 1.0, &quot;stroke&quot;: true, &quot;weight&quot;: 10}\n",
       "            ).addTo(map_f1a80e88c84cb76166b6aaa3e5941c99);\n",
       "        \n",
       "    \n",
       "            var poly_line_48eee47760a2abd45a8e9084b79c4e82 = L.polyline(\n",
       "                [[-37.812564478, 144.9651167326], [-37.8126085723, 144.965134761]],\n",
       "                {&quot;bubblingMouseEvents&quot;: true, &quot;color&quot;: &quot;green&quot;, &quot;dashArray&quot;: null, &quot;dashOffset&quot;: null, &quot;fill&quot;: false, &quot;fillColor&quot;: &quot;green&quot;, &quot;fillOpacity&quot;: 0.2, &quot;fillRule&quot;: &quot;evenodd&quot;, &quot;lineCap&quot;: &quot;round&quot;, &quot;lineJoin&quot;: &quot;round&quot;, &quot;noClip&quot;: false, &quot;opacity&quot;: 1.0, &quot;smoothFactor&quot;: 1.0, &quot;stroke&quot;: true, &quot;weight&quot;: 10}\n",
       "            ).addTo(map_f1a80e88c84cb76166b6aaa3e5941c99);\n",
       "        \n",
       "    \n",
       "            var poly_line_02716e4840d4927c25c4593d1d1600c4 = L.polyline(\n",
       "                [[-37.8126085723, 144.965134761], [-37.8126290965, 144.965143153]],\n",
       "                {&quot;bubblingMouseEvents&quot;: true, &quot;color&quot;: &quot;green&quot;, &quot;dashArray&quot;: null, &quot;dashOffset&quot;: null, &quot;fill&quot;: false, &quot;fillColor&quot;: &quot;green&quot;, &quot;fillOpacity&quot;: 0.2, &quot;fillRule&quot;: &quot;evenodd&quot;, &quot;lineCap&quot;: &quot;round&quot;, &quot;lineJoin&quot;: &quot;round&quot;, &quot;noClip&quot;: false, &quot;opacity&quot;: 1.0, &quot;smoothFactor&quot;: 1.0, &quot;stroke&quot;: true, &quot;weight&quot;: 10}\n",
       "            ).addTo(map_f1a80e88c84cb76166b6aaa3e5941c99);\n",
       "        \n",
       "    \n",
       "            var poly_line_c7b1bcb9945f3ab85754dd8270e93b2b = L.polyline(\n",
       "                [[-37.8126290965, 144.965143153], [-37.8126734562, 144.9651636039]],\n",
       "                {&quot;bubblingMouseEvents&quot;: true, &quot;color&quot;: &quot;green&quot;, &quot;dashArray&quot;: null, &quot;dashOffset&quot;: null, &quot;fill&quot;: false, &quot;fillColor&quot;: &quot;green&quot;, &quot;fillOpacity&quot;: 0.2, &quot;fillRule&quot;: &quot;evenodd&quot;, &quot;lineCap&quot;: &quot;round&quot;, &quot;lineJoin&quot;: &quot;round&quot;, &quot;noClip&quot;: false, &quot;opacity&quot;: 1.0, &quot;smoothFactor&quot;: 1.0, &quot;stroke&quot;: true, &quot;weight&quot;: 10}\n",
       "            ).addTo(map_f1a80e88c84cb76166b6aaa3e5941c99);\n",
       "        \n",
       "    \n",
       "            var poly_line_484438d8fadf3158afbd09c4bba00837 = L.polyline(\n",
       "                [[-37.8126734562, 144.9651636039], [-37.8127503807, 144.9651990694]],\n",
       "                {&quot;bubblingMouseEvents&quot;: true, &quot;color&quot;: &quot;green&quot;, &quot;dashArray&quot;: null, &quot;dashOffset&quot;: null, &quot;fill&quot;: false, &quot;fillColor&quot;: &quot;green&quot;, &quot;fillOpacity&quot;: 0.2, &quot;fillRule&quot;: &quot;evenodd&quot;, &quot;lineCap&quot;: &quot;round&quot;, &quot;lineJoin&quot;: &quot;round&quot;, &quot;noClip&quot;: false, &quot;opacity&quot;: 1.0, &quot;smoothFactor&quot;: 1.0, &quot;stroke&quot;: true, &quot;weight&quot;: 10}\n",
       "            ).addTo(map_f1a80e88c84cb76166b6aaa3e5941c99);\n",
       "        \n",
       "    \n",
       "            var poly_line_78f918556f8372d995727c83b43d02e8 = L.polyline(\n",
       "                [[-37.8127503807, 144.9651990694], [-37.8128011147, 144.96522246]],\n",
       "                {&quot;bubblingMouseEvents&quot;: true, &quot;color&quot;: &quot;green&quot;, &quot;dashArray&quot;: null, &quot;dashOffset&quot;: null, &quot;fill&quot;: false, &quot;fillColor&quot;: &quot;green&quot;, &quot;fillOpacity&quot;: 0.2, &quot;fillRule&quot;: &quot;evenodd&quot;, &quot;lineCap&quot;: &quot;round&quot;, &quot;lineJoin&quot;: &quot;round&quot;, &quot;noClip&quot;: false, &quot;opacity&quot;: 1.0, &quot;smoothFactor&quot;: 1.0, &quot;stroke&quot;: true, &quot;weight&quot;: 10}\n",
       "            ).addTo(map_f1a80e88c84cb76166b6aaa3e5941c99);\n",
       "        \n",
       "    \n",
       "            var poly_line_a10ccea230c27baf91388642959f8956 = L.polyline(\n",
       "                [[-37.8128011147, 144.96522246], [-37.8128261996, 144.9652340245]],\n",
       "                {&quot;bubblingMouseEvents&quot;: true, &quot;color&quot;: &quot;green&quot;, &quot;dashArray&quot;: null, &quot;dashOffset&quot;: null, &quot;fill&quot;: false, &quot;fillColor&quot;: &quot;green&quot;, &quot;fillOpacity&quot;: 0.2, &quot;fillRule&quot;: &quot;evenodd&quot;, &quot;lineCap&quot;: &quot;round&quot;, &quot;lineJoin&quot;: &quot;round&quot;, &quot;noClip&quot;: false, &quot;opacity&quot;: 1.0, &quot;smoothFactor&quot;: 1.0, &quot;stroke&quot;: true, &quot;weight&quot;: 10}\n",
       "            ).addTo(map_f1a80e88c84cb76166b6aaa3e5941c99);\n",
       "        \n",
       "    \n",
       "            var poly_line_ce43b0fcb9e2624b763277c731f53627 = L.polyline(\n",
       "                [[-37.8128261996, 144.9652340245], [-37.8128510147, 144.9652454658]],\n",
       "                {&quot;bubblingMouseEvents&quot;: true, &quot;color&quot;: &quot;green&quot;, &quot;dashArray&quot;: null, &quot;dashOffset&quot;: null, &quot;fill&quot;: false, &quot;fillColor&quot;: &quot;green&quot;, &quot;fillOpacity&quot;: 0.2, &quot;fillRule&quot;: &quot;evenodd&quot;, &quot;lineCap&quot;: &quot;round&quot;, &quot;lineJoin&quot;: &quot;round&quot;, &quot;noClip&quot;: false, &quot;opacity&quot;: 1.0, &quot;smoothFactor&quot;: 1.0, &quot;stroke&quot;: true, &quot;weight&quot;: 10}\n",
       "            ).addTo(map_f1a80e88c84cb76166b6aaa3e5941c99);\n",
       "        \n",
       "    \n",
       "            var poly_line_e5ca76d43b4d79298b8b105d145ad5e3 = L.polyline(\n",
       "                [[-37.8128510147, 144.9652454658], [-37.8129188605, 144.9652767448]],\n",
       "                {&quot;bubblingMouseEvents&quot;: true, &quot;color&quot;: &quot;green&quot;, &quot;dashArray&quot;: null, &quot;dashOffset&quot;: null, &quot;fill&quot;: false, &quot;fillColor&quot;: &quot;green&quot;, &quot;fillOpacity&quot;: 0.2, &quot;fillRule&quot;: &quot;evenodd&quot;, &quot;lineCap&quot;: &quot;round&quot;, &quot;lineJoin&quot;: &quot;round&quot;, &quot;noClip&quot;: false, &quot;opacity&quot;: 1.0, &quot;smoothFactor&quot;: 1.0, &quot;stroke&quot;: true, &quot;weight&quot;: 10}\n",
       "            ).addTo(map_f1a80e88c84cb76166b6aaa3e5941c99);\n",
       "        \n",
       "    \n",
       "            var poly_line_fc76abc28d864dcb46b4e5a839f17d4f = L.polyline(\n",
       "                [[-37.8129188605, 144.9652767448], [-37.8129558184, 144.9652937846]],\n",
       "                {&quot;bubblingMouseEvents&quot;: true, &quot;color&quot;: &quot;green&quot;, &quot;dashArray&quot;: null, &quot;dashOffset&quot;: null, &quot;fill&quot;: false, &quot;fillColor&quot;: &quot;green&quot;, &quot;fillOpacity&quot;: 0.2, &quot;fillRule&quot;: &quot;evenodd&quot;, &quot;lineCap&quot;: &quot;round&quot;, &quot;lineJoin&quot;: &quot;round&quot;, &quot;noClip&quot;: false, &quot;opacity&quot;: 1.0, &quot;smoothFactor&quot;: 1.0, &quot;stroke&quot;: true, &quot;weight&quot;: 10}\n",
       "            ).addTo(map_f1a80e88c84cb76166b6aaa3e5941c99);\n",
       "        \n",
       "    \n",
       "            var poly_line_e4d07f73d563f6bee6cb80cd74785c6d = L.polyline(\n",
       "                [[-37.8129558184, 144.9652937846], [-37.8130297406, 144.9653278662]],\n",
       "                {&quot;bubblingMouseEvents&quot;: true, &quot;color&quot;: &quot;green&quot;, &quot;dashArray&quot;: null, &quot;dashOffset&quot;: null, &quot;fill&quot;: false, &quot;fillColor&quot;: &quot;green&quot;, &quot;fillOpacity&quot;: 0.2, &quot;fillRule&quot;: &quot;evenodd&quot;, &quot;lineCap&quot;: &quot;round&quot;, &quot;lineJoin&quot;: &quot;round&quot;, &quot;noClip&quot;: false, &quot;opacity&quot;: 1.0, &quot;smoothFactor&quot;: 1.0, &quot;stroke&quot;: true, &quot;weight&quot;: 10}\n",
       "            ).addTo(map_f1a80e88c84cb76166b6aaa3e5941c99);\n",
       "        \n",
       "    \n",
       "            var poly_line_b70eefe4ea15eac7923e9a387f09b49f = L.polyline(\n",
       "                [[-37.8130297406, 144.9653278662], [-37.8130666994, 144.965344906]],\n",
       "                {&quot;bubblingMouseEvents&quot;: true, &quot;color&quot;: &quot;green&quot;, &quot;dashArray&quot;: null, &quot;dashOffset&quot;: null, &quot;fill&quot;: false, &quot;fillColor&quot;: &quot;green&quot;, &quot;fillOpacity&quot;: 0.2, &quot;fillRule&quot;: &quot;evenodd&quot;, &quot;lineCap&quot;: &quot;round&quot;, &quot;lineJoin&quot;: &quot;round&quot;, &quot;noClip&quot;: false, &quot;opacity&quot;: 1.0, &quot;smoothFactor&quot;: 1.0, &quot;stroke&quot;: true, &quot;weight&quot;: 10}\n",
       "            ).addTo(map_f1a80e88c84cb76166b6aaa3e5941c99);\n",
       "        \n",
       "    \n",
       "            var poly_line_f3381ef8c8932e01c6e86d8ba66c4749 = L.polyline(\n",
       "                [[-37.8130666994, 144.965344906], [-37.8131406242, 144.9653789888]],\n",
       "                {&quot;bubblingMouseEvents&quot;: true, &quot;color&quot;: &quot;green&quot;, &quot;dashArray&quot;: null, &quot;dashOffset&quot;: null, &quot;fill&quot;: false, &quot;fillColor&quot;: &quot;green&quot;, &quot;fillOpacity&quot;: 0.2, &quot;fillRule&quot;: &quot;evenodd&quot;, &quot;lineCap&quot;: &quot;round&quot;, &quot;lineJoin&quot;: &quot;round&quot;, &quot;noClip&quot;: false, &quot;opacity&quot;: 1.0, &quot;smoothFactor&quot;: 1.0, &quot;stroke&quot;: true, &quot;weight&quot;: 10}\n",
       "            ).addTo(map_f1a80e88c84cb76166b6aaa3e5941c99);\n",
       "        \n",
       "    \n",
       "            var poly_line_aab85c1a30c78ee6c5966351a16421fe = L.polyline(\n",
       "                [[-37.8131406242, 144.9653789888], [-37.8132751993, 144.9654410339]],\n",
       "                {&quot;bubblingMouseEvents&quot;: true, &quot;color&quot;: &quot;green&quot;, &quot;dashArray&quot;: null, &quot;dashOffset&quot;: null, &quot;fill&quot;: false, &quot;fillColor&quot;: &quot;green&quot;, &quot;fillOpacity&quot;: 0.2, &quot;fillRule&quot;: &quot;evenodd&quot;, &quot;lineCap&quot;: &quot;round&quot;, &quot;lineJoin&quot;: &quot;round&quot;, &quot;noClip&quot;: false, &quot;opacity&quot;: 1.0, &quot;smoothFactor&quot;: 1.0, &quot;stroke&quot;: true, &quot;weight&quot;: 10}\n",
       "            ).addTo(map_f1a80e88c84cb76166b6aaa3e5941c99);\n",
       "        \n",
       "    \n",
       "            var poly_line_0630eb327b1334f4a25b567527611641 = L.polyline(\n",
       "                [[-37.8132751993, 144.9654410339], [-37.8133573425, 144.9654789056]],\n",
       "                {&quot;bubblingMouseEvents&quot;: true, &quot;color&quot;: &quot;green&quot;, &quot;dashArray&quot;: null, &quot;dashOffset&quot;: null, &quot;fill&quot;: false, &quot;fillColor&quot;: &quot;green&quot;, &quot;fillOpacity&quot;: 0.2, &quot;fillRule&quot;: &quot;evenodd&quot;, &quot;lineCap&quot;: &quot;round&quot;, &quot;lineJoin&quot;: &quot;round&quot;, &quot;noClip&quot;: false, &quot;opacity&quot;: 1.0, &quot;smoothFactor&quot;: 1.0, &quot;stroke&quot;: true, &quot;weight&quot;: 10}\n",
       "            ).addTo(map_f1a80e88c84cb76166b6aaa3e5941c99);\n",
       "        \n",
       "    \n",
       "            var poly_line_d3331885c77029636705a950154bd272 = L.polyline(\n",
       "                [[-37.8133573425, 144.9654789056], [-37.813418892, 144.965507283]],\n",
       "                {&quot;bubblingMouseEvents&quot;: true, &quot;color&quot;: &quot;green&quot;, &quot;dashArray&quot;: null, &quot;dashOffset&quot;: null, &quot;fill&quot;: false, &quot;fillColor&quot;: &quot;green&quot;, &quot;fillOpacity&quot;: 0.2, &quot;fillRule&quot;: &quot;evenodd&quot;, &quot;lineCap&quot;: &quot;round&quot;, &quot;lineJoin&quot;: &quot;round&quot;, &quot;noClip&quot;: false, &quot;opacity&quot;: 1.0, &quot;smoothFactor&quot;: 1.0, &quot;stroke&quot;: true, &quot;weight&quot;: 10}\n",
       "            ).addTo(map_f1a80e88c84cb76166b6aaa3e5941c99);\n",
       "        \n",
       "    \n",
       "            var poly_line_ac9df8374ec96b8bec78f3e90f1ad74f = L.polyline(\n",
       "                [[-37.813418892, 144.965507283], [-37.8134221039, 144.9655089033]],\n",
       "                {&quot;bubblingMouseEvents&quot;: true, &quot;color&quot;: &quot;green&quot;, &quot;dashArray&quot;: null, &quot;dashOffset&quot;: null, &quot;fill&quot;: false, &quot;fillColor&quot;: &quot;green&quot;, &quot;fillOpacity&quot;: 0.2, &quot;fillRule&quot;: &quot;evenodd&quot;, &quot;lineCap&quot;: &quot;round&quot;, &quot;lineJoin&quot;: &quot;round&quot;, &quot;noClip&quot;: false, &quot;opacity&quot;: 1.0, &quot;smoothFactor&quot;: 1.0, &quot;stroke&quot;: true, &quot;weight&quot;: 10}\n",
       "            ).addTo(map_f1a80e88c84cb76166b6aaa3e5941c99);\n",
       "        \n",
       "    \n",
       "            var poly_line_05532c85572c03061161acd7da270b04 = L.polyline(\n",
       "                [[-37.8134221039, 144.9655089033], [-37.813548372, 144.9655725775]],\n",
       "                {&quot;bubblingMouseEvents&quot;: true, &quot;color&quot;: &quot;green&quot;, &quot;dashArray&quot;: null, &quot;dashOffset&quot;: null, &quot;fill&quot;: false, &quot;fillColor&quot;: &quot;green&quot;, &quot;fillOpacity&quot;: 0.2, &quot;fillRule&quot;: &quot;evenodd&quot;, &quot;lineCap&quot;: &quot;round&quot;, &quot;lineJoin&quot;: &quot;round&quot;, &quot;noClip&quot;: false, &quot;opacity&quot;: 1.0, &quot;smoothFactor&quot;: 1.0, &quot;stroke&quot;: true, &quot;weight&quot;: 10}\n",
       "            ).addTo(map_f1a80e88c84cb76166b6aaa3e5941c99);\n",
       "        \n",
       "    \n",
       "            var poly_line_0bdc4a471cd3aef0a7245a275fd32592 = L.polyline(\n",
       "                [[-37.813548372, 144.9655725775], [-37.8135307229, 144.9656334745]],\n",
       "                {&quot;bubblingMouseEvents&quot;: true, &quot;color&quot;: &quot;green&quot;, &quot;dashArray&quot;: null, &quot;dashOffset&quot;: null, &quot;fill&quot;: false, &quot;fillColor&quot;: &quot;green&quot;, &quot;fillOpacity&quot;: 0.2, &quot;fillRule&quot;: &quot;evenodd&quot;, &quot;lineCap&quot;: &quot;round&quot;, &quot;lineJoin&quot;: &quot;round&quot;, &quot;noClip&quot;: false, &quot;opacity&quot;: 1.0, &quot;smoothFactor&quot;: 1.0, &quot;stroke&quot;: true, &quot;weight&quot;: 10}\n",
       "            ).addTo(map_f1a80e88c84cb76166b6aaa3e5941c99);\n",
       "        \n",
       "    \n",
       "            var poly_line_ad8ba2ac6a9e1fcb9d1bc63fefc5ca40 = L.polyline(\n",
       "                [[-37.8135307229, 144.9656334745], [-37.8135172521, 144.9656794772]],\n",
       "                {&quot;bubblingMouseEvents&quot;: true, &quot;color&quot;: &quot;yellow&quot;, &quot;dashArray&quot;: null, &quot;dashOffset&quot;: null, &quot;fill&quot;: false, &quot;fillColor&quot;: &quot;yellow&quot;, &quot;fillOpacity&quot;: 0.2, &quot;fillRule&quot;: &quot;evenodd&quot;, &quot;lineCap&quot;: &quot;round&quot;, &quot;lineJoin&quot;: &quot;round&quot;, &quot;noClip&quot;: false, &quot;opacity&quot;: 1.0, &quot;smoothFactor&quot;: 1.0, &quot;stroke&quot;: true, &quot;weight&quot;: 10}\n",
       "            ).addTo(map_f1a80e88c84cb76166b6aaa3e5941c99);\n",
       "        \n",
       "    \n",
       "            var poly_line_b5a21eaed2caed89f141b791a6d368da = L.polyline(\n",
       "                [[-37.8135172521, 144.9656794772], [-37.813639403, 144.9657356086]],\n",
       "                {&quot;bubblingMouseEvents&quot;: true, &quot;color&quot;: &quot;green&quot;, &quot;dashArray&quot;: null, &quot;dashOffset&quot;: null, &quot;fill&quot;: false, &quot;fillColor&quot;: &quot;green&quot;, &quot;fillOpacity&quot;: 0.2, &quot;fillRule&quot;: &quot;evenodd&quot;, &quot;lineCap&quot;: &quot;round&quot;, &quot;lineJoin&quot;: &quot;round&quot;, &quot;noClip&quot;: false, &quot;opacity&quot;: 1.0, &quot;smoothFactor&quot;: 1.0, &quot;stroke&quot;: true, &quot;weight&quot;: 10}\n",
       "            ).addTo(map_f1a80e88c84cb76166b6aaa3e5941c99);\n",
       "        \n",
       "    \n",
       "            var poly_line_69a2e9b59596d0aa172a96e1b6400def = L.polyline(\n",
       "                [[-37.813639403, 144.9657356086], [-37.8136424334, 144.965737001]],\n",
       "                {&quot;bubblingMouseEvents&quot;: true, &quot;color&quot;: &quot;green&quot;, &quot;dashArray&quot;: null, &quot;dashOffset&quot;: null, &quot;fill&quot;: false, &quot;fillColor&quot;: &quot;green&quot;, &quot;fillOpacity&quot;: 0.2, &quot;fillRule&quot;: &quot;evenodd&quot;, &quot;lineCap&quot;: &quot;round&quot;, &quot;lineJoin&quot;: &quot;round&quot;, &quot;noClip&quot;: false, &quot;opacity&quot;: 1.0, &quot;smoothFactor&quot;: 1.0, &quot;stroke&quot;: true, &quot;weight&quot;: 10}\n",
       "            ).addTo(map_f1a80e88c84cb76166b6aaa3e5941c99);\n",
       "        \n",
       "    \n",
       "            var poly_line_6c2d65609f959f060978b69febe68d92 = L.polyline(\n",
       "                [[-37.8136424334, 144.965737001], [-37.8137511153, 144.9657859301]],\n",
       "                {&quot;bubblingMouseEvents&quot;: true, &quot;color&quot;: &quot;green&quot;, &quot;dashArray&quot;: null, &quot;dashOffset&quot;: null, &quot;fill&quot;: false, &quot;fillColor&quot;: &quot;green&quot;, &quot;fillOpacity&quot;: 0.2, &quot;fillRule&quot;: &quot;evenodd&quot;, &quot;lineCap&quot;: &quot;round&quot;, &quot;lineJoin&quot;: &quot;round&quot;, &quot;noClip&quot;: false, &quot;opacity&quot;: 1.0, &quot;smoothFactor&quot;: 1.0, &quot;stroke&quot;: true, &quot;weight&quot;: 10}\n",
       "            ).addTo(map_f1a80e88c84cb76166b6aaa3e5941c99);\n",
       "        \n",
       "    \n",
       "            var poly_line_16aad96131f64b86851e415568960822 = L.polyline(\n",
       "                [[-37.8137511153, 144.9657859301], [-37.8137885611, 144.9658027888]],\n",
       "                {&quot;bubblingMouseEvents&quot;: true, &quot;color&quot;: &quot;green&quot;, &quot;dashArray&quot;: null, &quot;dashOffset&quot;: null, &quot;fill&quot;: false, &quot;fillColor&quot;: &quot;green&quot;, &quot;fillOpacity&quot;: 0.2, &quot;fillRule&quot;: &quot;evenodd&quot;, &quot;lineCap&quot;: &quot;round&quot;, &quot;lineJoin&quot;: &quot;round&quot;, &quot;noClip&quot;: false, &quot;opacity&quot;: 1.0, &quot;smoothFactor&quot;: 1.0, &quot;stroke&quot;: true, &quot;weight&quot;: 10}\n",
       "            ).addTo(map_f1a80e88c84cb76166b6aaa3e5941c99);\n",
       "        \n",
       "    \n",
       "            var poly_line_4dca3fb719681f4a849c42759159e5d2 = L.polyline(\n",
       "                [[-37.8137885611, 144.9658027888], [-37.8138258961, 144.9658195971]],\n",
       "                {&quot;bubblingMouseEvents&quot;: true, &quot;color&quot;: &quot;green&quot;, &quot;dashArray&quot;: null, &quot;dashOffset&quot;: null, &quot;fill&quot;: false, &quot;fillColor&quot;: &quot;green&quot;, &quot;fillOpacity&quot;: 0.2, &quot;fillRule&quot;: &quot;evenodd&quot;, &quot;lineCap&quot;: &quot;round&quot;, &quot;lineJoin&quot;: &quot;round&quot;, &quot;noClip&quot;: false, &quot;opacity&quot;: 1.0, &quot;smoothFactor&quot;: 1.0, &quot;stroke&quot;: true, &quot;weight&quot;: 10}\n",
       "            ).addTo(map_f1a80e88c84cb76166b6aaa3e5941c99);\n",
       "        \n",
       "    \n",
       "            var poly_line_6f489459bfb4ffd257452e1fd82ba039 = L.polyline(\n",
       "                [[-37.8138258961, 144.9658195971], [-37.8138636517, 144.9658365938]],\n",
       "                {&quot;bubblingMouseEvents&quot;: true, &quot;color&quot;: &quot;green&quot;, &quot;dashArray&quot;: null, &quot;dashOffset&quot;: null, &quot;fill&quot;: false, &quot;fillColor&quot;: &quot;green&quot;, &quot;fillOpacity&quot;: 0.2, &quot;fillRule&quot;: &quot;evenodd&quot;, &quot;lineCap&quot;: &quot;round&quot;, &quot;lineJoin&quot;: &quot;round&quot;, &quot;noClip&quot;: false, &quot;opacity&quot;: 1.0, &quot;smoothFactor&quot;: 1.0, &quot;stroke&quot;: true, &quot;weight&quot;: 10}\n",
       "            ).addTo(map_f1a80e88c84cb76166b6aaa3e5941c99);\n",
       "        \n",
       "    \n",
       "            var poly_line_1986b817d1a2a4a35491db2ab527be0e = L.polyline(\n",
       "                [[-37.8138636517, 144.9658365938], [-37.8139821724, 144.9658899526]],\n",
       "                {&quot;bubblingMouseEvents&quot;: true, &quot;color&quot;: &quot;yellow&quot;, &quot;dashArray&quot;: null, &quot;dashOffset&quot;: null, &quot;fill&quot;: false, &quot;fillColor&quot;: &quot;yellow&quot;, &quot;fillOpacity&quot;: 0.2, &quot;fillRule&quot;: &quot;evenodd&quot;, &quot;lineCap&quot;: &quot;round&quot;, &quot;lineJoin&quot;: &quot;round&quot;, &quot;noClip&quot;: false, &quot;opacity&quot;: 1.0, &quot;smoothFactor&quot;: 1.0, &quot;stroke&quot;: true, &quot;weight&quot;: 10}\n",
       "            ).addTo(map_f1a80e88c84cb76166b6aaa3e5941c99);\n",
       "        \n",
       "    \n",
       "            var poly_line_9403995b787f821c47c2fd0cf6df6cb0 = L.polyline(\n",
       "                [[-37.8139821724, 144.9658899526], [-37.8140217772, 144.9659077835]],\n",
       "                {&quot;bubblingMouseEvents&quot;: true, &quot;color&quot;: &quot;green&quot;, &quot;dashArray&quot;: null, &quot;dashOffset&quot;: null, &quot;fill&quot;: false, &quot;fillColor&quot;: &quot;green&quot;, &quot;fillOpacity&quot;: 0.2, &quot;fillRule&quot;: &quot;evenodd&quot;, &quot;lineCap&quot;: &quot;round&quot;, &quot;lineJoin&quot;: &quot;round&quot;, &quot;noClip&quot;: false, &quot;opacity&quot;: 1.0, &quot;smoothFactor&quot;: 1.0, &quot;stroke&quot;: true, &quot;weight&quot;: 10}\n",
       "            ).addTo(map_f1a80e88c84cb76166b6aaa3e5941c99);\n",
       "        \n",
       "    \n",
       "            var poly_line_474dbdfe8ab3c90a88445ec2c03047f0 = L.polyline(\n",
       "                [[-37.8140217772, 144.9659077835], [-37.814088174, 144.9659376755]],\n",
       "                {&quot;bubblingMouseEvents&quot;: true, &quot;color&quot;: &quot;green&quot;, &quot;dashArray&quot;: null, &quot;dashOffset&quot;: null, &quot;fill&quot;: false, &quot;fillColor&quot;: &quot;green&quot;, &quot;fillOpacity&quot;: 0.2, &quot;fillRule&quot;: &quot;evenodd&quot;, &quot;lineCap&quot;: &quot;round&quot;, &quot;lineJoin&quot;: &quot;round&quot;, &quot;noClip&quot;: false, &quot;opacity&quot;: 1.0, &quot;smoothFactor&quot;: 1.0, &quot;stroke&quot;: true, &quot;weight&quot;: 10}\n",
       "            ).addTo(map_f1a80e88c84cb76166b6aaa3e5941c99);\n",
       "        \n",
       "    \n",
       "            var poly_line_e87aa66e9f8ed76a1ed05b482fcae217 = L.polyline(\n",
       "                [[-37.814088174, 144.9659376755], [-37.8141543902, 144.9659674862]],\n",
       "                {&quot;bubblingMouseEvents&quot;: true, &quot;color&quot;: &quot;yellow&quot;, &quot;dashArray&quot;: null, &quot;dashOffset&quot;: null, &quot;fill&quot;: false, &quot;fillColor&quot;: &quot;yellow&quot;, &quot;fillOpacity&quot;: 0.2, &quot;fillRule&quot;: &quot;evenodd&quot;, &quot;lineCap&quot;: &quot;round&quot;, &quot;lineJoin&quot;: &quot;round&quot;, &quot;noClip&quot;: false, &quot;opacity&quot;: 1.0, &quot;smoothFactor&quot;: 1.0, &quot;stroke&quot;: true, &quot;weight&quot;: 10}\n",
       "            ).addTo(map_f1a80e88c84cb76166b6aaa3e5941c99);\n",
       "        \n",
       "    \n",
       "            var poly_line_08f96d558ce52d7ad67ebd32ef67c85d = L.polyline(\n",
       "                [[-37.8141543902, 144.9659674862], [-37.8141942746, 144.9659854424]],\n",
       "                {&quot;bubblingMouseEvents&quot;: true, &quot;color&quot;: &quot;green&quot;, &quot;dashArray&quot;: null, &quot;dashOffset&quot;: null, &quot;fill&quot;: false, &quot;fillColor&quot;: &quot;green&quot;, &quot;fillOpacity&quot;: 0.2, &quot;fillRule&quot;: &quot;evenodd&quot;, &quot;lineCap&quot;: &quot;round&quot;, &quot;lineJoin&quot;: &quot;round&quot;, &quot;noClip&quot;: false, &quot;opacity&quot;: 1.0, &quot;smoothFactor&quot;: 1.0, &quot;stroke&quot;: true, &quot;weight&quot;: 10}\n",
       "            ).addTo(map_f1a80e88c84cb76166b6aaa3e5941c99);\n",
       "        \n",
       "    \n",
       "            var poly_line_bda7f3447933ec335e0d92a6015feb94 = L.polyline(\n",
       "                [[-37.8141942746, 144.9659854424], [-37.814233654, 144.9660031717]],\n",
       "                {&quot;bubblingMouseEvents&quot;: true, &quot;color&quot;: &quot;green&quot;, &quot;dashArray&quot;: null, &quot;dashOffset&quot;: null, &quot;fill&quot;: false, &quot;fillColor&quot;: &quot;green&quot;, &quot;fillOpacity&quot;: 0.2, &quot;fillRule&quot;: &quot;evenodd&quot;, &quot;lineCap&quot;: &quot;round&quot;, &quot;lineJoin&quot;: &quot;round&quot;, &quot;noClip&quot;: false, &quot;opacity&quot;: 1.0, &quot;smoothFactor&quot;: 1.0, &quot;stroke&quot;: true, &quot;weight&quot;: 10}\n",
       "            ).addTo(map_f1a80e88c84cb76166b6aaa3e5941c99);\n",
       "        \n",
       "    \n",
       "            var poly_line_0a6b017e0d9d6122a07b1c839ebf90d0 = L.polyline(\n",
       "                [[-37.814233654, 144.9660031717], [-37.8142725576, 144.9660206858]],\n",
       "                {&quot;bubblingMouseEvents&quot;: true, &quot;color&quot;: &quot;green&quot;, &quot;dashArray&quot;: null, &quot;dashOffset&quot;: null, &quot;fill&quot;: false, &quot;fillColor&quot;: &quot;green&quot;, &quot;fillOpacity&quot;: 0.2, &quot;fillRule&quot;: &quot;evenodd&quot;, &quot;lineCap&quot;: &quot;round&quot;, &quot;lineJoin&quot;: &quot;round&quot;, &quot;noClip&quot;: false, &quot;opacity&quot;: 1.0, &quot;smoothFactor&quot;: 1.0, &quot;stroke&quot;: true, &quot;weight&quot;: 10}\n",
       "            ).addTo(map_f1a80e88c84cb76166b6aaa3e5941c99);\n",
       "        \n",
       "    \n",
       "            var poly_line_f64aaa1303f71d2a6b2c419babdd8887 = L.polyline(\n",
       "                [[-37.8142725576, 144.9660206858], [-37.8143392732, 144.9660507226]],\n",
       "                {&quot;bubblingMouseEvents&quot;: true, &quot;color&quot;: &quot;green&quot;, &quot;dashArray&quot;: null, &quot;dashOffset&quot;: null, &quot;fill&quot;: false, &quot;fillColor&quot;: &quot;green&quot;, &quot;fillOpacity&quot;: 0.2, &quot;fillRule&quot;: &quot;evenodd&quot;, &quot;lineCap&quot;: &quot;round&quot;, &quot;lineJoin&quot;: &quot;round&quot;, &quot;noClip&quot;: false, &quot;opacity&quot;: 1.0, &quot;smoothFactor&quot;: 1.0, &quot;stroke&quot;: true, &quot;weight&quot;: 10}\n",
       "            ).addTo(map_f1a80e88c84cb76166b6aaa3e5941c99);\n",
       "        \n",
       "    \n",
       "            var poly_line_9313490b102f608d9c128dd68f49da28 = L.polyline(\n",
       "                [[-37.8143392732, 144.9660507226], [-37.8143705702, 144.9660648127]],\n",
       "                {&quot;bubblingMouseEvents&quot;: true, &quot;color&quot;: &quot;green&quot;, &quot;dashArray&quot;: null, &quot;dashOffset&quot;: null, &quot;fill&quot;: false, &quot;fillColor&quot;: &quot;green&quot;, &quot;fillOpacity&quot;: 0.2, &quot;fillRule&quot;: &quot;evenodd&quot;, &quot;lineCap&quot;: &quot;round&quot;, &quot;lineJoin&quot;: &quot;round&quot;, &quot;noClip&quot;: false, &quot;opacity&quot;: 1.0, &quot;smoothFactor&quot;: 1.0, &quot;stroke&quot;: true, &quot;weight&quot;: 10}\n",
       "            ).addTo(map_f1a80e88c84cb76166b6aaa3e5941c99);\n",
       "        \n",
       "    \n",
       "            var poly_line_cb51e4aba298eba83d13f69aee7f6f57 = L.polyline(\n",
       "                [[-37.8143705702, 144.9660648127], [-37.8144437007, 144.966097736]],\n",
       "                {&quot;bubblingMouseEvents&quot;: true, &quot;color&quot;: &quot;green&quot;, &quot;dashArray&quot;: null, &quot;dashOffset&quot;: null, &quot;fill&quot;: false, &quot;fillColor&quot;: &quot;green&quot;, &quot;fillOpacity&quot;: 0.2, &quot;fillRule&quot;: &quot;evenodd&quot;, &quot;lineCap&quot;: &quot;round&quot;, &quot;lineJoin&quot;: &quot;round&quot;, &quot;noClip&quot;: false, &quot;opacity&quot;: 1.0, &quot;smoothFactor&quot;: 1.0, &quot;stroke&quot;: true, &quot;weight&quot;: 10}\n",
       "            ).addTo(map_f1a80e88c84cb76166b6aaa3e5941c99);\n",
       "        \n",
       "    \n",
       "            var poly_line_503790a0b6c8ddaf814566539db27ca4 = L.polyline(\n",
       "                [[-37.8144437007, 144.966097736], [-37.814452696, 144.9661018932]],\n",
       "                {&quot;bubblingMouseEvents&quot;: true, &quot;color&quot;: &quot;green&quot;, &quot;dashArray&quot;: null, &quot;dashOffset&quot;: null, &quot;fill&quot;: false, &quot;fillColor&quot;: &quot;green&quot;, &quot;fillOpacity&quot;: 0.2, &quot;fillRule&quot;: &quot;evenodd&quot;, &quot;lineCap&quot;: &quot;round&quot;, &quot;lineJoin&quot;: &quot;round&quot;, &quot;noClip&quot;: false, &quot;opacity&quot;: 1.0, &quot;smoothFactor&quot;: 1.0, &quot;stroke&quot;: true, &quot;weight&quot;: 10}\n",
       "            ).addTo(map_f1a80e88c84cb76166b6aaa3e5941c99);\n",
       "        \n",
       "    \n",
       "            var poly_line_15bd36a77af2db2c1bb00b36fac64e0f = L.polyline(\n",
       "                [[-37.814452696, 144.9661018932], [-37.8145002939, 144.9661238863]],\n",
       "                {&quot;bubblingMouseEvents&quot;: true, &quot;color&quot;: &quot;green&quot;, &quot;dashArray&quot;: null, &quot;dashOffset&quot;: null, &quot;fill&quot;: false, &quot;fillColor&quot;: &quot;green&quot;, &quot;fillOpacity&quot;: 0.2, &quot;fillRule&quot;: &quot;evenodd&quot;, &quot;lineCap&quot;: &quot;round&quot;, &quot;lineJoin&quot;: &quot;round&quot;, &quot;noClip&quot;: false, &quot;opacity&quot;: 1.0, &quot;smoothFactor&quot;: 1.0, &quot;stroke&quot;: true, &quot;weight&quot;: 10}\n",
       "            ).addTo(map_f1a80e88c84cb76166b6aaa3e5941c99);\n",
       "        \n",
       "    \n",
       "            var poly_line_033c6d5de4a4544649d4afd3096497d5 = L.polyline(\n",
       "                [[-37.8145002939, 144.9661238863], [-37.8145467563, 144.9661453552]],\n",
       "                {&quot;bubblingMouseEvents&quot;: true, &quot;color&quot;: &quot;green&quot;, &quot;dashArray&quot;: null, &quot;dashOffset&quot;: null, &quot;fill&quot;: false, &quot;fillColor&quot;: &quot;green&quot;, &quot;fillOpacity&quot;: 0.2, &quot;fillRule&quot;: &quot;evenodd&quot;, &quot;lineCap&quot;: &quot;round&quot;, &quot;lineJoin&quot;: &quot;round&quot;, &quot;noClip&quot;: false, &quot;opacity&quot;: 1.0, &quot;smoothFactor&quot;: 1.0, &quot;stroke&quot;: true, &quot;weight&quot;: 10}\n",
       "            ).addTo(map_f1a80e88c84cb76166b6aaa3e5941c99);\n",
       "        \n",
       "    \n",
       "            var poly_line_e350319e7d1b9997c6ba3b1352290110 = L.polyline(\n",
       "                [[-37.8145467563, 144.9661453552], [-37.814572671, 144.9661573291]],\n",
       "                {&quot;bubblingMouseEvents&quot;: true, &quot;color&quot;: &quot;green&quot;, &quot;dashArray&quot;: null, &quot;dashOffset&quot;: null, &quot;fill&quot;: false, &quot;fillColor&quot;: &quot;green&quot;, &quot;fillOpacity&quot;: 0.2, &quot;fillRule&quot;: &quot;evenodd&quot;, &quot;lineCap&quot;: &quot;round&quot;, &quot;lineJoin&quot;: &quot;round&quot;, &quot;noClip&quot;: false, &quot;opacity&quot;: 1.0, &quot;smoothFactor&quot;: 1.0, &quot;stroke&quot;: true, &quot;weight&quot;: 10}\n",
       "            ).addTo(map_f1a80e88c84cb76166b6aaa3e5941c99);\n",
       "        \n",
       "    \n",
       "            var poly_line_7dcd8f72cb1bc9bcb28e538c7eada829 = L.polyline(\n",
       "                [[-37.814572671, 144.9661573291], [-37.8145999905, 144.966170338]],\n",
       "                {&quot;bubblingMouseEvents&quot;: true, &quot;color&quot;: &quot;green&quot;, &quot;dashArray&quot;: null, &quot;dashOffset&quot;: null, &quot;fill&quot;: false, &quot;fillColor&quot;: &quot;green&quot;, &quot;fillOpacity&quot;: 0.2, &quot;fillRule&quot;: &quot;evenodd&quot;, &quot;lineCap&quot;: &quot;round&quot;, &quot;lineJoin&quot;: &quot;round&quot;, &quot;noClip&quot;: false, &quot;opacity&quot;: 1.0, &quot;smoothFactor&quot;: 1.0, &quot;stroke&quot;: true, &quot;weight&quot;: 10}\n",
       "            ).addTo(map_f1a80e88c84cb76166b6aaa3e5941c99);\n",
       "        \n",
       "    \n",
       "            var poly_line_49361a1561bb6430d843116ac427055a = L.polyline(\n",
       "                [[-37.8145999905, 144.966170338], [-37.8148625692, 144.9662953671]],\n",
       "                {&quot;bubblingMouseEvents&quot;: true, &quot;color&quot;: &quot;yellow&quot;, &quot;dashArray&quot;: null, &quot;dashOffset&quot;: null, &quot;fill&quot;: false, &quot;fillColor&quot;: &quot;yellow&quot;, &quot;fillOpacity&quot;: 0.2, &quot;fillRule&quot;: &quot;evenodd&quot;, &quot;lineCap&quot;: &quot;round&quot;, &quot;lineJoin&quot;: &quot;round&quot;, &quot;noClip&quot;: false, &quot;opacity&quot;: 1.0, &quot;smoothFactor&quot;: 1.0, &quot;stroke&quot;: true, &quot;weight&quot;: 10}\n",
       "            ).addTo(map_f1a80e88c84cb76166b6aaa3e5941c99);\n",
       "        \n",
       "    \n",
       "            var poly_line_e096a4f655f6d930f4da0f2bd96a8318 = L.polyline(\n",
       "                [[-37.8148625692, 144.9662953671], [-37.8151400451, 144.9664274902]],\n",
       "                {&quot;bubblingMouseEvents&quot;: true, &quot;color&quot;: &quot;yellow&quot;, &quot;dashArray&quot;: null, &quot;dashOffset&quot;: null, &quot;fill&quot;: false, &quot;fillColor&quot;: &quot;yellow&quot;, &quot;fillOpacity&quot;: 0.2, &quot;fillRule&quot;: &quot;evenodd&quot;, &quot;lineCap&quot;: &quot;round&quot;, &quot;lineJoin&quot;: &quot;round&quot;, &quot;noClip&quot;: false, &quot;opacity&quot;: 1.0, &quot;smoothFactor&quot;: 1.0, &quot;stroke&quot;: true, &quot;weight&quot;: 10}\n",
       "            ).addTo(map_f1a80e88c84cb76166b6aaa3e5941c99);\n",
       "        \n",
       "    \n",
       "            var poly_line_1962305f1ee6a561d3817581ad06e5e7 = L.polyline(\n",
       "                [[-37.8151400451, 144.9664274902], [-37.8153505344, 144.9665277175]],\n",
       "                {&quot;bubblingMouseEvents&quot;: true, &quot;color&quot;: &quot;green&quot;, &quot;dashArray&quot;: null, &quot;dashOffset&quot;: null, &quot;fill&quot;: false, &quot;fillColor&quot;: &quot;green&quot;, &quot;fillOpacity&quot;: 0.2, &quot;fillRule&quot;: &quot;evenodd&quot;, &quot;lineCap&quot;: &quot;round&quot;, &quot;lineJoin&quot;: &quot;round&quot;, &quot;noClip&quot;: false, &quot;opacity&quot;: 1.0, &quot;smoothFactor&quot;: 1.0, &quot;stroke&quot;: true, &quot;weight&quot;: 10}\n",
       "            ).addTo(map_f1a80e88c84cb76166b6aaa3e5941c99);\n",
       "        \n",
       "    \n",
       "            var poly_line_2a3c4e3d8590509413aa768324f02996 = L.polyline(\n",
       "                [[-37.8153505344, 144.9665277175], [-37.81536149, 144.9665329343]],\n",
       "                {&quot;bubblingMouseEvents&quot;: true, &quot;color&quot;: &quot;green&quot;, &quot;dashArray&quot;: null, &quot;dashOffset&quot;: null, &quot;fill&quot;: false, &quot;fillColor&quot;: &quot;green&quot;, &quot;fillOpacity&quot;: 0.2, &quot;fillRule&quot;: &quot;evenodd&quot;, &quot;lineCap&quot;: &quot;round&quot;, &quot;lineJoin&quot;: &quot;round&quot;, &quot;noClip&quot;: false, &quot;opacity&quot;: 1.0, &quot;smoothFactor&quot;: 1.0, &quot;stroke&quot;: true, &quot;weight&quot;: 10}\n",
       "            ).addTo(map_f1a80e88c84cb76166b6aaa3e5941c99);\n",
       "        \n",
       "    \n",
       "            var poly_line_c9233874b0ef6ed8a4e515829cd7889e = L.polyline(\n",
       "                [[-37.81536149, 144.9665329343], [-37.8154017319, 144.9665520797]],\n",
       "                {&quot;bubblingMouseEvents&quot;: true, &quot;color&quot;: &quot;green&quot;, &quot;dashArray&quot;: null, &quot;dashOffset&quot;: null, &quot;fill&quot;: false, &quot;fillColor&quot;: &quot;green&quot;, &quot;fillOpacity&quot;: 0.2, &quot;fillRule&quot;: &quot;evenodd&quot;, &quot;lineCap&quot;: &quot;round&quot;, &quot;lineJoin&quot;: &quot;round&quot;, &quot;noClip&quot;: false, &quot;opacity&quot;: 1.0, &quot;smoothFactor&quot;: 1.0, &quot;stroke&quot;: true, &quot;weight&quot;: 10}\n",
       "            ).addTo(map_f1a80e88c84cb76166b6aaa3e5941c99);\n",
       "        \n",
       "    \n",
       "            var poly_line_cd1d3732cd299eeb8fc9f1ec9eeecad7 = L.polyline(\n",
       "                [[-37.8154017319, 144.9665520797], [-37.8154783822, 144.966588547]],\n",
       "                {&quot;bubblingMouseEvents&quot;: true, &quot;color&quot;: &quot;orange&quot;, &quot;dashArray&quot;: null, &quot;dashOffset&quot;: null, &quot;fill&quot;: false, &quot;fillColor&quot;: &quot;orange&quot;, &quot;fillOpacity&quot;: 0.2, &quot;fillRule&quot;: &quot;evenodd&quot;, &quot;lineCap&quot;: &quot;round&quot;, &quot;lineJoin&quot;: &quot;round&quot;, &quot;noClip&quot;: false, &quot;opacity&quot;: 1.0, &quot;smoothFactor&quot;: 1.0, &quot;stroke&quot;: true, &quot;weight&quot;: 10}\n",
       "            ).addTo(map_f1a80e88c84cb76166b6aaa3e5941c99);\n",
       "        \n",
       "    \n",
       "            var poly_line_486e33b1c8f288aab6e0ba1a305c13a5 = L.polyline(\n",
       "                [[-37.8154783822, 144.966588547], [-37.8155546136, 144.9666248157]],\n",
       "                {&quot;bubblingMouseEvents&quot;: true, &quot;color&quot;: &quot;green&quot;, &quot;dashArray&quot;: null, &quot;dashOffset&quot;: null, &quot;fill&quot;: false, &quot;fillColor&quot;: &quot;green&quot;, &quot;fillOpacity&quot;: 0.2, &quot;fillRule&quot;: &quot;evenodd&quot;, &quot;lineCap&quot;: &quot;round&quot;, &quot;lineJoin&quot;: &quot;round&quot;, &quot;noClip&quot;: false, &quot;opacity&quot;: 1.0, &quot;smoothFactor&quot;: 1.0, &quot;stroke&quot;: true, &quot;weight&quot;: 10}\n",
       "            ).addTo(map_f1a80e88c84cb76166b6aaa3e5941c99);\n",
       "        \n",
       "    \n",
       "            var poly_line_8ef406e8989b138759bb0eb107a42b01 = L.polyline(\n",
       "                [[-37.8155546136, 144.9666248157], [-37.8156049551, 144.9666487676]],\n",
       "                {&quot;bubblingMouseEvents&quot;: true, &quot;color&quot;: &quot;green&quot;, &quot;dashArray&quot;: null, &quot;dashOffset&quot;: null, &quot;fill&quot;: false, &quot;fillColor&quot;: &quot;green&quot;, &quot;fillOpacity&quot;: 0.2, &quot;fillRule&quot;: &quot;evenodd&quot;, &quot;lineCap&quot;: &quot;round&quot;, &quot;lineJoin&quot;: &quot;round&quot;, &quot;noClip&quot;: false, &quot;opacity&quot;: 1.0, &quot;smoothFactor&quot;: 1.0, &quot;stroke&quot;: true, &quot;weight&quot;: 10}\n",
       "            ).addTo(map_f1a80e88c84cb76166b6aaa3e5941c99);\n",
       "        \n",
       "    \n",
       "            var poly_line_8b5979146180aa937a444301ba734abc = L.polyline(\n",
       "                [[-37.8156049551, 144.9666487676], [-37.8156956211, 144.9666919037]],\n",
       "                {&quot;bubblingMouseEvents&quot;: true, &quot;color&quot;: &quot;green&quot;, &quot;dashArray&quot;: null, &quot;dashOffset&quot;: null, &quot;fill&quot;: false, &quot;fillColor&quot;: &quot;green&quot;, &quot;fillOpacity&quot;: 0.2, &quot;fillRule&quot;: &quot;evenodd&quot;, &quot;lineCap&quot;: &quot;round&quot;, &quot;lineJoin&quot;: &quot;round&quot;, &quot;noClip&quot;: false, &quot;opacity&quot;: 1.0, &quot;smoothFactor&quot;: 1.0, &quot;stroke&quot;: true, &quot;weight&quot;: 10}\n",
       "            ).addTo(map_f1a80e88c84cb76166b6aaa3e5941c99);\n",
       "        \n",
       "    \n",
       "            var poly_line_5fd0b2eddb98cd03a33df17b56d88de1 = L.polyline(\n",
       "                [[-37.8156956211, 144.9666919037], [-37.8160304539, 144.9668483572]],\n",
       "                {&quot;bubblingMouseEvents&quot;: true, &quot;color&quot;: &quot;yellow&quot;, &quot;dashArray&quot;: null, &quot;dashOffset&quot;: null, &quot;fill&quot;: false, &quot;fillColor&quot;: &quot;yellow&quot;, &quot;fillOpacity&quot;: 0.2, &quot;fillRule&quot;: &quot;evenodd&quot;, &quot;lineCap&quot;: &quot;round&quot;, &quot;lineJoin&quot;: &quot;round&quot;, &quot;noClip&quot;: false, &quot;opacity&quot;: 1.0, &quot;smoothFactor&quot;: 1.0, &quot;stroke&quot;: true, &quot;weight&quot;: 10}\n",
       "            ).addTo(map_f1a80e88c84cb76166b6aaa3e5941c99);\n",
       "        \n",
       "    \n",
       "            var poly_line_b0ff8998322be4605ae96590181c80f1 = L.polyline(\n",
       "                [[-37.8160304539, 144.9668483572], [-37.8161041365, 144.9668827856]],\n",
       "                {&quot;bubblingMouseEvents&quot;: true, &quot;color&quot;: &quot;green&quot;, &quot;dashArray&quot;: null, &quot;dashOffset&quot;: null, &quot;fill&quot;: false, &quot;fillColor&quot;: &quot;green&quot;, &quot;fillOpacity&quot;: 0.2, &quot;fillRule&quot;: &quot;evenodd&quot;, &quot;lineCap&quot;: &quot;round&quot;, &quot;lineJoin&quot;: &quot;round&quot;, &quot;noClip&quot;: false, &quot;opacity&quot;: 1.0, &quot;smoothFactor&quot;: 1.0, &quot;stroke&quot;: true, &quot;weight&quot;: 10}\n",
       "            ).addTo(map_f1a80e88c84cb76166b6aaa3e5941c99);\n",
       "        \n",
       "    \n",
       "            var poly_line_77fbd8b588a73483fe13b3582b6f79ff = L.polyline(\n",
       "                [[-37.8161041365, 144.9668827856], [-37.8163893964, 144.9670160773]],\n",
       "                {&quot;bubblingMouseEvents&quot;: true, &quot;color&quot;: &quot;green&quot;, &quot;dashArray&quot;: null, &quot;dashOffset&quot;: null, &quot;fill&quot;: false, &quot;fillColor&quot;: &quot;green&quot;, &quot;fillOpacity&quot;: 0.2, &quot;fillRule&quot;: &quot;evenodd&quot;, &quot;lineCap&quot;: &quot;round&quot;, &quot;lineJoin&quot;: &quot;round&quot;, &quot;noClip&quot;: false, &quot;opacity&quot;: 1.0, &quot;smoothFactor&quot;: 1.0, &quot;stroke&quot;: true, &quot;weight&quot;: 10}\n",
       "            ).addTo(map_f1a80e88c84cb76166b6aaa3e5941c99);\n",
       "        \n",
       "    \n",
       "            var poly_line_d90e37bb1ceb0a207cd0ed12c4047c5d = L.polyline(\n",
       "                [[-37.8163893964, 144.9670160773], [-37.8164135993, 144.9670251054]],\n",
       "                {&quot;bubblingMouseEvents&quot;: true, &quot;color&quot;: &quot;green&quot;, &quot;dashArray&quot;: null, &quot;dashOffset&quot;: null, &quot;fill&quot;: false, &quot;fillColor&quot;: &quot;green&quot;, &quot;fillOpacity&quot;: 0.2, &quot;fillRule&quot;: &quot;evenodd&quot;, &quot;lineCap&quot;: &quot;round&quot;, &quot;lineJoin&quot;: &quot;round&quot;, &quot;noClip&quot;: false, &quot;opacity&quot;: 1.0, &quot;smoothFactor&quot;: 1.0, &quot;stroke&quot;: true, &quot;weight&quot;: 10}\n",
       "            ).addTo(map_f1a80e88c84cb76166b6aaa3e5941c99);\n",
       "        \n",
       "    \n",
       "            var poly_line_970ca07010c662546f9cf3a40c507654 = L.polyline(\n",
       "                [[-37.8164135993, 144.9670251054], [-37.8164680893, 144.9670454293]],\n",
       "                {&quot;bubblingMouseEvents&quot;: true, &quot;color&quot;: &quot;green&quot;, &quot;dashArray&quot;: null, &quot;dashOffset&quot;: null, &quot;fill&quot;: false, &quot;fillColor&quot;: &quot;green&quot;, &quot;fillOpacity&quot;: 0.2, &quot;fillRule&quot;: &quot;evenodd&quot;, &quot;lineCap&quot;: &quot;round&quot;, &quot;lineJoin&quot;: &quot;round&quot;, &quot;noClip&quot;: false, &quot;opacity&quot;: 1.0, &quot;smoothFactor&quot;: 1.0, &quot;stroke&quot;: true, &quot;weight&quot;: 10}\n",
       "            ).addTo(map_f1a80e88c84cb76166b6aaa3e5941c99);\n",
       "        \n",
       "    \n",
       "            var poly_line_5c1f82cd7347234f493e0ba3dffdf830 = L.polyline(\n",
       "                [[-37.8164680893, 144.9670454293], [-37.8165067209, 144.9670598381]],\n",
       "                {&quot;bubblingMouseEvents&quot;: true, &quot;color&quot;: &quot;green&quot;, &quot;dashArray&quot;: null, &quot;dashOffset&quot;: null, &quot;fill&quot;: false, &quot;fillColor&quot;: &quot;green&quot;, &quot;fillOpacity&quot;: 0.2, &quot;fillRule&quot;: &quot;evenodd&quot;, &quot;lineCap&quot;: &quot;round&quot;, &quot;lineJoin&quot;: &quot;round&quot;, &quot;noClip&quot;: false, &quot;opacity&quot;: 1.0, &quot;smoothFactor&quot;: 1.0, &quot;stroke&quot;: true, &quot;weight&quot;: 10}\n",
       "            ).addTo(map_f1a80e88c84cb76166b6aaa3e5941c99);\n",
       "        \n",
       "    \n",
       "            var poly_line_650ff195f9a749cdd98bd8d2faa6f866 = L.polyline(\n",
       "                [[-37.8165067209, 144.9670598381], [-37.8165318598, 144.9670692155]],\n",
       "                {&quot;bubblingMouseEvents&quot;: true, &quot;color&quot;: &quot;yellow&quot;, &quot;dashArray&quot;: null, &quot;dashOffset&quot;: null, &quot;fill&quot;: false, &quot;fillColor&quot;: &quot;yellow&quot;, &quot;fillOpacity&quot;: 0.2, &quot;fillRule&quot;: &quot;evenodd&quot;, &quot;lineCap&quot;: &quot;round&quot;, &quot;lineJoin&quot;: &quot;round&quot;, &quot;noClip&quot;: false, &quot;opacity&quot;: 1.0, &quot;smoothFactor&quot;: 1.0, &quot;stroke&quot;: true, &quot;weight&quot;: 10}\n",
       "            ).addTo(map_f1a80e88c84cb76166b6aaa3e5941c99);\n",
       "        \n",
       "    \n",
       "            var poly_line_4a8ef70bdb7dc677412c29429f0c82eb = L.polyline(\n",
       "                [[-37.8165318598, 144.9670692155], [-37.8173090018, 144.9674313881]],\n",
       "                {&quot;bubblingMouseEvents&quot;: true, &quot;color&quot;: &quot;red&quot;, &quot;dashArray&quot;: null, &quot;dashOffset&quot;: null, &quot;fill&quot;: false, &quot;fillColor&quot;: &quot;red&quot;, &quot;fillOpacity&quot;: 0.2, &quot;fillRule&quot;: &quot;evenodd&quot;, &quot;lineCap&quot;: &quot;round&quot;, &quot;lineJoin&quot;: &quot;round&quot;, &quot;noClip&quot;: false, &quot;opacity&quot;: 1.0, &quot;smoothFactor&quot;: 1.0, &quot;stroke&quot;: true, &quot;weight&quot;: 10}\n",
       "            ).addTo(map_f1a80e88c84cb76166b6aaa3e5941c99);\n",
       "        \n",
       "    \n",
       "            var poly_line_90fbd9a88f10ffcb1b174f9a1c2d104d = L.polyline(\n",
       "                [[-37.8173090018, 144.9674313881], [-37.8173195405, 144.9674375173]],\n",
       "                {&quot;bubblingMouseEvents&quot;: true, &quot;color&quot;: &quot;green&quot;, &quot;dashArray&quot;: null, &quot;dashOffset&quot;: null, &quot;fill&quot;: false, &quot;fillColor&quot;: &quot;green&quot;, &quot;fillOpacity&quot;: 0.2, &quot;fillRule&quot;: &quot;evenodd&quot;, &quot;lineCap&quot;: &quot;round&quot;, &quot;lineJoin&quot;: &quot;round&quot;, &quot;noClip&quot;: false, &quot;opacity&quot;: 1.0, &quot;smoothFactor&quot;: 1.0, &quot;stroke&quot;: true, &quot;weight&quot;: 10}\n",
       "            ).addTo(map_f1a80e88c84cb76166b6aaa3e5941c99);\n",
       "        \n",
       "    \n",
       "            var poly_line_cd268bb5b1419f4e0525394183c607e6 = L.polyline(\n",
       "                [[-37.8173195405, 144.9674375173], [-37.817433794, 144.9675039551]],\n",
       "                {&quot;bubblingMouseEvents&quot;: true, &quot;color&quot;: &quot;green&quot;, &quot;dashArray&quot;: null, &quot;dashOffset&quot;: null, &quot;fill&quot;: false, &quot;fillColor&quot;: &quot;green&quot;, &quot;fillOpacity&quot;: 0.2, &quot;fillRule&quot;: &quot;evenodd&quot;, &quot;lineCap&quot;: &quot;round&quot;, &quot;lineJoin&quot;: &quot;round&quot;, &quot;noClip&quot;: false, &quot;opacity&quot;: 1.0, &quot;smoothFactor&quot;: 1.0, &quot;stroke&quot;: true, &quot;weight&quot;: 10}\n",
       "            ).addTo(map_f1a80e88c84cb76166b6aaa3e5941c99);\n",
       "        \n",
       "    \n",
       "            var poly_line_eb50e1aac037467501101406c26e9bb6 = L.polyline(\n",
       "                [[-37.817433794, 144.9675039551], [-37.8175681972, 144.9675821115]],\n",
       "                {&quot;bubblingMouseEvents&quot;: true, &quot;color&quot;: &quot;green&quot;, &quot;dashArray&quot;: null, &quot;dashOffset&quot;: null, &quot;fill&quot;: false, &quot;fillColor&quot;: &quot;green&quot;, &quot;fillOpacity&quot;: 0.2, &quot;fillRule&quot;: &quot;evenodd&quot;, &quot;lineCap&quot;: &quot;round&quot;, &quot;lineJoin&quot;: &quot;round&quot;, &quot;noClip&quot;: false, &quot;opacity&quot;: 1.0, &quot;smoothFactor&quot;: 1.0, &quot;stroke&quot;: true, &quot;weight&quot;: 10}\n",
       "            ).addTo(map_f1a80e88c84cb76166b6aaa3e5941c99);\n",
       "        \n",
       "    \n",
       "            var poly_line_8ca3566dbab2b461d4c6f029ee9162fe = L.polyline(\n",
       "                [[-37.8175681972, 144.9675821115], [-37.8176138949, 144.9676086844]],\n",
       "                {&quot;bubblingMouseEvents&quot;: true, &quot;color&quot;: &quot;green&quot;, &quot;dashArray&quot;: null, &quot;dashOffset&quot;: null, &quot;fill&quot;: false, &quot;fillColor&quot;: &quot;green&quot;, &quot;fillOpacity&quot;: 0.2, &quot;fillRule&quot;: &quot;evenodd&quot;, &quot;lineCap&quot;: &quot;round&quot;, &quot;lineJoin&quot;: &quot;round&quot;, &quot;noClip&quot;: false, &quot;opacity&quot;: 1.0, &quot;smoothFactor&quot;: 1.0, &quot;stroke&quot;: true, &quot;weight&quot;: 10}\n",
       "            ).addTo(map_f1a80e88c84cb76166b6aaa3e5941c99);\n",
       "        \n",
       "    \n",
       "            var poly_line_5483d4842dd9d739e11d2d62ef9f7df2 = L.polyline(\n",
       "                [[-37.8176138949, 144.9676086844], [-37.8176761524, 144.9676487691]],\n",
       "                {&quot;bubblingMouseEvents&quot;: true, &quot;color&quot;: &quot;yellow&quot;, &quot;dashArray&quot;: null, &quot;dashOffset&quot;: null, &quot;fill&quot;: false, &quot;fillColor&quot;: &quot;yellow&quot;, &quot;fillOpacity&quot;: 0.2, &quot;fillRule&quot;: &quot;evenodd&quot;, &quot;lineCap&quot;: &quot;round&quot;, &quot;lineJoin&quot;: &quot;round&quot;, &quot;noClip&quot;: false, &quot;opacity&quot;: 1.0, &quot;smoothFactor&quot;: 1.0, &quot;stroke&quot;: true, &quot;weight&quot;: 10}\n",
       "            ).addTo(map_f1a80e88c84cb76166b6aaa3e5941c99);\n",
       "        \n",
       "    \n",
       "            var poly_line_ab69a18672d17a55d3e7401d900137b6 = L.polyline(\n",
       "                [[-37.8176761524, 144.9676487691], [-37.8177298182, 144.9676833231]],\n",
       "                {&quot;bubblingMouseEvents&quot;: true, &quot;color&quot;: &quot;green&quot;, &quot;dashArray&quot;: null, &quot;dashOffset&quot;: null, &quot;fill&quot;: false, &quot;fillColor&quot;: &quot;green&quot;, &quot;fillOpacity&quot;: 0.2, &quot;fillRule&quot;: &quot;evenodd&quot;, &quot;lineCap&quot;: &quot;round&quot;, &quot;lineJoin&quot;: &quot;round&quot;, &quot;noClip&quot;: false, &quot;opacity&quot;: 1.0, &quot;smoothFactor&quot;: 1.0, &quot;stroke&quot;: true, &quot;weight&quot;: 10}\n",
       "            ).addTo(map_f1a80e88c84cb76166b6aaa3e5941c99);\n",
       "        \n",
       "    \n",
       "            var poly_line_b453eb5c281f7a20dd4d9203de223541 = L.polyline(\n",
       "                [[-37.8177298182, 144.9676833231], [-37.817837301, 144.9677525272]],\n",
       "                {&quot;bubblingMouseEvents&quot;: true, &quot;color&quot;: &quot;yellow&quot;, &quot;dashArray&quot;: null, &quot;dashOffset&quot;: null, &quot;fill&quot;: false, &quot;fillColor&quot;: &quot;yellow&quot;, &quot;fillOpacity&quot;: 0.2, &quot;fillRule&quot;: &quot;evenodd&quot;, &quot;lineCap&quot;: &quot;round&quot;, &quot;lineJoin&quot;: &quot;round&quot;, &quot;noClip&quot;: false, &quot;opacity&quot;: 1.0, &quot;smoothFactor&quot;: 1.0, &quot;stroke&quot;: true, &quot;weight&quot;: 10}\n",
       "            ).addTo(map_f1a80e88c84cb76166b6aaa3e5941c99);\n",
       "        \n",
       "    \n",
       "            var poly_line_1ee3a8dccb5a92028f2ec9f9a76ecc5d = L.polyline(\n",
       "                [[-37.817837301, 144.9677525272], [-37.8179452766, 144.967817291]],\n",
       "                {&quot;bubblingMouseEvents&quot;: true, &quot;color&quot;: &quot;yellow&quot;, &quot;dashArray&quot;: null, &quot;dashOffset&quot;: null, &quot;fill&quot;: false, &quot;fillColor&quot;: &quot;yellow&quot;, &quot;fillOpacity&quot;: 0.2, &quot;fillRule&quot;: &quot;evenodd&quot;, &quot;lineCap&quot;: &quot;round&quot;, &quot;lineJoin&quot;: &quot;round&quot;, &quot;noClip&quot;: false, &quot;opacity&quot;: 1.0, &quot;smoothFactor&quot;: 1.0, &quot;stroke&quot;: true, &quot;weight&quot;: 10}\n",
       "            ).addTo(map_f1a80e88c84cb76166b6aaa3e5941c99);\n",
       "        \n",
       "    \n",
       "            var poly_line_36fb0b226a5ee31d45e9f4d480599a90 = L.polyline(\n",
       "                [[-37.8179452766, 144.967817291], [-37.8183261169, 144.9679964256]],\n",
       "                {&quot;bubblingMouseEvents&quot;: true, &quot;color&quot;: &quot;yellow&quot;, &quot;dashArray&quot;: null, &quot;dashOffset&quot;: null, &quot;fill&quot;: false, &quot;fillColor&quot;: &quot;yellow&quot;, &quot;fillOpacity&quot;: 0.2, &quot;fillRule&quot;: &quot;evenodd&quot;, &quot;lineCap&quot;: &quot;round&quot;, &quot;lineJoin&quot;: &quot;round&quot;, &quot;noClip&quot;: false, &quot;opacity&quot;: 1.0, &quot;smoothFactor&quot;: 1.0, &quot;stroke&quot;: true, &quot;weight&quot;: 10}\n",
       "            ).addTo(map_f1a80e88c84cb76166b6aaa3e5941c99);\n",
       "        \n",
       "    \n",
       "            var poly_line_286283ea451cfd25485dbf0938a4bc7e = L.polyline(\n",
       "                [[-37.8183261169, 144.9679964256], [-37.8183656688, 144.9680150292]],\n",
       "                {&quot;bubblingMouseEvents&quot;: true, &quot;color&quot;: &quot;green&quot;, &quot;dashArray&quot;: null, &quot;dashOffset&quot;: null, &quot;fill&quot;: false, &quot;fillColor&quot;: &quot;green&quot;, &quot;fillOpacity&quot;: 0.2, &quot;fillRule&quot;: &quot;evenodd&quot;, &quot;lineCap&quot;: &quot;round&quot;, &quot;lineJoin&quot;: &quot;round&quot;, &quot;noClip&quot;: false, &quot;opacity&quot;: 1.0, &quot;smoothFactor&quot;: 1.0, &quot;stroke&quot;: true, &quot;weight&quot;: 10}\n",
       "            ).addTo(map_f1a80e88c84cb76166b6aaa3e5941c99);\n",
       "        \n",
       "    \n",
       "            var poly_line_7e92dffaf4def6d38e061840f03bfda1 = L.polyline(\n",
       "                [[-37.8183656688, 144.9680150292], [-37.8183900773, 144.9680256359]],\n",
       "                {&quot;bubblingMouseEvents&quot;: true, &quot;color&quot;: &quot;green&quot;, &quot;dashArray&quot;: null, &quot;dashOffset&quot;: null, &quot;fill&quot;: false, &quot;fillColor&quot;: &quot;green&quot;, &quot;fillOpacity&quot;: 0.2, &quot;fillRule&quot;: &quot;evenodd&quot;, &quot;lineCap&quot;: &quot;round&quot;, &quot;lineJoin&quot;: &quot;round&quot;, &quot;noClip&quot;: false, &quot;opacity&quot;: 1.0, &quot;smoothFactor&quot;: 1.0, &quot;stroke&quot;: true, &quot;weight&quot;: 10}\n",
       "            ).addTo(map_f1a80e88c84cb76166b6aaa3e5941c99);\n",
       "        \n",
       "    \n",
       "            var poly_line_9faa4e46ee199cd1d382aa78aa8bc2af = L.polyline(\n",
       "                [[-37.8183900773, 144.9680256359], [-37.8185418724, 144.9680915992]],\n",
       "                {&quot;bubblingMouseEvents&quot;: true, &quot;color&quot;: &quot;green&quot;, &quot;dashArray&quot;: null, &quot;dashOffset&quot;: null, &quot;fill&quot;: false, &quot;fillColor&quot;: &quot;green&quot;, &quot;fillOpacity&quot;: 0.2, &quot;fillRule&quot;: &quot;evenodd&quot;, &quot;lineCap&quot;: &quot;round&quot;, &quot;lineJoin&quot;: &quot;round&quot;, &quot;noClip&quot;: false, &quot;opacity&quot;: 1.0, &quot;smoothFactor&quot;: 1.0, &quot;stroke&quot;: true, &quot;weight&quot;: 10}\n",
       "            ).addTo(map_f1a80e88c84cb76166b6aaa3e5941c99);\n",
       "        \n",
       "    \n",
       "            var poly_line_792a38d3c0abc2fee7e39701ae428d76 = L.polyline(\n",
       "                [[-37.8185418724, 144.9680915992], [-37.8186744119, 144.9681335835]],\n",
       "                {&quot;bubblingMouseEvents&quot;: true, &quot;color&quot;: &quot;green&quot;, &quot;dashArray&quot;: null, &quot;dashOffset&quot;: null, &quot;fill&quot;: false, &quot;fillColor&quot;: &quot;green&quot;, &quot;fillOpacity&quot;: 0.2, &quot;fillRule&quot;: &quot;evenodd&quot;, &quot;lineCap&quot;: &quot;round&quot;, &quot;lineJoin&quot;: &quot;round&quot;, &quot;noClip&quot;: false, &quot;opacity&quot;: 1.0, &quot;smoothFactor&quot;: 1.0, &quot;stroke&quot;: true, &quot;weight&quot;: 10}\n",
       "            ).addTo(map_f1a80e88c84cb76166b6aaa3e5941c99);\n",
       "        \n",
       "    \n",
       "            var poly_line_3d335bddc2ee0c7acc6101b125eaa1ef = L.polyline(\n",
       "                [[-37.8186744119, 144.9681335835], [-37.8187066358, 144.9681443202]],\n",
       "                {&quot;bubblingMouseEvents&quot;: true, &quot;color&quot;: &quot;green&quot;, &quot;dashArray&quot;: null, &quot;dashOffset&quot;: null, &quot;fill&quot;: false, &quot;fillColor&quot;: &quot;green&quot;, &quot;fillOpacity&quot;: 0.2, &quot;fillRule&quot;: &quot;evenodd&quot;, &quot;lineCap&quot;: &quot;round&quot;, &quot;lineJoin&quot;: &quot;round&quot;, &quot;noClip&quot;: false, &quot;opacity&quot;: 1.0, &quot;smoothFactor&quot;: 1.0, &quot;stroke&quot;: true, &quot;weight&quot;: 10}\n",
       "            ).addTo(map_f1a80e88c84cb76166b6aaa3e5941c99);\n",
       "        \n",
       "    \n",
       "            var poly_line_55ceff448730416c688da69673231822 = L.polyline(\n",
       "                [[-37.8187066358, 144.9681443202], [-37.8187484493, 144.9681582508]],\n",
       "                {&quot;bubblingMouseEvents&quot;: true, &quot;color&quot;: &quot;green&quot;, &quot;dashArray&quot;: null, &quot;dashOffset&quot;: null, &quot;fill&quot;: false, &quot;fillColor&quot;: &quot;green&quot;, &quot;fillOpacity&quot;: 0.2, &quot;fillRule&quot;: &quot;evenodd&quot;, &quot;lineCap&quot;: &quot;round&quot;, &quot;lineJoin&quot;: &quot;round&quot;, &quot;noClip&quot;: false, &quot;opacity&quot;: 1.0, &quot;smoothFactor&quot;: 1.0, &quot;stroke&quot;: true, &quot;weight&quot;: 10}\n",
       "            ).addTo(map_f1a80e88c84cb76166b6aaa3e5941c99);\n",
       "        \n",
       "    \n",
       "            var poly_line_171979a9a4767455e1eaf14353c56ba0 = L.polyline(\n",
       "                [[-37.8187484493, 144.9681582508], [-37.8188144129, 144.9681777434]],\n",
       "                {&quot;bubblingMouseEvents&quot;: true, &quot;color&quot;: &quot;green&quot;, &quot;dashArray&quot;: null, &quot;dashOffset&quot;: null, &quot;fill&quot;: false, &quot;fillColor&quot;: &quot;green&quot;, &quot;fillOpacity&quot;: 0.2, &quot;fillRule&quot;: &quot;evenodd&quot;, &quot;lineCap&quot;: &quot;round&quot;, &quot;lineJoin&quot;: &quot;round&quot;, &quot;noClip&quot;: false, &quot;opacity&quot;: 1.0, &quot;smoothFactor&quot;: 1.0, &quot;stroke&quot;: true, &quot;weight&quot;: 10}\n",
       "            ).addTo(map_f1a80e88c84cb76166b6aaa3e5941c99);\n",
       "        \n",
       "    \n",
       "            var poly_line_8cf7466afda57eee995c8576beef613d = L.polyline(\n",
       "                [[-37.8188144129, 144.9681777434], [-37.8188212598, 144.9681797663]],\n",
       "                {&quot;bubblingMouseEvents&quot;: true, &quot;color&quot;: &quot;green&quot;, &quot;dashArray&quot;: null, &quot;dashOffset&quot;: null, &quot;fill&quot;: false, &quot;fillColor&quot;: &quot;green&quot;, &quot;fillOpacity&quot;: 0.2, &quot;fillRule&quot;: &quot;evenodd&quot;, &quot;lineCap&quot;: &quot;round&quot;, &quot;lineJoin&quot;: &quot;round&quot;, &quot;noClip&quot;: false, &quot;opacity&quot;: 1.0, &quot;smoothFactor&quot;: 1.0, &quot;stroke&quot;: true, &quot;weight&quot;: 10}\n",
       "            ).addTo(map_f1a80e88c84cb76166b6aaa3e5941c99);\n",
       "        \n",
       "    \n",
       "            var poly_line_05502dc41197c8a0978f3e4c44999a38 = L.polyline(\n",
       "                [[-37.8188212598, 144.9681797663], [-37.8188432792, 144.9681903727]],\n",
       "                {&quot;bubblingMouseEvents&quot;: true, &quot;color&quot;: &quot;green&quot;, &quot;dashArray&quot;: null, &quot;dashOffset&quot;: null, &quot;fill&quot;: false, &quot;fillColor&quot;: &quot;green&quot;, &quot;fillOpacity&quot;: 0.2, &quot;fillRule&quot;: &quot;evenodd&quot;, &quot;lineCap&quot;: &quot;round&quot;, &quot;lineJoin&quot;: &quot;round&quot;, &quot;noClip&quot;: false, &quot;opacity&quot;: 1.0, &quot;smoothFactor&quot;: 1.0, &quot;stroke&quot;: true, &quot;weight&quot;: 10}\n",
       "            ).addTo(map_f1a80e88c84cb76166b6aaa3e5941c99);\n",
       "        \n",
       "    \n",
       "            var poly_line_200eee737b6a93d2c7d1d92d255dc955 = L.polyline(\n",
       "                [[-37.8188432792, 144.9681903727], [-37.819011146, 144.9682712312]],\n",
       "                {&quot;bubblingMouseEvents&quot;: true, &quot;color&quot;: &quot;green&quot;, &quot;dashArray&quot;: null, &quot;dashOffset&quot;: null, &quot;fill&quot;: false, &quot;fillColor&quot;: &quot;green&quot;, &quot;fillOpacity&quot;: 0.2, &quot;fillRule&quot;: &quot;evenodd&quot;, &quot;lineCap&quot;: &quot;round&quot;, &quot;lineJoin&quot;: &quot;round&quot;, &quot;noClip&quot;: false, &quot;opacity&quot;: 1.0, &quot;smoothFactor&quot;: 1.0, &quot;stroke&quot;: true, &quot;weight&quot;: 10}\n",
       "            ).addTo(map_f1a80e88c84cb76166b6aaa3e5941c99);\n",
       "        \n",
       "    \n",
       "            var poly_line_c481d55593ffb50e5aed89962afaa4d5 = L.polyline(\n",
       "                [[-37.819011146, 144.9682712312], [-37.8193003164, 144.9684094345]],\n",
       "                {&quot;bubblingMouseEvents&quot;: true, &quot;color&quot;: &quot;green&quot;, &quot;dashArray&quot;: null, &quot;dashOffset&quot;: null, &quot;fill&quot;: false, &quot;fillColor&quot;: &quot;green&quot;, &quot;fillOpacity&quot;: 0.2, &quot;fillRule&quot;: &quot;evenodd&quot;, &quot;lineCap&quot;: &quot;round&quot;, &quot;lineJoin&quot;: &quot;round&quot;, &quot;noClip&quot;: false, &quot;opacity&quot;: 1.0, &quot;smoothFactor&quot;: 1.0, &quot;stroke&quot;: true, &quot;weight&quot;: 10}\n",
       "            ).addTo(map_f1a80e88c84cb76166b6aaa3e5941c99);\n",
       "        \n",
       "    \n",
       "            var poly_line_50b76b66871f2a8c852072d2db9c3c6b = L.polyline(\n",
       "                [[-37.8193003164, 144.9684094345], [-37.8195759612, 144.9685365823]],\n",
       "                {&quot;bubblingMouseEvents&quot;: true, &quot;color&quot;: &quot;green&quot;, &quot;dashArray&quot;: null, &quot;dashOffset&quot;: null, &quot;fill&quot;: false, &quot;fillColor&quot;: &quot;green&quot;, &quot;fillOpacity&quot;: 0.2, &quot;fillRule&quot;: &quot;evenodd&quot;, &quot;lineCap&quot;: &quot;round&quot;, &quot;lineJoin&quot;: &quot;round&quot;, &quot;noClip&quot;: false, &quot;opacity&quot;: 1.0, &quot;smoothFactor&quot;: 1.0, &quot;stroke&quot;: true, &quot;weight&quot;: 10}\n",
       "            ).addTo(map_f1a80e88c84cb76166b6aaa3e5941c99);\n",
       "        \n",
       "    \n",
       "            var poly_line_9dfa84e5adb6cf3cfea04de213aeb599 = L.polyline(\n",
       "                [[-37.8195759612, 144.9685365823], [-37.819656112, 144.9685743594]],\n",
       "                {&quot;bubblingMouseEvents&quot;: true, &quot;color&quot;: &quot;green&quot;, &quot;dashArray&quot;: null, &quot;dashOffset&quot;: null, &quot;fill&quot;: false, &quot;fillColor&quot;: &quot;green&quot;, &quot;fillOpacity&quot;: 0.2, &quot;fillRule&quot;: &quot;evenodd&quot;, &quot;lineCap&quot;: &quot;round&quot;, &quot;lineJoin&quot;: &quot;round&quot;, &quot;noClip&quot;: false, &quot;opacity&quot;: 1.0, &quot;smoothFactor&quot;: 1.0, &quot;stroke&quot;: true, &quot;weight&quot;: 10}\n",
       "            ).addTo(map_f1a80e88c84cb76166b6aaa3e5941c99);\n",
       "        \n",
       "    \n",
       "            var poly_line_2e0b33c53f88ab8503df24803e56b109 = L.polyline(\n",
       "                [[-37.819656112, 144.9685743594], [-37.8197177318, 144.968603403]],\n",
       "                {&quot;bubblingMouseEvents&quot;: true, &quot;color&quot;: &quot;green&quot;, &quot;dashArray&quot;: null, &quot;dashOffset&quot;: null, &quot;fill&quot;: false, &quot;fillColor&quot;: &quot;green&quot;, &quot;fillOpacity&quot;: 0.2, &quot;fillRule&quot;: &quot;evenodd&quot;, &quot;lineCap&quot;: &quot;round&quot;, &quot;lineJoin&quot;: &quot;round&quot;, &quot;noClip&quot;: false, &quot;opacity&quot;: 1.0, &quot;smoothFactor&quot;: 1.0, &quot;stroke&quot;: true, &quot;weight&quot;: 10}\n",
       "            ).addTo(map_f1a80e88c84cb76166b6aaa3e5941c99);\n",
       "        \n",
       "    \n",
       "            var poly_line_75010251ce1731cc6c1a822a4e06e19c = L.polyline(\n",
       "                [[-37.8197177318, 144.968603403], [-37.8198188959, 144.9686510863]],\n",
       "                {&quot;bubblingMouseEvents&quot;: true, &quot;color&quot;: &quot;green&quot;, &quot;dashArray&quot;: null, &quot;dashOffset&quot;: null, &quot;fill&quot;: false, &quot;fillColor&quot;: &quot;green&quot;, &quot;fillOpacity&quot;: 0.2, &quot;fillRule&quot;: &quot;evenodd&quot;, &quot;lineCap&quot;: &quot;round&quot;, &quot;lineJoin&quot;: &quot;round&quot;, &quot;noClip&quot;: false, &quot;opacity&quot;: 1.0, &quot;smoothFactor&quot;: 1.0, &quot;stroke&quot;: true, &quot;weight&quot;: 10}\n",
       "            ).addTo(map_f1a80e88c84cb76166b6aaa3e5941c99);\n",
       "        \n",
       "    \n",
       "            var poly_line_b4d38d19436aaef2d0728722a86b9d23 = L.polyline(\n",
       "                [[-37.8198188959, 144.9686510863], [-37.8200092582, 144.9687408114]],\n",
       "                {&quot;bubblingMouseEvents&quot;: true, &quot;color&quot;: &quot;green&quot;, &quot;dashArray&quot;: null, &quot;dashOffset&quot;: null, &quot;fill&quot;: false, &quot;fillColor&quot;: &quot;green&quot;, &quot;fillOpacity&quot;: 0.2, &quot;fillRule&quot;: &quot;evenodd&quot;, &quot;lineCap&quot;: &quot;round&quot;, &quot;lineJoin&quot;: &quot;round&quot;, &quot;noClip&quot;: false, &quot;opacity&quot;: 1.0, &quot;smoothFactor&quot;: 1.0, &quot;stroke&quot;: true, &quot;weight&quot;: 10}\n",
       "            ).addTo(map_f1a80e88c84cb76166b6aaa3e5941c99);\n",
       "        \n",
       "    \n",
       "            var poly_line_d169a91e0d0b88c01d98c0145eb54109 = L.polyline(\n",
       "                [[-37.8200092582, 144.9687408114], [-37.8201683556, 144.9688285335]],\n",
       "                {&quot;bubblingMouseEvents&quot;: true, &quot;color&quot;: &quot;green&quot;, &quot;dashArray&quot;: null, &quot;dashOffset&quot;: null, &quot;fill&quot;: false, &quot;fillColor&quot;: &quot;green&quot;, &quot;fillOpacity&quot;: 0.2, &quot;fillRule&quot;: &quot;evenodd&quot;, &quot;lineCap&quot;: &quot;round&quot;, &quot;lineJoin&quot;: &quot;round&quot;, &quot;noClip&quot;: false, &quot;opacity&quot;: 1.0, &quot;smoothFactor&quot;: 1.0, &quot;stroke&quot;: true, &quot;weight&quot;: 10}\n",
       "            ).addTo(map_f1a80e88c84cb76166b6aaa3e5941c99);\n",
       "        \n",
       "    \n",
       "            var poly_line_e8317309ef5e85f1331a4c7c7f88abff = L.polyline(\n",
       "                [[-37.8201683556, 144.9688285335], [-37.8202189514, 144.9688575912]],\n",
       "                {&quot;bubblingMouseEvents&quot;: true, &quot;color&quot;: &quot;green&quot;, &quot;dashArray&quot;: null, &quot;dashOffset&quot;: null, &quot;fill&quot;: false, &quot;fillColor&quot;: &quot;green&quot;, &quot;fillOpacity&quot;: 0.2, &quot;fillRule&quot;: &quot;evenodd&quot;, &quot;lineCap&quot;: &quot;round&quot;, &quot;lineJoin&quot;: &quot;round&quot;, &quot;noClip&quot;: false, &quot;opacity&quot;: 1.0, &quot;smoothFactor&quot;: 1.0, &quot;stroke&quot;: true, &quot;weight&quot;: 10}\n",
       "            ).addTo(map_f1a80e88c84cb76166b6aaa3e5941c99);\n",
       "        \n",
       "    \n",
       "            var poly_line_aad82ad29400a5471d639be689bf4b96 = L.polyline(\n",
       "                [[-37.8202189514, 144.9688575912], [-37.8202883975, 144.9689295039]],\n",
       "                {&quot;bubblingMouseEvents&quot;: true, &quot;color&quot;: &quot;yellow&quot;, &quot;dashArray&quot;: null, &quot;dashOffset&quot;: null, &quot;fill&quot;: false, &quot;fillColor&quot;: &quot;yellow&quot;, &quot;fillOpacity&quot;: 0.2, &quot;fillRule&quot;: &quot;evenodd&quot;, &quot;lineCap&quot;: &quot;round&quot;, &quot;lineJoin&quot;: &quot;round&quot;, &quot;noClip&quot;: false, &quot;opacity&quot;: 1.0, &quot;smoothFactor&quot;: 1.0, &quot;stroke&quot;: true, &quot;weight&quot;: 10}\n",
       "            ).addTo(map_f1a80e88c84cb76166b6aaa3e5941c99);\n",
       "        \n",
       "    \n",
       "            var poly_line_23e93aa21d4955daf62da6e18aaf723e = L.polyline(\n",
       "                [[-37.8202883975, 144.9689295039], [-37.8203565271, 144.9689930223]],\n",
       "                {&quot;bubblingMouseEvents&quot;: true, &quot;color&quot;: &quot;yellow&quot;, &quot;dashArray&quot;: null, &quot;dashOffset&quot;: null, &quot;fill&quot;: false, &quot;fillColor&quot;: &quot;yellow&quot;, &quot;fillOpacity&quot;: 0.2, &quot;fillRule&quot;: &quot;evenodd&quot;, &quot;lineCap&quot;: &quot;round&quot;, &quot;lineJoin&quot;: &quot;round&quot;, &quot;noClip&quot;: false, &quot;opacity&quot;: 1.0, &quot;smoothFactor&quot;: 1.0, &quot;stroke&quot;: true, &quot;weight&quot;: 10}\n",
       "            ).addTo(map_f1a80e88c84cb76166b6aaa3e5941c99);\n",
       "        \n",
       "    \n",
       "            var poly_line_af0574544080ebfed85ea21e2a1aa68a = L.polyline(\n",
       "                [[-37.8203565271, 144.9689930223], [-37.8205442801, 144.9691332619]],\n",
       "                {&quot;bubblingMouseEvents&quot;: true, &quot;color&quot;: &quot;green&quot;, &quot;dashArray&quot;: null, &quot;dashOffset&quot;: null, &quot;fill&quot;: false, &quot;fillColor&quot;: &quot;green&quot;, &quot;fillOpacity&quot;: 0.2, &quot;fillRule&quot;: &quot;evenodd&quot;, &quot;lineCap&quot;: &quot;round&quot;, &quot;lineJoin&quot;: &quot;round&quot;, &quot;noClip&quot;: false, &quot;opacity&quot;: 1.0, &quot;smoothFactor&quot;: 1.0, &quot;stroke&quot;: true, &quot;weight&quot;: 10}\n",
       "            ).addTo(map_f1a80e88c84cb76166b6aaa3e5941c99);\n",
       "        \n",
       "    \n",
       "            var poly_line_0f788015ce9ba6ef53c7e84cc16da305 = L.polyline(\n",
       "                [[-37.8205442801, 144.9691332619], [-37.8206478771, 144.9691897193]],\n",
       "                {&quot;bubblingMouseEvents&quot;: true, &quot;color&quot;: &quot;green&quot;, &quot;dashArray&quot;: null, &quot;dashOffset&quot;: null, &quot;fill&quot;: false, &quot;fillColor&quot;: &quot;green&quot;, &quot;fillOpacity&quot;: 0.2, &quot;fillRule&quot;: &quot;evenodd&quot;, &quot;lineCap&quot;: &quot;round&quot;, &quot;lineJoin&quot;: &quot;round&quot;, &quot;noClip&quot;: false, &quot;opacity&quot;: 1.0, &quot;smoothFactor&quot;: 1.0, &quot;stroke&quot;: true, &quot;weight&quot;: 10}\n",
       "            ).addTo(map_f1a80e88c84cb76166b6aaa3e5941c99);\n",
       "        \n",
       "    \n",
       "            var poly_line_9aa5fe9b2dd9f9979e0950d4bb386e60 = L.polyline(\n",
       "                [[-37.8206478771, 144.9691897193], [-37.8206515392, 144.9691913753]],\n",
       "                {&quot;bubblingMouseEvents&quot;: true, &quot;color&quot;: &quot;green&quot;, &quot;dashArray&quot;: null, &quot;dashOffset&quot;: null, &quot;fill&quot;: false, &quot;fillColor&quot;: &quot;green&quot;, &quot;fillOpacity&quot;: 0.2, &quot;fillRule&quot;: &quot;evenodd&quot;, &quot;lineCap&quot;: &quot;round&quot;, &quot;lineJoin&quot;: &quot;round&quot;, &quot;noClip&quot;: false, &quot;opacity&quot;: 1.0, &quot;smoothFactor&quot;: 1.0, &quot;stroke&quot;: true, &quot;weight&quot;: 10}\n",
       "            ).addTo(map_f1a80e88c84cb76166b6aaa3e5941c99);\n",
       "        \n",
       "    \n",
       "            var poly_line_9197d2333d3de8d74f5db2b4bf1304fe = L.polyline(\n",
       "                [[-37.8206515392, 144.9691913753], [-37.8207596498, 144.9692401317]],\n",
       "                {&quot;bubblingMouseEvents&quot;: true, &quot;color&quot;: &quot;green&quot;, &quot;dashArray&quot;: null, &quot;dashOffset&quot;: null, &quot;fill&quot;: false, &quot;fillColor&quot;: &quot;green&quot;, &quot;fillOpacity&quot;: 0.2, &quot;fillRule&quot;: &quot;evenodd&quot;, &quot;lineCap&quot;: &quot;round&quot;, &quot;lineJoin&quot;: &quot;round&quot;, &quot;noClip&quot;: false, &quot;opacity&quot;: 1.0, &quot;smoothFactor&quot;: 1.0, &quot;stroke&quot;: true, &quot;weight&quot;: 10}\n",
       "            ).addTo(map_f1a80e88c84cb76166b6aaa3e5941c99);\n",
       "        \n",
       "    \n",
       "            var poly_line_61d8999935c3daf4f8d7c342020e6cd8 = L.polyline(\n",
       "                [[-37.8207596498, 144.9692401317], [-37.820978773, 144.9693389638]],\n",
       "                {&quot;bubblingMouseEvents&quot;: true, &quot;color&quot;: &quot;yellow&quot;, &quot;dashArray&quot;: null, &quot;dashOffset&quot;: null, &quot;fill&quot;: false, &quot;fillColor&quot;: &quot;yellow&quot;, &quot;fillOpacity&quot;: 0.2, &quot;fillRule&quot;: &quot;evenodd&quot;, &quot;lineCap&quot;: &quot;round&quot;, &quot;lineJoin&quot;: &quot;round&quot;, &quot;noClip&quot;: false, &quot;opacity&quot;: 1.0, &quot;smoothFactor&quot;: 1.0, &quot;stroke&quot;: true, &quot;weight&quot;: 10}\n",
       "            ).addTo(map_f1a80e88c84cb76166b6aaa3e5941c99);\n",
       "        \n",
       "    \n",
       "            var poly_line_549cc3591159d41ff4c7c61efd81d9ec = L.polyline(\n",
       "                [[-37.820978773, 144.9693389638], [-37.8210530559, 144.9693727123]],\n",
       "                {&quot;bubblingMouseEvents&quot;: true, &quot;color&quot;: &quot;yellow&quot;, &quot;dashArray&quot;: null, &quot;dashOffset&quot;: null, &quot;fill&quot;: false, &quot;fillColor&quot;: &quot;yellow&quot;, &quot;fillOpacity&quot;: 0.2, &quot;fillRule&quot;: &quot;evenodd&quot;, &quot;lineCap&quot;: &quot;round&quot;, &quot;lineJoin&quot;: &quot;round&quot;, &quot;noClip&quot;: false, &quot;opacity&quot;: 1.0, &quot;smoothFactor&quot;: 1.0, &quot;stroke&quot;: true, &quot;weight&quot;: 10}\n",
       "            ).addTo(map_f1a80e88c84cb76166b6aaa3e5941c99);\n",
       "        \n",
       "    \n",
       "            var poly_line_b51d517755e435d29d9c8906c06ca184 = L.polyline(\n",
       "                [[-37.8210530559, 144.9693727123], [-37.8211102638, 144.9693991231]],\n",
       "                {&quot;bubblingMouseEvents&quot;: true, &quot;color&quot;: &quot;yellow&quot;, &quot;dashArray&quot;: null, &quot;dashOffset&quot;: null, &quot;fill&quot;: false, &quot;fillColor&quot;: &quot;yellow&quot;, &quot;fillOpacity&quot;: 0.2, &quot;fillRule&quot;: &quot;evenodd&quot;, &quot;lineCap&quot;: &quot;round&quot;, &quot;lineJoin&quot;: &quot;round&quot;, &quot;noClip&quot;: false, &quot;opacity&quot;: 1.0, &quot;smoothFactor&quot;: 1.0, &quot;stroke&quot;: true, &quot;weight&quot;: 10}\n",
       "            ).addTo(map_f1a80e88c84cb76166b6aaa3e5941c99);\n",
       "        \n",
       "    \n",
       "            var poly_line_04a5ab332522e962d54579883e1b7b81 = L.polyline(\n",
       "                [[-37.8211102638, 144.9693991231], [-37.822904649, 144.97022756]],\n",
       "                {&quot;bubblingMouseEvents&quot;: true, &quot;color&quot;: &quot;green&quot;, &quot;dashArray&quot;: null, &quot;dashOffset&quot;: null, &quot;fill&quot;: false, &quot;fillColor&quot;: &quot;green&quot;, &quot;fillOpacity&quot;: 0.2, &quot;fillRule&quot;: &quot;evenodd&quot;, &quot;lineCap&quot;: &quot;round&quot;, &quot;lineJoin&quot;: &quot;round&quot;, &quot;noClip&quot;: false, &quot;opacity&quot;: 1.0, &quot;smoothFactor&quot;: 1.0, &quot;stroke&quot;: true, &quot;weight&quot;: 10}\n",
       "            ).addTo(map_f1a80e88c84cb76166b6aaa3e5941c99);\n",
       "        \n",
       "    \n",
       "            var poly_line_63958d2f41971914ffc9a849ca3ee676 = L.polyline(\n",
       "                [[-37.822904649, 144.97022756], [-37.8231058505, 144.9703218898]],\n",
       "                {&quot;bubblingMouseEvents&quot;: true, &quot;color&quot;: &quot;green&quot;, &quot;dashArray&quot;: null, &quot;dashOffset&quot;: null, &quot;fill&quot;: false, &quot;fillColor&quot;: &quot;green&quot;, &quot;fillOpacity&quot;: 0.2, &quot;fillRule&quot;: &quot;evenodd&quot;, &quot;lineCap&quot;: &quot;round&quot;, &quot;lineJoin&quot;: &quot;round&quot;, &quot;noClip&quot;: false, &quot;opacity&quot;: 1.0, &quot;smoothFactor&quot;: 1.0, &quot;stroke&quot;: true, &quot;weight&quot;: 10}\n",
       "            ).addTo(map_f1a80e88c84cb76166b6aaa3e5941c99);\n",
       "        \n",
       "    \n",
       "            var poly_line_e4719eaa8b2e1d350a90942b75c3d54d = L.polyline(\n",
       "                [[-37.8231058505, 144.9703218898], [-37.8231329307, 144.9703345867]],\n",
       "                {&quot;bubblingMouseEvents&quot;: true, &quot;color&quot;: &quot;green&quot;, &quot;dashArray&quot;: null, &quot;dashOffset&quot;: null, &quot;fill&quot;: false, &quot;fillColor&quot;: &quot;green&quot;, &quot;fillOpacity&quot;: 0.2, &quot;fillRule&quot;: &quot;evenodd&quot;, &quot;lineCap&quot;: &quot;round&quot;, &quot;lineJoin&quot;: &quot;round&quot;, &quot;noClip&quot;: false, &quot;opacity&quot;: 1.0, &quot;smoothFactor&quot;: 1.0, &quot;stroke&quot;: true, &quot;weight&quot;: 10}\n",
       "            ).addTo(map_f1a80e88c84cb76166b6aaa3e5941c99);\n",
       "        \n",
       "    \n",
       "            var poly_line_7eccaf3b6201c1cc0cafab417a8f8cc9 = L.polyline(\n",
       "                [[-37.8231329307, 144.9703345867], [-37.8231408157, 144.9703382833]],\n",
       "                {&quot;bubblingMouseEvents&quot;: true, &quot;color&quot;: &quot;green&quot;, &quot;dashArray&quot;: null, &quot;dashOffset&quot;: null, &quot;fill&quot;: false, &quot;fillColor&quot;: &quot;green&quot;, &quot;fillOpacity&quot;: 0.2, &quot;fillRule&quot;: &quot;evenodd&quot;, &quot;lineCap&quot;: &quot;round&quot;, &quot;lineJoin&quot;: &quot;round&quot;, &quot;noClip&quot;: false, &quot;opacity&quot;: 1.0, &quot;smoothFactor&quot;: 1.0, &quot;stroke&quot;: true, &quot;weight&quot;: 10}\n",
       "            ).addTo(map_f1a80e88c84cb76166b6aaa3e5941c99);\n",
       "        \n",
       "    \n",
       "            var poly_line_bf9dcad485b5d3928f69d4d737b61a76 = L.polyline(\n",
       "                [[-37.8231408157, 144.9703382833], [-37.8232032935, 144.9703664188]],\n",
       "                {&quot;bubblingMouseEvents&quot;: true, &quot;color&quot;: &quot;green&quot;, &quot;dashArray&quot;: null, &quot;dashOffset&quot;: null, &quot;fill&quot;: false, &quot;fillColor&quot;: &quot;green&quot;, &quot;fillOpacity&quot;: 0.2, &quot;fillRule&quot;: &quot;evenodd&quot;, &quot;lineCap&quot;: &quot;round&quot;, &quot;lineJoin&quot;: &quot;round&quot;, &quot;noClip&quot;: false, &quot;opacity&quot;: 1.0, &quot;smoothFactor&quot;: 1.0, &quot;stroke&quot;: true, &quot;weight&quot;: 10}\n",
       "            ).addTo(map_f1a80e88c84cb76166b6aaa3e5941c99);\n",
       "        \n",
       "    \n",
       "            var poly_line_129994f07d560ac2af7c3ce5d9ea698a = L.polyline(\n",
       "                [[-37.8232032935, 144.9703664188], [-37.8232482453, 144.9703866627]],\n",
       "                {&quot;bubblingMouseEvents&quot;: true, &quot;color&quot;: &quot;green&quot;, &quot;dashArray&quot;: null, &quot;dashOffset&quot;: null, &quot;fill&quot;: false, &quot;fillColor&quot;: &quot;green&quot;, &quot;fillOpacity&quot;: 0.2, &quot;fillRule&quot;: &quot;evenodd&quot;, &quot;lineCap&quot;: &quot;round&quot;, &quot;lineJoin&quot;: &quot;round&quot;, &quot;noClip&quot;: false, &quot;opacity&quot;: 1.0, &quot;smoothFactor&quot;: 1.0, &quot;stroke&quot;: true, &quot;weight&quot;: 10}\n",
       "            ).addTo(map_f1a80e88c84cb76166b6aaa3e5941c99);\n",
       "        \n",
       "    \n",
       "            var poly_line_3132749b3018684631003f60274f4400 = L.polyline(\n",
       "                [[-37.8232482453, 144.9703866627], [-37.8232989116, 144.970409479]],\n",
       "                {&quot;bubblingMouseEvents&quot;: true, &quot;color&quot;: &quot;green&quot;, &quot;dashArray&quot;: null, &quot;dashOffset&quot;: null, &quot;fill&quot;: false, &quot;fillColor&quot;: &quot;green&quot;, &quot;fillOpacity&quot;: 0.2, &quot;fillRule&quot;: &quot;evenodd&quot;, &quot;lineCap&quot;: &quot;round&quot;, &quot;lineJoin&quot;: &quot;round&quot;, &quot;noClip&quot;: false, &quot;opacity&quot;: 1.0, &quot;smoothFactor&quot;: 1.0, &quot;stroke&quot;: true, &quot;weight&quot;: 10}\n",
       "            ).addTo(map_f1a80e88c84cb76166b6aaa3e5941c99);\n",
       "        \n",
       "    \n",
       "            var poly_line_b7464284de0b71bab57081fd662b2bcc = L.polyline(\n",
       "                [[-37.8232989116, 144.970409479], [-37.8233448473, 144.970497734]],\n",
       "                {&quot;bubblingMouseEvents&quot;: true, &quot;color&quot;: &quot;green&quot;, &quot;dashArray&quot;: null, &quot;dashOffset&quot;: null, &quot;fill&quot;: false, &quot;fillColor&quot;: &quot;green&quot;, &quot;fillOpacity&quot;: 0.2, &quot;fillRule&quot;: &quot;evenodd&quot;, &quot;lineCap&quot;: &quot;round&quot;, &quot;lineJoin&quot;: &quot;round&quot;, &quot;noClip&quot;: false, &quot;opacity&quot;: 1.0, &quot;smoothFactor&quot;: 1.0, &quot;stroke&quot;: true, &quot;weight&quot;: 10}\n",
       "            ).addTo(map_f1a80e88c84cb76166b6aaa3e5941c99);\n",
       "        \n",
       "    \n",
       "            var poly_line_c667fb7005b2f9ebf291f1242b2a0c8c = L.polyline(\n",
       "                [[-37.8233448473, 144.970497734], [-37.8233487116, 144.9705051593]],\n",
       "                {&quot;bubblingMouseEvents&quot;: true, &quot;color&quot;: &quot;green&quot;, &quot;dashArray&quot;: null, &quot;dashOffset&quot;: null, &quot;fill&quot;: false, &quot;fillColor&quot;: &quot;green&quot;, &quot;fillOpacity&quot;: 0.2, &quot;fillRule&quot;: &quot;evenodd&quot;, &quot;lineCap&quot;: &quot;round&quot;, &quot;lineJoin&quot;: &quot;round&quot;, &quot;noClip&quot;: false, &quot;opacity&quot;: 1.0, &quot;smoothFactor&quot;: 1.0, &quot;stroke&quot;: true, &quot;weight&quot;: 10}\n",
       "            ).addTo(map_f1a80e88c84cb76166b6aaa3e5941c99);\n",
       "        \n",
       "    \n",
       "            var poly_line_1770bf388c927e4eaf7984de30536e10 = L.polyline(\n",
       "                [[-37.8233487116, 144.9705051593], [-37.8233807226, 144.9705666604]],\n",
       "                {&quot;bubblingMouseEvents&quot;: true, &quot;color&quot;: &quot;green&quot;, &quot;dashArray&quot;: null, &quot;dashOffset&quot;: null, &quot;fill&quot;: false, &quot;fillColor&quot;: &quot;green&quot;, &quot;fillOpacity&quot;: 0.2, &quot;fillRule&quot;: &quot;evenodd&quot;, &quot;lineCap&quot;: &quot;round&quot;, &quot;lineJoin&quot;: &quot;round&quot;, &quot;noClip&quot;: false, &quot;opacity&quot;: 1.0, &quot;smoothFactor&quot;: 1.0, &quot;stroke&quot;: true, &quot;weight&quot;: 10}\n",
       "            ).addTo(map_f1a80e88c84cb76166b6aaa3e5941c99);\n",
       "        \n",
       "    \n",
       "            var poly_line_420885387634fdeeab02b42a4897e1be = L.polyline(\n",
       "                [[-37.8233807226, 144.9705666604], [-37.8247685943, 144.9711982773]],\n",
       "                {&quot;bubblingMouseEvents&quot;: true, &quot;color&quot;: &quot;green&quot;, &quot;dashArray&quot;: null, &quot;dashOffset&quot;: null, &quot;fill&quot;: false, &quot;fillColor&quot;: &quot;green&quot;, &quot;fillOpacity&quot;: 0.2, &quot;fillRule&quot;: &quot;evenodd&quot;, &quot;lineCap&quot;: &quot;round&quot;, &quot;lineJoin&quot;: &quot;round&quot;, &quot;noClip&quot;: false, &quot;opacity&quot;: 1.0, &quot;smoothFactor&quot;: 1.0, &quot;stroke&quot;: true, &quot;weight&quot;: 10}\n",
       "            ).addTo(map_f1a80e88c84cb76166b6aaa3e5941c99);\n",
       "        \n",
       "    \n",
       "            var poly_line_10e48aaf85b0dd2e998db5bf14159ef0 = L.polyline(\n",
       "                [[-37.8247685943, 144.9711982773], [-37.8248337969, 144.9712279687]],\n",
       "                {&quot;bubblingMouseEvents&quot;: true, &quot;color&quot;: &quot;green&quot;, &quot;dashArray&quot;: null, &quot;dashOffset&quot;: null, &quot;fill&quot;: false, &quot;fillColor&quot;: &quot;green&quot;, &quot;fillOpacity&quot;: 0.2, &quot;fillRule&quot;: &quot;evenodd&quot;, &quot;lineCap&quot;: &quot;round&quot;, &quot;lineJoin&quot;: &quot;round&quot;, &quot;noClip&quot;: false, &quot;opacity&quot;: 1.0, &quot;smoothFactor&quot;: 1.0, &quot;stroke&quot;: true, &quot;weight&quot;: 10}\n",
       "            ).addTo(map_f1a80e88c84cb76166b6aaa3e5941c99);\n",
       "        \n",
       "    \n",
       "            var poly_line_5e6afee5b63fa76131afcb77e71bc13c = L.polyline(\n",
       "                [[-37.8248337969, 144.9712279687], [-37.8249508531, 144.9712812527]],\n",
       "                {&quot;bubblingMouseEvents&quot;: true, &quot;color&quot;: &quot;green&quot;, &quot;dashArray&quot;: null, &quot;dashOffset&quot;: null, &quot;fill&quot;: false, &quot;fillColor&quot;: &quot;green&quot;, &quot;fillOpacity&quot;: 0.2, &quot;fillRule&quot;: &quot;evenodd&quot;, &quot;lineCap&quot;: &quot;round&quot;, &quot;lineJoin&quot;: &quot;round&quot;, &quot;noClip&quot;: false, &quot;opacity&quot;: 1.0, &quot;smoothFactor&quot;: 1.0, &quot;stroke&quot;: true, &quot;weight&quot;: 10}\n",
       "            ).addTo(map_f1a80e88c84cb76166b6aaa3e5941c99);\n",
       "        \n",
       "    \n",
       "            var poly_line_6c45f75916f03d84bac0e3f758b96fbe = L.polyline(\n",
       "                [[-37.8249508531, 144.9712812527], [-37.8250931233, 144.9713337532]],\n",
       "                {&quot;bubblingMouseEvents&quot;: true, &quot;color&quot;: &quot;green&quot;, &quot;dashArray&quot;: null, &quot;dashOffset&quot;: null, &quot;fill&quot;: false, &quot;fillColor&quot;: &quot;green&quot;, &quot;fillOpacity&quot;: 0.2, &quot;fillRule&quot;: &quot;evenodd&quot;, &quot;lineCap&quot;: &quot;round&quot;, &quot;lineJoin&quot;: &quot;round&quot;, &quot;noClip&quot;: false, &quot;opacity&quot;: 1.0, &quot;smoothFactor&quot;: 1.0, &quot;stroke&quot;: true, &quot;weight&quot;: 10}\n",
       "            ).addTo(map_f1a80e88c84cb76166b6aaa3e5941c99);\n",
       "        \n",
       "    \n",
       "            var poly_line_9933692d4a204f8bcdbcbefd635cebf6 = L.polyline(\n",
       "                [[-37.8250931233, 144.9713337532], [-37.8255786024, 144.9715129761]],\n",
       "                {&quot;bubblingMouseEvents&quot;: true, &quot;color&quot;: &quot;green&quot;, &quot;dashArray&quot;: null, &quot;dashOffset&quot;: null, &quot;fill&quot;: false, &quot;fillColor&quot;: &quot;green&quot;, &quot;fillOpacity&quot;: 0.2, &quot;fillRule&quot;: &quot;evenodd&quot;, &quot;lineCap&quot;: &quot;round&quot;, &quot;lineJoin&quot;: &quot;round&quot;, &quot;noClip&quot;: false, &quot;opacity&quot;: 1.0, &quot;smoothFactor&quot;: 1.0, &quot;stroke&quot;: true, &quot;weight&quot;: 10}\n",
       "            ).addTo(map_f1a80e88c84cb76166b6aaa3e5941c99);\n",
       "        \n",
       "    \n",
       "            var poly_line_224475a29beb12c958d710d90cbca2e2 = L.polyline(\n",
       "                [[-37.8255786024, 144.9715129761], [-37.8258928065, 144.9716043171]],\n",
       "                {&quot;bubblingMouseEvents&quot;: true, &quot;color&quot;: &quot;green&quot;, &quot;dashArray&quot;: null, &quot;dashOffset&quot;: null, &quot;fill&quot;: false, &quot;fillColor&quot;: &quot;green&quot;, &quot;fillOpacity&quot;: 0.2, &quot;fillRule&quot;: &quot;evenodd&quot;, &quot;lineCap&quot;: &quot;round&quot;, &quot;lineJoin&quot;: &quot;round&quot;, &quot;noClip&quot;: false, &quot;opacity&quot;: 1.0, &quot;smoothFactor&quot;: 1.0, &quot;stroke&quot;: true, &quot;weight&quot;: 10}\n",
       "            ).addTo(map_f1a80e88c84cb76166b6aaa3e5941c99);\n",
       "        \n",
       "    \n",
       "            var poly_line_57eab7feeb17bfd780223d9fee3b8cd9 = L.polyline(\n",
       "                [[-37.8258928065, 144.9716043171], [-37.8260580789, 144.9716523636]],\n",
       "                {&quot;bubblingMouseEvents&quot;: true, &quot;color&quot;: &quot;green&quot;, &quot;dashArray&quot;: null, &quot;dashOffset&quot;: null, &quot;fill&quot;: false, &quot;fillColor&quot;: &quot;green&quot;, &quot;fillOpacity&quot;: 0.2, &quot;fillRule&quot;: &quot;evenodd&quot;, &quot;lineCap&quot;: &quot;round&quot;, &quot;lineJoin&quot;: &quot;round&quot;, &quot;noClip&quot;: false, &quot;opacity&quot;: 1.0, &quot;smoothFactor&quot;: 1.0, &quot;stroke&quot;: true, &quot;weight&quot;: 10}\n",
       "            ).addTo(map_f1a80e88c84cb76166b6aaa3e5941c99);\n",
       "        \n",
       "    \n",
       "            var poly_line_344b7778ce302a1cb8e9cee1888f7269 = L.polyline(\n",
       "                [[-37.8260580789, 144.9716523636], [-37.8261073187, 144.9715631549]],\n",
       "                {&quot;bubblingMouseEvents&quot;: true, &quot;color&quot;: &quot;green&quot;, &quot;dashArray&quot;: null, &quot;dashOffset&quot;: null, &quot;fill&quot;: false, &quot;fillColor&quot;: &quot;green&quot;, &quot;fillOpacity&quot;: 0.2, &quot;fillRule&quot;: &quot;evenodd&quot;, &quot;lineCap&quot;: &quot;round&quot;, &quot;lineJoin&quot;: &quot;round&quot;, &quot;noClip&quot;: false, &quot;opacity&quot;: 1.0, &quot;smoothFactor&quot;: 1.0, &quot;stroke&quot;: true, &quot;weight&quot;: 10}\n",
       "            ).addTo(map_f1a80e88c84cb76166b6aaa3e5941c99);\n",
       "        \n",
       "    \n",
       "            var poly_line_f57ee61ea23b0065cb9f2346271932c6 = L.polyline(\n",
       "                [[-37.8261073187, 144.9715631549], [-37.826122397, 144.9715358384]],\n",
       "                {&quot;bubblingMouseEvents&quot;: true, &quot;color&quot;: &quot;green&quot;, &quot;dashArray&quot;: null, &quot;dashOffset&quot;: null, &quot;fill&quot;: false, &quot;fillColor&quot;: &quot;green&quot;, &quot;fillOpacity&quot;: 0.2, &quot;fillRule&quot;: &quot;evenodd&quot;, &quot;lineCap&quot;: &quot;round&quot;, &quot;lineJoin&quot;: &quot;round&quot;, &quot;noClip&quot;: false, &quot;opacity&quot;: 1.0, &quot;smoothFactor&quot;: 1.0, &quot;stroke&quot;: true, &quot;weight&quot;: 10}\n",
       "            ).addTo(map_f1a80e88c84cb76166b6aaa3e5941c99);\n",
       "        \n",
       "    \n",
       "            var poly_line_643894755980137d3e41e39a398f4b47 = L.polyline(\n",
       "                [[-37.826122397, 144.9715358384], [-37.826132414, 144.9715381681]],\n",
       "                {&quot;bubblingMouseEvents&quot;: true, &quot;color&quot;: &quot;green&quot;, &quot;dashArray&quot;: null, &quot;dashOffset&quot;: null, &quot;fill&quot;: false, &quot;fillColor&quot;: &quot;green&quot;, &quot;fillOpacity&quot;: 0.2, &quot;fillRule&quot;: &quot;evenodd&quot;, &quot;lineCap&quot;: &quot;round&quot;, &quot;lineJoin&quot;: &quot;round&quot;, &quot;noClip&quot;: false, &quot;opacity&quot;: 1.0, &quot;smoothFactor&quot;: 1.0, &quot;stroke&quot;: true, &quot;weight&quot;: 10}\n",
       "            ).addTo(map_f1a80e88c84cb76166b6aaa3e5941c99);\n",
       "        \n",
       "    \n",
       "            var poly_line_1e174839e44ccdc6b15bbe53635d99d3 = L.polyline(\n",
       "                [[-37.826132414, 144.9715381681], [-37.826147384, 144.9715416494]],\n",
       "                {&quot;bubblingMouseEvents&quot;: true, &quot;color&quot;: &quot;green&quot;, &quot;dashArray&quot;: null, &quot;dashOffset&quot;: null, &quot;fill&quot;: false, &quot;fillColor&quot;: &quot;green&quot;, &quot;fillOpacity&quot;: 0.2, &quot;fillRule&quot;: &quot;evenodd&quot;, &quot;lineCap&quot;: &quot;round&quot;, &quot;lineJoin&quot;: &quot;round&quot;, &quot;noClip&quot;: false, &quot;opacity&quot;: 1.0, &quot;smoothFactor&quot;: 1.0, &quot;stroke&quot;: true, &quot;weight&quot;: 10}\n",
       "            ).addTo(map_f1a80e88c84cb76166b6aaa3e5941c99);\n",
       "        \n",
       "    \n",
       "            var poly_line_46427d53aff74242e04ea18a58cb834a = L.polyline(\n",
       "                [[-37.826147384, 144.9715416494], [-37.8262120941, 144.9715826244]],\n",
       "                {&quot;bubblingMouseEvents&quot;: true, &quot;color&quot;: &quot;green&quot;, &quot;dashArray&quot;: null, &quot;dashOffset&quot;: null, &quot;fill&quot;: false, &quot;fillColor&quot;: &quot;green&quot;, &quot;fillOpacity&quot;: 0.2, &quot;fillRule&quot;: &quot;evenodd&quot;, &quot;lineCap&quot;: &quot;round&quot;, &quot;lineJoin&quot;: &quot;round&quot;, &quot;noClip&quot;: false, &quot;opacity&quot;: 1.0, &quot;smoothFactor&quot;: 1.0, &quot;stroke&quot;: true, &quot;weight&quot;: 10}\n",
       "            ).addTo(map_f1a80e88c84cb76166b6aaa3e5941c99);\n",
       "        \n",
       "    \n",
       "            var poly_line_40477af7de7c865cfbe5adcadfb2d933 = L.polyline(\n",
       "                [[-37.8262120941, 144.9715826244], [-37.8263116416, 144.9716456601]],\n",
       "                {&quot;bubblingMouseEvents&quot;: true, &quot;color&quot;: &quot;green&quot;, &quot;dashArray&quot;: null, &quot;dashOffset&quot;: null, &quot;fill&quot;: false, &quot;fillColor&quot;: &quot;green&quot;, &quot;fillOpacity&quot;: 0.2, &quot;fillRule&quot;: &quot;evenodd&quot;, &quot;lineCap&quot;: &quot;round&quot;, &quot;lineJoin&quot;: &quot;round&quot;, &quot;noClip&quot;: false, &quot;opacity&quot;: 1.0, &quot;smoothFactor&quot;: 1.0, &quot;stroke&quot;: true, &quot;weight&quot;: 10}\n",
       "            ).addTo(map_f1a80e88c84cb76166b6aaa3e5941c99);\n",
       "        \n",
       "    \n",
       "            var poly_line_e5612753f406a41e7622a99c1f06d5fb = L.polyline(\n",
       "                [[-37.8263116416, 144.9716456601], [-37.8263485764, 144.9716690472]],\n",
       "                {&quot;bubblingMouseEvents&quot;: true, &quot;color&quot;: &quot;green&quot;, &quot;dashArray&quot;: null, &quot;dashOffset&quot;: null, &quot;fill&quot;: false, &quot;fillColor&quot;: &quot;green&quot;, &quot;fillOpacity&quot;: 0.2, &quot;fillRule&quot;: &quot;evenodd&quot;, &quot;lineCap&quot;: &quot;round&quot;, &quot;lineJoin&quot;: &quot;round&quot;, &quot;noClip&quot;: false, &quot;opacity&quot;: 1.0, &quot;smoothFactor&quot;: 1.0, &quot;stroke&quot;: true, &quot;weight&quot;: 10}\n",
       "            ).addTo(map_f1a80e88c84cb76166b6aaa3e5941c99);\n",
       "        \n",
       "    \n",
       "            var poly_line_ee1b22506b0515cc17b5f60a4b78bae7 = L.polyline(\n",
       "                [[-37.8263485764, 144.9716690472], [-37.8266802543, 144.9717088736]],\n",
       "                {&quot;bubblingMouseEvents&quot;: true, &quot;color&quot;: &quot;green&quot;, &quot;dashArray&quot;: null, &quot;dashOffset&quot;: null, &quot;fill&quot;: false, &quot;fillColor&quot;: &quot;green&quot;, &quot;fillOpacity&quot;: 0.2, &quot;fillRule&quot;: &quot;evenodd&quot;, &quot;lineCap&quot;: &quot;round&quot;, &quot;lineJoin&quot;: &quot;round&quot;, &quot;noClip&quot;: false, &quot;opacity&quot;: 1.0, &quot;smoothFactor&quot;: 1.0, &quot;stroke&quot;: true, &quot;weight&quot;: 10}\n",
       "            ).addTo(map_f1a80e88c84cb76166b6aaa3e5941c99);\n",
       "        \n",
       "    \n",
       "            var poly_line_90eb1011736ac542e5f9d9916db729f7 = L.polyline(\n",
       "                [[-37.8266802543, 144.9717088736], [-37.8269851822, 144.971745488]],\n",
       "                {&quot;bubblingMouseEvents&quot;: true, &quot;color&quot;: &quot;green&quot;, &quot;dashArray&quot;: null, &quot;dashOffset&quot;: null, &quot;fill&quot;: false, &quot;fillColor&quot;: &quot;green&quot;, &quot;fillOpacity&quot;: 0.2, &quot;fillRule&quot;: &quot;evenodd&quot;, &quot;lineCap&quot;: &quot;round&quot;, &quot;lineJoin&quot;: &quot;round&quot;, &quot;noClip&quot;: false, &quot;opacity&quot;: 1.0, &quot;smoothFactor&quot;: 1.0, &quot;stroke&quot;: true, &quot;weight&quot;: 10}\n",
       "            ).addTo(map_f1a80e88c84cb76166b6aaa3e5941c99);\n",
       "        \n",
       "    \n",
       "            var poly_line_eba46cf640ea11aa3f4b7d5adf12ec58 = L.polyline(\n",
       "                [[-37.8269851822, 144.971745488], [-37.8270547569, 144.9717258931]],\n",
       "                {&quot;bubblingMouseEvents&quot;: true, &quot;color&quot;: &quot;green&quot;, &quot;dashArray&quot;: null, &quot;dashOffset&quot;: null, &quot;fill&quot;: false, &quot;fillColor&quot;: &quot;green&quot;, &quot;fillOpacity&quot;: 0.2, &quot;fillRule&quot;: &quot;evenodd&quot;, &quot;lineCap&quot;: &quot;round&quot;, &quot;lineJoin&quot;: &quot;round&quot;, &quot;noClip&quot;: false, &quot;opacity&quot;: 1.0, &quot;smoothFactor&quot;: 1.0, &quot;stroke&quot;: true, &quot;weight&quot;: 10}\n",
       "            ).addTo(map_f1a80e88c84cb76166b6aaa3e5941c99);\n",
       "        \n",
       "    \n",
       "            var poly_line_5b0e8495859947912f7a3ecf5e813078 = L.polyline(\n",
       "                [[-37.8270547569, 144.9717258931], [-37.8272696361, 144.971665382]],\n",
       "                {&quot;bubblingMouseEvents&quot;: true, &quot;color&quot;: &quot;green&quot;, &quot;dashArray&quot;: null, &quot;dashOffset&quot;: null, &quot;fill&quot;: false, &quot;fillColor&quot;: &quot;green&quot;, &quot;fillOpacity&quot;: 0.2, &quot;fillRule&quot;: &quot;evenodd&quot;, &quot;lineCap&quot;: &quot;round&quot;, &quot;lineJoin&quot;: &quot;round&quot;, &quot;noClip&quot;: false, &quot;opacity&quot;: 1.0, &quot;smoothFactor&quot;: 1.0, &quot;stroke&quot;: true, &quot;weight&quot;: 10}\n",
       "            ).addTo(map_f1a80e88c84cb76166b6aaa3e5941c99);\n",
       "        \n",
       "    \n",
       "            var poly_line_fba9a5183a56700d6fc62be587d81d36 = L.polyline(\n",
       "                [[-37.8272696361, 144.971665382], [-37.8272703367, 144.9716652469]],\n",
       "                {&quot;bubblingMouseEvents&quot;: true, &quot;color&quot;: &quot;green&quot;, &quot;dashArray&quot;: null, &quot;dashOffset&quot;: null, &quot;fill&quot;: false, &quot;fillColor&quot;: &quot;green&quot;, &quot;fillOpacity&quot;: 0.2, &quot;fillRule&quot;: &quot;evenodd&quot;, &quot;lineCap&quot;: &quot;round&quot;, &quot;lineJoin&quot;: &quot;round&quot;, &quot;noClip&quot;: false, &quot;opacity&quot;: 1.0, &quot;smoothFactor&quot;: 1.0, &quot;stroke&quot;: true, &quot;weight&quot;: 10}\n",
       "            ).addTo(map_f1a80e88c84cb76166b6aaa3e5941c99);\n",
       "        \n",
       "    \n",
       "            var poly_line_a705bd12b1760117d90f0e1099fd9336 = L.polyline(\n",
       "                [[-37.8272703367, 144.9716652469], [-37.8272707624, 144.9716650614]],\n",
       "                {&quot;bubblingMouseEvents&quot;: true, &quot;color&quot;: &quot;green&quot;, &quot;dashArray&quot;: null, &quot;dashOffset&quot;: null, &quot;fill&quot;: false, &quot;fillColor&quot;: &quot;green&quot;, &quot;fillOpacity&quot;: 0.2, &quot;fillRule&quot;: &quot;evenodd&quot;, &quot;lineCap&quot;: &quot;round&quot;, &quot;lineJoin&quot;: &quot;round&quot;, &quot;noClip&quot;: false, &quot;opacity&quot;: 1.0, &quot;smoothFactor&quot;: 1.0, &quot;stroke&quot;: true, &quot;weight&quot;: 10}\n",
       "            ).addTo(map_f1a80e88c84cb76166b6aaa3e5941c99);\n",
       "        \n",
       "    \n",
       "            var poly_line_9869a712acc782d238105b3b4e3ff67d = L.polyline(\n",
       "                [[-37.8272707624, 144.9716650614], [-37.8272712217, 144.971665409]],\n",
       "                {&quot;bubblingMouseEvents&quot;: true, &quot;color&quot;: &quot;green&quot;, &quot;dashArray&quot;: null, &quot;dashOffset&quot;: null, &quot;fill&quot;: false, &quot;fillColor&quot;: &quot;green&quot;, &quot;fillOpacity&quot;: 0.2, &quot;fillRule&quot;: &quot;evenodd&quot;, &quot;lineCap&quot;: &quot;round&quot;, &quot;lineJoin&quot;: &quot;round&quot;, &quot;noClip&quot;: false, &quot;opacity&quot;: 1.0, &quot;smoothFactor&quot;: 1.0, &quot;stroke&quot;: true, &quot;weight&quot;: 10}\n",
       "            ).addTo(map_f1a80e88c84cb76166b6aaa3e5941c99);\n",
       "        \n",
       "    \n",
       "            var poly_line_5c80da666413eb15f6d8aa94562df3c5 = L.polyline(\n",
       "                [[-37.8272712217, 144.971665409], [-37.8274275963, 144.9717836824]],\n",
       "                {&quot;bubblingMouseEvents&quot;: true, &quot;color&quot;: &quot;green&quot;, &quot;dashArray&quot;: null, &quot;dashOffset&quot;: null, &quot;fill&quot;: false, &quot;fillColor&quot;: &quot;green&quot;, &quot;fillOpacity&quot;: 0.2, &quot;fillRule&quot;: &quot;evenodd&quot;, &quot;lineCap&quot;: &quot;round&quot;, &quot;lineJoin&quot;: &quot;round&quot;, &quot;noClip&quot;: false, &quot;opacity&quot;: 1.0, &quot;smoothFactor&quot;: 1.0, &quot;stroke&quot;: true, &quot;weight&quot;: 10}\n",
       "            ).addTo(map_f1a80e88c84cb76166b6aaa3e5941c99);\n",
       "        \n",
       "    \n",
       "            var poly_line_19a2d83431b8f3923cd6d8316b87d95c = L.polyline(\n",
       "                [[-37.8274275963, 144.9717836824], [-37.8274579211, 144.9717811319]],\n",
       "                {&quot;bubblingMouseEvents&quot;: true, &quot;color&quot;: &quot;green&quot;, &quot;dashArray&quot;: null, &quot;dashOffset&quot;: null, &quot;fill&quot;: false, &quot;fillColor&quot;: &quot;green&quot;, &quot;fillOpacity&quot;: 0.2, &quot;fillRule&quot;: &quot;evenodd&quot;, &quot;lineCap&quot;: &quot;round&quot;, &quot;lineJoin&quot;: &quot;round&quot;, &quot;noClip&quot;: false, &quot;opacity&quot;: 1.0, &quot;smoothFactor&quot;: 1.0, &quot;stroke&quot;: true, &quot;weight&quot;: 10}\n",
       "            ).addTo(map_f1a80e88c84cb76166b6aaa3e5941c99);\n",
       "        \n",
       "    \n",
       "            var poly_line_458a4c6ca1b9be54c05710b526bfc854 = L.polyline(\n",
       "                [[-37.8274579211, 144.9717811319], [-37.8277805547, 144.9717539963]],\n",
       "                {&quot;bubblingMouseEvents&quot;: true, &quot;color&quot;: &quot;green&quot;, &quot;dashArray&quot;: null, &quot;dashOffset&quot;: null, &quot;fill&quot;: false, &quot;fillColor&quot;: &quot;green&quot;, &quot;fillOpacity&quot;: 0.2, &quot;fillRule&quot;: &quot;evenodd&quot;, &quot;lineCap&quot;: &quot;round&quot;, &quot;lineJoin&quot;: &quot;round&quot;, &quot;noClip&quot;: false, &quot;opacity&quot;: 1.0, &quot;smoothFactor&quot;: 1.0, &quot;stroke&quot;: true, &quot;weight&quot;: 10}\n",
       "            ).addTo(map_f1a80e88c84cb76166b6aaa3e5941c99);\n",
       "        \n",
       "    \n",
       "            var poly_line_64c90a2321502ee80d530dc9b7b70a25 = L.polyline(\n",
       "                [[-37.8277805547, 144.9717539963], [-37.8288364186, 144.9716651898]],\n",
       "                {&quot;bubblingMouseEvents&quot;: true, &quot;color&quot;: &quot;green&quot;, &quot;dashArray&quot;: null, &quot;dashOffset&quot;: null, &quot;fill&quot;: false, &quot;fillColor&quot;: &quot;green&quot;, &quot;fillOpacity&quot;: 0.2, &quot;fillRule&quot;: &quot;evenodd&quot;, &quot;lineCap&quot;: &quot;round&quot;, &quot;lineJoin&quot;: &quot;round&quot;, &quot;noClip&quot;: false, &quot;opacity&quot;: 1.0, &quot;smoothFactor&quot;: 1.0, &quot;stroke&quot;: true, &quot;weight&quot;: 10}\n",
       "            ).addTo(map_f1a80e88c84cb76166b6aaa3e5941c99);\n",
       "        \n",
       "    \n",
       "            var poly_line_b48c06d6ead22838fd7acda211040bf3 = L.polyline(\n",
       "                [[-37.8288364186, 144.9716651898], [-37.8298123822, 144.9716500789]],\n",
       "                {&quot;bubblingMouseEvents&quot;: true, &quot;color&quot;: &quot;green&quot;, &quot;dashArray&quot;: null, &quot;dashOffset&quot;: null, &quot;fill&quot;: false, &quot;fillColor&quot;: &quot;green&quot;, &quot;fillOpacity&quot;: 0.2, &quot;fillRule&quot;: &quot;evenodd&quot;, &quot;lineCap&quot;: &quot;round&quot;, &quot;lineJoin&quot;: &quot;round&quot;, &quot;noClip&quot;: false, &quot;opacity&quot;: 1.0, &quot;smoothFactor&quot;: 1.0, &quot;stroke&quot;: true, &quot;weight&quot;: 10}\n",
       "            ).addTo(map_f1a80e88c84cb76166b6aaa3e5941c99);\n",
       "        \n",
       "    \n",
       "            var poly_line_271830ab3d1f8671659c949cec9e9fe6 = L.polyline(\n",
       "                [[-37.8298123822, 144.9716500789], [-37.829819599, 144.9716412496]],\n",
       "                {&quot;bubblingMouseEvents&quot;: true, &quot;color&quot;: &quot;green&quot;, &quot;dashArray&quot;: null, &quot;dashOffset&quot;: null, &quot;fill&quot;: false, &quot;fillColor&quot;: &quot;green&quot;, &quot;fillOpacity&quot;: 0.2, &quot;fillRule&quot;: &quot;evenodd&quot;, &quot;lineCap&quot;: &quot;round&quot;, &quot;lineJoin&quot;: &quot;round&quot;, &quot;noClip&quot;: false, &quot;opacity&quot;: 1.0, &quot;smoothFactor&quot;: 1.0, &quot;stroke&quot;: true, &quot;weight&quot;: 10}\n",
       "            ).addTo(map_f1a80e88c84cb76166b6aaa3e5941c99);\n",
       "        \n",
       "    \n",
       "            var poly_line_410de3046bad4bfcee7250106b7413f7 = L.polyline(\n",
       "                [[-37.829819599, 144.9716412496], [-37.8298902691, 144.9715547863]],\n",
       "                {&quot;bubblingMouseEvents&quot;: true, &quot;color&quot;: &quot;green&quot;, &quot;dashArray&quot;: null, &quot;dashOffset&quot;: null, &quot;fill&quot;: false, &quot;fillColor&quot;: &quot;green&quot;, &quot;fillOpacity&quot;: 0.2, &quot;fillRule&quot;: &quot;evenodd&quot;, &quot;lineCap&quot;: &quot;round&quot;, &quot;lineJoin&quot;: &quot;round&quot;, &quot;noClip&quot;: false, &quot;opacity&quot;: 1.0, &quot;smoothFactor&quot;: 1.0, &quot;stroke&quot;: true, &quot;weight&quot;: 10}\n",
       "            ).addTo(map_f1a80e88c84cb76166b6aaa3e5941c99);\n",
       "        \n",
       "    \n",
       "            var poly_line_1e26b7be2d6a40ee61e467ed1f8fffaf = L.polyline(\n",
       "                [[-37.8298902691, 144.9715547863], [-37.8299127985, 144.9715272212]],\n",
       "                {&quot;bubblingMouseEvents&quot;: true, &quot;color&quot;: &quot;green&quot;, &quot;dashArray&quot;: null, &quot;dashOffset&quot;: null, &quot;fill&quot;: false, &quot;fillColor&quot;: &quot;green&quot;, &quot;fillOpacity&quot;: 0.2, &quot;fillRule&quot;: &quot;evenodd&quot;, &quot;lineCap&quot;: &quot;round&quot;, &quot;lineJoin&quot;: &quot;round&quot;, &quot;noClip&quot;: false, &quot;opacity&quot;: 1.0, &quot;smoothFactor&quot;: 1.0, &quot;stroke&quot;: true, &quot;weight&quot;: 10}\n",
       "            ).addTo(map_f1a80e88c84cb76166b6aaa3e5941c99);\n",
       "        \n",
       "    \n",
       "            var poly_line_8ca3195230aae78b93ec68f4487e3f9b = L.polyline(\n",
       "                [[-37.8299127985, 144.9715272212], [-37.8298950163, 144.9713214058]],\n",
       "                {&quot;bubblingMouseEvents&quot;: true, &quot;color&quot;: &quot;green&quot;, &quot;dashArray&quot;: null, &quot;dashOffset&quot;: null, &quot;fill&quot;: false, &quot;fillColor&quot;: &quot;green&quot;, &quot;fillOpacity&quot;: 0.2, &quot;fillRule&quot;: &quot;evenodd&quot;, &quot;lineCap&quot;: &quot;round&quot;, &quot;lineJoin&quot;: &quot;round&quot;, &quot;noClip&quot;: false, &quot;opacity&quot;: 1.0, &quot;smoothFactor&quot;: 1.0, &quot;stroke&quot;: true, &quot;weight&quot;: 10}\n",
       "            ).addTo(map_f1a80e88c84cb76166b6aaa3e5941c99);\n",
       "        \n",
       "    \n",
       "            var poly_line_f8dd6940eca245cbb6bc215b25110842 = L.polyline(\n",
       "                [[-37.8298950163, 144.9713214058], [-37.8299007803, 144.9713015351]],\n",
       "                {&quot;bubblingMouseEvents&quot;: true, &quot;color&quot;: &quot;yellow&quot;, &quot;dashArray&quot;: null, &quot;dashOffset&quot;: null, &quot;fill&quot;: false, &quot;fillColor&quot;: &quot;yellow&quot;, &quot;fillOpacity&quot;: 0.2, &quot;fillRule&quot;: &quot;evenodd&quot;, &quot;lineCap&quot;: &quot;round&quot;, &quot;lineJoin&quot;: &quot;round&quot;, &quot;noClip&quot;: false, &quot;opacity&quot;: 1.0, &quot;smoothFactor&quot;: 1.0, &quot;stroke&quot;: true, &quot;weight&quot;: 10}\n",
       "            ).addTo(map_f1a80e88c84cb76166b6aaa3e5941c99);\n",
       "        \n",
       "    \n",
       "            var poly_line_bb6ce91fb2176a787ba8af1ffb98a32d = L.polyline(\n",
       "                [[-37.8299007803, 144.9713015351], [-37.8299623732, 144.9710891813]],\n",
       "                {&quot;bubblingMouseEvents&quot;: true, &quot;color&quot;: &quot;green&quot;, &quot;dashArray&quot;: null, &quot;dashOffset&quot;: null, &quot;fill&quot;: false, &quot;fillColor&quot;: &quot;green&quot;, &quot;fillOpacity&quot;: 0.2, &quot;fillRule&quot;: &quot;evenodd&quot;, &quot;lineCap&quot;: &quot;round&quot;, &quot;lineJoin&quot;: &quot;round&quot;, &quot;noClip&quot;: false, &quot;opacity&quot;: 1.0, &quot;smoothFactor&quot;: 1.0, &quot;stroke&quot;: true, &quot;weight&quot;: 10}\n",
       "            ).addTo(map_f1a80e88c84cb76166b6aaa3e5941c99);\n",
       "        \n",
       "    \n",
       "            var poly_line_15da369b9a3cb859f3863d1407dceb6d = L.polyline(\n",
       "                [[-37.8299623732, 144.9710891813], [-37.8299701632, 144.9710623197]],\n",
       "                {&quot;bubblingMouseEvents&quot;: true, &quot;color&quot;: &quot;green&quot;, &quot;dashArray&quot;: null, &quot;dashOffset&quot;: null, &quot;fill&quot;: false, &quot;fillColor&quot;: &quot;green&quot;, &quot;fillOpacity&quot;: 0.2, &quot;fillRule&quot;: &quot;evenodd&quot;, &quot;lineCap&quot;: &quot;round&quot;, &quot;lineJoin&quot;: &quot;round&quot;, &quot;noClip&quot;: false, &quot;opacity&quot;: 1.0, &quot;smoothFactor&quot;: 1.0, &quot;stroke&quot;: true, &quot;weight&quot;: 10}\n",
       "            ).addTo(map_f1a80e88c84cb76166b6aaa3e5941c99);\n",
       "        \n",
       "    \n",
       "            var poly_line_697f88473b865af755e04b9e57c1add7 = L.polyline(\n",
       "                [[-37.8299701632, 144.9710623197], [-37.8300473437, 144.9710634311]],\n",
       "                {&quot;bubblingMouseEvents&quot;: true, &quot;color&quot;: &quot;green&quot;, &quot;dashArray&quot;: null, &quot;dashOffset&quot;: null, &quot;fill&quot;: false, &quot;fillColor&quot;: &quot;green&quot;, &quot;fillOpacity&quot;: 0.2, &quot;fillRule&quot;: &quot;evenodd&quot;, &quot;lineCap&quot;: &quot;round&quot;, &quot;lineJoin&quot;: &quot;round&quot;, &quot;noClip&quot;: false, &quot;opacity&quot;: 1.0, &quot;smoothFactor&quot;: 1.0, &quot;stroke&quot;: true, &quot;weight&quot;: 10}\n",
       "            ).addTo(map_f1a80e88c84cb76166b6aaa3e5941c99);\n",
       "        \n",
       "    \n",
       "            var poly_line_5c446186fffee885e143cbcbbe10c9c1 = L.polyline(\n",
       "                [[-37.8300473437, 144.9710634311], [-37.8304260593, 144.9710755417]],\n",
       "                {&quot;bubblingMouseEvents&quot;: true, &quot;color&quot;: &quot;green&quot;, &quot;dashArray&quot;: null, &quot;dashOffset&quot;: null, &quot;fill&quot;: false, &quot;fillColor&quot;: &quot;green&quot;, &quot;fillOpacity&quot;: 0.2, &quot;fillRule&quot;: &quot;evenodd&quot;, &quot;lineCap&quot;: &quot;round&quot;, &quot;lineJoin&quot;: &quot;round&quot;, &quot;noClip&quot;: false, &quot;opacity&quot;: 1.0, &quot;smoothFactor&quot;: 1.0, &quot;stroke&quot;: true, &quot;weight&quot;: 10}\n",
       "            ).addTo(map_f1a80e88c84cb76166b6aaa3e5941c99);\n",
       "        \n",
       "    \n",
       "            var poly_line_c3c92f510e79f302415910a53fa9befb = L.polyline(\n",
       "                [[-37.8304260593, 144.9710755417], [-37.8308805372, 144.9711079692]],\n",
       "                {&quot;bubblingMouseEvents&quot;: true, &quot;color&quot;: &quot;green&quot;, &quot;dashArray&quot;: null, &quot;dashOffset&quot;: null, &quot;fill&quot;: false, &quot;fillColor&quot;: &quot;green&quot;, &quot;fillOpacity&quot;: 0.2, &quot;fillRule&quot;: &quot;evenodd&quot;, &quot;lineCap&quot;: &quot;round&quot;, &quot;lineJoin&quot;: &quot;round&quot;, &quot;noClip&quot;: false, &quot;opacity&quot;: 1.0, &quot;smoothFactor&quot;: 1.0, &quot;stroke&quot;: true, &quot;weight&quot;: 10}\n",
       "            ).addTo(map_f1a80e88c84cb76166b6aaa3e5941c99);\n",
       "        \n",
       "    \n",
       "            var poly_line_5bda663d0af1dd97c5fbe7792493225a = L.polyline(\n",
       "                [[-37.8308805372, 144.9711079692], [-37.8311321024, 144.9711346185]],\n",
       "                {&quot;bubblingMouseEvents&quot;: true, &quot;color&quot;: &quot;green&quot;, &quot;dashArray&quot;: null, &quot;dashOffset&quot;: null, &quot;fill&quot;: false, &quot;fillColor&quot;: &quot;green&quot;, &quot;fillOpacity&quot;: 0.2, &quot;fillRule&quot;: &quot;evenodd&quot;, &quot;lineCap&quot;: &quot;round&quot;, &quot;lineJoin&quot;: &quot;round&quot;, &quot;noClip&quot;: false, &quot;opacity&quot;: 1.0, &quot;smoothFactor&quot;: 1.0, &quot;stroke&quot;: true, &quot;weight&quot;: 10}\n",
       "            ).addTo(map_f1a80e88c84cb76166b6aaa3e5941c99);\n",
       "        \n",
       "    \n",
       "            var poly_line_63aa59073554fa4e054751d6da43dae9 = L.polyline(\n",
       "                [[-37.8311321024, 144.9711346185], [-37.8314209578, 144.9711867611]],\n",
       "                {&quot;bubblingMouseEvents&quot;: true, &quot;color&quot;: &quot;green&quot;, &quot;dashArray&quot;: null, &quot;dashOffset&quot;: null, &quot;fill&quot;: false, &quot;fillColor&quot;: &quot;green&quot;, &quot;fillOpacity&quot;: 0.2, &quot;fillRule&quot;: &quot;evenodd&quot;, &quot;lineCap&quot;: &quot;round&quot;, &quot;lineJoin&quot;: &quot;round&quot;, &quot;noClip&quot;: false, &quot;opacity&quot;: 1.0, &quot;smoothFactor&quot;: 1.0, &quot;stroke&quot;: true, &quot;weight&quot;: 10}\n",
       "            ).addTo(map_f1a80e88c84cb76166b6aaa3e5941c99);\n",
       "        \n",
       "    \n",
       "            var poly_line_372612f3fb7070ab68a0e5aba2b7488c = L.polyline(\n",
       "                [[-37.8314209578, 144.9711867611], [-37.8317042673, 144.97126735]],\n",
       "                {&quot;bubblingMouseEvents&quot;: true, &quot;color&quot;: &quot;green&quot;, &quot;dashArray&quot;: null, &quot;dashOffset&quot;: null, &quot;fill&quot;: false, &quot;fillColor&quot;: &quot;green&quot;, &quot;fillOpacity&quot;: 0.2, &quot;fillRule&quot;: &quot;evenodd&quot;, &quot;lineCap&quot;: &quot;round&quot;, &quot;lineJoin&quot;: &quot;round&quot;, &quot;noClip&quot;: false, &quot;opacity&quot;: 1.0, &quot;smoothFactor&quot;: 1.0, &quot;stroke&quot;: true, &quot;weight&quot;: 10}\n",
       "            ).addTo(map_f1a80e88c84cb76166b6aaa3e5941c99);\n",
       "        \n",
       "    \n",
       "            var poly_line_7b30b9e2ba9068b1eb25aeae2e9242a5 = L.polyline(\n",
       "                [[-37.8317042673, 144.97126735], [-37.8318998958, 144.9713419093]],\n",
       "                {&quot;bubblingMouseEvents&quot;: true, &quot;color&quot;: &quot;green&quot;, &quot;dashArray&quot;: null, &quot;dashOffset&quot;: null, &quot;fill&quot;: false, &quot;fillColor&quot;: &quot;green&quot;, &quot;fillOpacity&quot;: 0.2, &quot;fillRule&quot;: &quot;evenodd&quot;, &quot;lineCap&quot;: &quot;round&quot;, &quot;lineJoin&quot;: &quot;round&quot;, &quot;noClip&quot;: false, &quot;opacity&quot;: 1.0, &quot;smoothFactor&quot;: 1.0, &quot;stroke&quot;: true, &quot;weight&quot;: 10}\n",
       "            ).addTo(map_f1a80e88c84cb76166b6aaa3e5941c99);\n",
       "        \n",
       "    \n",
       "            var poly_line_5cf6e89f3cf7288b132169f5f9523099 = L.polyline(\n",
       "                [[-37.8318998958, 144.9713419093], [-37.8319971835, 144.9713826242]],\n",
       "                {&quot;bubblingMouseEvents&quot;: true, &quot;color&quot;: &quot;green&quot;, &quot;dashArray&quot;: null, &quot;dashOffset&quot;: null, &quot;fill&quot;: false, &quot;fillColor&quot;: &quot;green&quot;, &quot;fillOpacity&quot;: 0.2, &quot;fillRule&quot;: &quot;evenodd&quot;, &quot;lineCap&quot;: &quot;round&quot;, &quot;lineJoin&quot;: &quot;round&quot;, &quot;noClip&quot;: false, &quot;opacity&quot;: 1.0, &quot;smoothFactor&quot;: 1.0, &quot;stroke&quot;: true, &quot;weight&quot;: 10}\n",
       "            ).addTo(map_f1a80e88c84cb76166b6aaa3e5941c99);\n",
       "        \n",
       "    \n",
       "            var poly_line_7fa2df6fb9c3b8cac080b86547592663 = L.polyline(\n",
       "                [[-37.8319971835, 144.9713826242], [-37.8322023143, 144.9714805335]],\n",
       "                {&quot;bubblingMouseEvents&quot;: true, &quot;color&quot;: &quot;green&quot;, &quot;dashArray&quot;: null, &quot;dashOffset&quot;: null, &quot;fill&quot;: false, &quot;fillColor&quot;: &quot;green&quot;, &quot;fillOpacity&quot;: 0.2, &quot;fillRule&quot;: &quot;evenodd&quot;, &quot;lineCap&quot;: &quot;round&quot;, &quot;lineJoin&quot;: &quot;round&quot;, &quot;noClip&quot;: false, &quot;opacity&quot;: 1.0, &quot;smoothFactor&quot;: 1.0, &quot;stroke&quot;: true, &quot;weight&quot;: 10}\n",
       "            ).addTo(map_f1a80e88c84cb76166b6aaa3e5941c99);\n",
       "        \n",
       "    \n",
       "            var poly_line_6b8aad72385bc513753e424e4f1fdaef = L.polyline(\n",
       "                [[-37.8322023143, 144.9714805335], [-37.8323094608, 144.9715339077]],\n",
       "                {&quot;bubblingMouseEvents&quot;: true, &quot;color&quot;: &quot;green&quot;, &quot;dashArray&quot;: null, &quot;dashOffset&quot;: null, &quot;fill&quot;: false, &quot;fillColor&quot;: &quot;green&quot;, &quot;fillOpacity&quot;: 0.2, &quot;fillRule&quot;: &quot;evenodd&quot;, &quot;lineCap&quot;: &quot;round&quot;, &quot;lineJoin&quot;: &quot;round&quot;, &quot;noClip&quot;: false, &quot;opacity&quot;: 1.0, &quot;smoothFactor&quot;: 1.0, &quot;stroke&quot;: true, &quot;weight&quot;: 10}\n",
       "            ).addTo(map_f1a80e88c84cb76166b6aaa3e5941c99);\n",
       "        \n",
       "    \n",
       "            var poly_line_7fa2cb8d2950dd39154bdcae8bf8270a = L.polyline(\n",
       "                [[-37.8323094608, 144.9715339077], [-37.8323494288, 144.9715581747]],\n",
       "                {&quot;bubblingMouseEvents&quot;: true, &quot;color&quot;: &quot;green&quot;, &quot;dashArray&quot;: null, &quot;dashOffset&quot;: null, &quot;fill&quot;: false, &quot;fillColor&quot;: &quot;green&quot;, &quot;fillOpacity&quot;: 0.2, &quot;fillRule&quot;: &quot;evenodd&quot;, &quot;lineCap&quot;: &quot;round&quot;, &quot;lineJoin&quot;: &quot;round&quot;, &quot;noClip&quot;: false, &quot;opacity&quot;: 1.0, &quot;smoothFactor&quot;: 1.0, &quot;stroke&quot;: true, &quot;weight&quot;: 10}\n",
       "            ).addTo(map_f1a80e88c84cb76166b6aaa3e5941c99);\n",
       "        \n",
       "    \n",
       "            var poly_line_50fddbf3b16fbe8c1b5a9d655eb4c0c2 = L.polyline(\n",
       "                [[-37.8323494288, 144.9715581747], [-37.8325529323, 144.9716817367]],\n",
       "                {&quot;bubblingMouseEvents&quot;: true, &quot;color&quot;: &quot;green&quot;, &quot;dashArray&quot;: null, &quot;dashOffset&quot;: null, &quot;fill&quot;: false, &quot;fillColor&quot;: &quot;green&quot;, &quot;fillOpacity&quot;: 0.2, &quot;fillRule&quot;: &quot;evenodd&quot;, &quot;lineCap&quot;: &quot;round&quot;, &quot;lineJoin&quot;: &quot;round&quot;, &quot;noClip&quot;: false, &quot;opacity&quot;: 1.0, &quot;smoothFactor&quot;: 1.0, &quot;stroke&quot;: true, &quot;weight&quot;: 10}\n",
       "            ).addTo(map_f1a80e88c84cb76166b6aaa3e5941c99);\n",
       "        \n",
       "    \n",
       "            var poly_line_7a51c59fe5144978cfad4f62ae96de7e = L.polyline(\n",
       "                [[-37.8325529323, 144.9716817367], [-37.8327805388, 144.971860451]],\n",
       "                {&quot;bubblingMouseEvents&quot;: true, &quot;color&quot;: &quot;green&quot;, &quot;dashArray&quot;: null, &quot;dashOffset&quot;: null, &quot;fill&quot;: false, &quot;fillColor&quot;: &quot;green&quot;, &quot;fillOpacity&quot;: 0.2, &quot;fillRule&quot;: &quot;evenodd&quot;, &quot;lineCap&quot;: &quot;round&quot;, &quot;lineJoin&quot;: &quot;round&quot;, &quot;noClip&quot;: false, &quot;opacity&quot;: 1.0, &quot;smoothFactor&quot;: 1.0, &quot;stroke&quot;: true, &quot;weight&quot;: 10}\n",
       "            ).addTo(map_f1a80e88c84cb76166b6aaa3e5941c99);\n",
       "        \n",
       "    \n",
       "            var poly_line_fb7bfb14a5379ef699c2d622f74cd29a = L.polyline(\n",
       "                [[-37.8327805388, 144.971860451], [-37.8328966905, 144.9719663406]],\n",
       "                {&quot;bubblingMouseEvents&quot;: true, &quot;color&quot;: &quot;green&quot;, &quot;dashArray&quot;: null, &quot;dashOffset&quot;: null, &quot;fill&quot;: false, &quot;fillColor&quot;: &quot;green&quot;, &quot;fillOpacity&quot;: 0.2, &quot;fillRule&quot;: &quot;evenodd&quot;, &quot;lineCap&quot;: &quot;round&quot;, &quot;lineJoin&quot;: &quot;round&quot;, &quot;noClip&quot;: false, &quot;opacity&quot;: 1.0, &quot;smoothFactor&quot;: 1.0, &quot;stroke&quot;: true, &quot;weight&quot;: 10}\n",
       "            ).addTo(map_f1a80e88c84cb76166b6aaa3e5941c99);\n",
       "        \n",
       "    \n",
       "            var poly_line_7a2258c427774e825d12d4cd56a8d529 = L.polyline(\n",
       "                [[-37.8328966905, 144.9719663406], [-37.8329191252, 144.9719867932]],\n",
       "                {&quot;bubblingMouseEvents&quot;: true, &quot;color&quot;: &quot;green&quot;, &quot;dashArray&quot;: null, &quot;dashOffset&quot;: null, &quot;fill&quot;: false, &quot;fillColor&quot;: &quot;green&quot;, &quot;fillOpacity&quot;: 0.2, &quot;fillRule&quot;: &quot;evenodd&quot;, &quot;lineCap&quot;: &quot;round&quot;, &quot;lineJoin&quot;: &quot;round&quot;, &quot;noClip&quot;: false, &quot;opacity&quot;: 1.0, &quot;smoothFactor&quot;: 1.0, &quot;stroke&quot;: true, &quot;weight&quot;: 10}\n",
       "            ).addTo(map_f1a80e88c84cb76166b6aaa3e5941c99);\n",
       "        \n",
       "    \n",
       "            var poly_line_728881381830a03ecbe2b29120739eb7 = L.polyline(\n",
       "                [[-37.8329191252, 144.9719867932], [-37.8330143186, 144.9720785349]],\n",
       "                {&quot;bubblingMouseEvents&quot;: true, &quot;color&quot;: &quot;green&quot;, &quot;dashArray&quot;: null, &quot;dashOffset&quot;: null, &quot;fill&quot;: false, &quot;fillColor&quot;: &quot;green&quot;, &quot;fillOpacity&quot;: 0.2, &quot;fillRule&quot;: &quot;evenodd&quot;, &quot;lineCap&quot;: &quot;round&quot;, &quot;lineJoin&quot;: &quot;round&quot;, &quot;noClip&quot;: false, &quot;opacity&quot;: 1.0, &quot;smoothFactor&quot;: 1.0, &quot;stroke&quot;: true, &quot;weight&quot;: 10}\n",
       "            ).addTo(map_f1a80e88c84cb76166b6aaa3e5941c99);\n",
       "        \n",
       "    \n",
       "            var poly_line_930c96a38fbc59a6092e429ce7fb06e0 = L.polyline(\n",
       "                [[-37.8330143186, 144.9720785349], [-37.8332086755, 144.9723251523]],\n",
       "                {&quot;bubblingMouseEvents&quot;: true, &quot;color&quot;: &quot;green&quot;, &quot;dashArray&quot;: null, &quot;dashOffset&quot;: null, &quot;fill&quot;: false, &quot;fillColor&quot;: &quot;green&quot;, &quot;fillOpacity&quot;: 0.2, &quot;fillRule&quot;: &quot;evenodd&quot;, &quot;lineCap&quot;: &quot;round&quot;, &quot;lineJoin&quot;: &quot;round&quot;, &quot;noClip&quot;: false, &quot;opacity&quot;: 1.0, &quot;smoothFactor&quot;: 1.0, &quot;stroke&quot;: true, &quot;weight&quot;: 10}\n",
       "            ).addTo(map_f1a80e88c84cb76166b6aaa3e5941c99);\n",
       "        \n",
       "    \n",
       "            var poly_line_82a940dcd3b70e17ca0b20265f26198f = L.polyline(\n",
       "                [[-37.8332086755, 144.9723251523], [-37.8332976363, 144.9724421742]],\n",
       "                {&quot;bubblingMouseEvents&quot;: true, &quot;color&quot;: &quot;green&quot;, &quot;dashArray&quot;: null, &quot;dashOffset&quot;: null, &quot;fill&quot;: false, &quot;fillColor&quot;: &quot;green&quot;, &quot;fillOpacity&quot;: 0.2, &quot;fillRule&quot;: &quot;evenodd&quot;, &quot;lineCap&quot;: &quot;round&quot;, &quot;lineJoin&quot;: &quot;round&quot;, &quot;noClip&quot;: false, &quot;opacity&quot;: 1.0, &quot;smoothFactor&quot;: 1.0, &quot;stroke&quot;: true, &quot;weight&quot;: 10}\n",
       "            ).addTo(map_f1a80e88c84cb76166b6aaa3e5941c99);\n",
       "        \n",
       "    \n",
       "            var poly_line_b396cb15ef98531d1b07e68deff40232 = L.polyline(\n",
       "                [[-37.8332976363, 144.9724421742], [-37.8335173859, 144.9727611793]],\n",
       "                {&quot;bubblingMouseEvents&quot;: true, &quot;color&quot;: &quot;green&quot;, &quot;dashArray&quot;: null, &quot;dashOffset&quot;: null, &quot;fill&quot;: false, &quot;fillColor&quot;: &quot;green&quot;, &quot;fillOpacity&quot;: 0.2, &quot;fillRule&quot;: &quot;evenodd&quot;, &quot;lineCap&quot;: &quot;round&quot;, &quot;lineJoin&quot;: &quot;round&quot;, &quot;noClip&quot;: false, &quot;opacity&quot;: 1.0, &quot;smoothFactor&quot;: 1.0, &quot;stroke&quot;: true, &quot;weight&quot;: 10}\n",
       "            ).addTo(map_f1a80e88c84cb76166b6aaa3e5941c99);\n",
       "        \n",
       "    \n",
       "            var poly_line_0649bbbb9d075da8b89c208409e78a92 = L.polyline(\n",
       "                [[-37.8335173859, 144.9727611793], [-37.8336333925, 144.9729408609]],\n",
       "                {&quot;bubblingMouseEvents&quot;: true, &quot;color&quot;: &quot;green&quot;, &quot;dashArray&quot;: null, &quot;dashOffset&quot;: null, &quot;fill&quot;: false, &quot;fillColor&quot;: &quot;green&quot;, &quot;fillOpacity&quot;: 0.2, &quot;fillRule&quot;: &quot;evenodd&quot;, &quot;lineCap&quot;: &quot;round&quot;, &quot;lineJoin&quot;: &quot;round&quot;, &quot;noClip&quot;: false, &quot;opacity&quot;: 1.0, &quot;smoothFactor&quot;: 1.0, &quot;stroke&quot;: true, &quot;weight&quot;: 10}\n",
       "            ).addTo(map_f1a80e88c84cb76166b6aaa3e5941c99);\n",
       "        \n",
       "    \n",
       "            var poly_line_a16b05a4f4d3e24c9f08fb2cefb797f4 = L.polyline(\n",
       "                [[-37.8336333925, 144.9729408609], [-37.8337530634, 144.9731262207]],\n",
       "                {&quot;bubblingMouseEvents&quot;: true, &quot;color&quot;: &quot;green&quot;, &quot;dashArray&quot;: null, &quot;dashOffset&quot;: null, &quot;fill&quot;: false, &quot;fillColor&quot;: &quot;green&quot;, &quot;fillOpacity&quot;: 0.2, &quot;fillRule&quot;: &quot;evenodd&quot;, &quot;lineCap&quot;: &quot;round&quot;, &quot;lineJoin&quot;: &quot;round&quot;, &quot;noClip&quot;: false, &quot;opacity&quot;: 1.0, &quot;smoothFactor&quot;: 1.0, &quot;stroke&quot;: true, &quot;weight&quot;: 10}\n",
       "            ).addTo(map_f1a80e88c84cb76166b6aaa3e5941c99);\n",
       "        \n",
       "    \n",
       "            var poly_line_f5eefec25de3f74f9d7629f5d7a63d8b = L.polyline(\n",
       "                [[-37.8337530634, 144.9731262207], [-37.8339396186, 144.9734065057]],\n",
       "                {&quot;bubblingMouseEvents&quot;: true, &quot;color&quot;: &quot;green&quot;, &quot;dashArray&quot;: null, &quot;dashOffset&quot;: null, &quot;fill&quot;: false, &quot;fillColor&quot;: &quot;green&quot;, &quot;fillOpacity&quot;: 0.2, &quot;fillRule&quot;: &quot;evenodd&quot;, &quot;lineCap&quot;: &quot;round&quot;, &quot;lineJoin&quot;: &quot;round&quot;, &quot;noClip&quot;: false, &quot;opacity&quot;: 1.0, &quot;smoothFactor&quot;: 1.0, &quot;stroke&quot;: true, &quot;weight&quot;: 10}\n",
       "            ).addTo(map_f1a80e88c84cb76166b6aaa3e5941c99);\n",
       "        \n",
       "    \n",
       "            var poly_line_afe6ae2de635749095aaed7b8ab781fa = L.polyline(\n",
       "                [[-37.8339396186, 144.9734065057], [-37.8340191981, 144.9735175623]],\n",
       "                {&quot;bubblingMouseEvents&quot;: true, &quot;color&quot;: &quot;green&quot;, &quot;dashArray&quot;: null, &quot;dashOffset&quot;: null, &quot;fill&quot;: false, &quot;fillColor&quot;: &quot;green&quot;, &quot;fillOpacity&quot;: 0.2, &quot;fillRule&quot;: &quot;evenodd&quot;, &quot;lineCap&quot;: &quot;round&quot;, &quot;lineJoin&quot;: &quot;round&quot;, &quot;noClip&quot;: false, &quot;opacity&quot;: 1.0, &quot;smoothFactor&quot;: 1.0, &quot;stroke&quot;: true, &quot;weight&quot;: 10}\n",
       "            ).addTo(map_f1a80e88c84cb76166b6aaa3e5941c99);\n",
       "        \n",
       "    \n",
       "            var poly_line_c4bc058888b8c0c3e740a5a778d22d16 = L.polyline(\n",
       "                [[-37.8340191981, 144.9735175623], [-37.8348983119, 144.9726970471]],\n",
       "                {&quot;bubblingMouseEvents&quot;: true, &quot;color&quot;: &quot;green&quot;, &quot;dashArray&quot;: null, &quot;dashOffset&quot;: null, &quot;fill&quot;: false, &quot;fillColor&quot;: &quot;green&quot;, &quot;fillOpacity&quot;: 0.2, &quot;fillRule&quot;: &quot;evenodd&quot;, &quot;lineCap&quot;: &quot;round&quot;, &quot;lineJoin&quot;: &quot;round&quot;, &quot;noClip&quot;: false, &quot;opacity&quot;: 1.0, &quot;smoothFactor&quot;: 1.0, &quot;stroke&quot;: true, &quot;weight&quot;: 10}\n",
       "            ).addTo(map_f1a80e88c84cb76166b6aaa3e5941c99);\n",
       "        \n",
       "    \n",
       "            var poly_line_1ed88d26ac5ebba52ba8e5bbb9f53e80 = L.polyline(\n",
       "                [[-37.8348983119, 144.9726970471], [-37.8353515945, 144.9723409626]],\n",
       "                {&quot;bubblingMouseEvents&quot;: true, &quot;color&quot;: &quot;green&quot;, &quot;dashArray&quot;: null, &quot;dashOffset&quot;: null, &quot;fill&quot;: false, &quot;fillColor&quot;: &quot;green&quot;, &quot;fillOpacity&quot;: 0.2, &quot;fillRule&quot;: &quot;evenodd&quot;, &quot;lineCap&quot;: &quot;round&quot;, &quot;lineJoin&quot;: &quot;round&quot;, &quot;noClip&quot;: false, &quot;opacity&quot;: 1.0, &quot;smoothFactor&quot;: 1.0, &quot;stroke&quot;: true, &quot;weight&quot;: 10}\n",
       "            ).addTo(map_f1a80e88c84cb76166b6aaa3e5941c99);\n",
       "        \n",
       "    \n",
       "            var poly_line_a6cf58f28a28685eede6f54840ccac6a = L.polyline(\n",
       "                [[-37.8353515945, 144.9723409626], [-37.8356115052, 144.9721773747]],\n",
       "                {&quot;bubblingMouseEvents&quot;: true, &quot;color&quot;: &quot;green&quot;, &quot;dashArray&quot;: null, &quot;dashOffset&quot;: null, &quot;fill&quot;: false, &quot;fillColor&quot;: &quot;green&quot;, &quot;fillOpacity&quot;: 0.2, &quot;fillRule&quot;: &quot;evenodd&quot;, &quot;lineCap&quot;: &quot;round&quot;, &quot;lineJoin&quot;: &quot;round&quot;, &quot;noClip&quot;: false, &quot;opacity&quot;: 1.0, &quot;smoothFactor&quot;: 1.0, &quot;stroke&quot;: true, &quot;weight&quot;: 10}\n",
       "            ).addTo(map_f1a80e88c84cb76166b6aaa3e5941c99);\n",
       "        \n",
       "    \n",
       "            var poly_line_d93f37858de3598519fb3f1e1cc7e152 = L.polyline(\n",
       "                [[-37.8102361, 144.9627652], [-37.8100364701, 144.9626836657]],\n",
       "                {&quot;bubblingMouseEvents&quot;: true, &quot;color&quot;: &quot;black&quot;, &quot;dashArray&quot;: &quot;5,5&quot;, &quot;dashOffset&quot;: null, &quot;fill&quot;: false, &quot;fillColor&quot;: &quot;black&quot;, &quot;fillOpacity&quot;: 0.2, &quot;fillRule&quot;: &quot;evenodd&quot;, &quot;lineCap&quot;: &quot;round&quot;, &quot;lineJoin&quot;: &quot;round&quot;, &quot;noClip&quot;: false, &quot;opacity&quot;: 1.0, &quot;smoothFactor&quot;: 1.0, &quot;stroke&quot;: true, &quot;weight&quot;: 5}\n",
       "            ).addTo(map_f1a80e88c84cb76166b6aaa3e5941c99);\n",
       "        \n",
       "    \n",
       "            var poly_line_16b0cd7352f9abf4378b882671118203 = L.polyline(\n",
       "                [[-37.8353532, 144.9703733], [-37.8356115052, 144.9721773747]],\n",
       "                {&quot;bubblingMouseEvents&quot;: true, &quot;color&quot;: &quot;black&quot;, &quot;dashArray&quot;: &quot;5,5&quot;, &quot;dashOffset&quot;: null, &quot;fill&quot;: false, &quot;fillColor&quot;: &quot;black&quot;, &quot;fillOpacity&quot;: 0.2, &quot;fillRule&quot;: &quot;evenodd&quot;, &quot;lineCap&quot;: &quot;round&quot;, &quot;lineJoin&quot;: &quot;round&quot;, &quot;noClip&quot;: false, &quot;opacity&quot;: 1.0, &quot;smoothFactor&quot;: 1.0, &quot;stroke&quot;: true, &quot;weight&quot;: 5}\n",
       "            ).addTo(map_f1a80e88c84cb76166b6aaa3e5941c99);\n",
       "        \n",
       "    \n",
       "            var circle_marker_0fad760eee30b09a9b10680f692986d2 = L.circleMarker(\n",
       "                [-37.8102361, 144.9627652],\n",
       "                {&quot;bubblingMouseEvents&quot;: true, &quot;color&quot;: &quot;#7EA1FF&quot;, &quot;dashArray&quot;: null, &quot;dashOffset&quot;: null, &quot;fill&quot;: false, &quot;fillColor&quot;: &quot;#7EA1FF&quot;, &quot;fillOpacity&quot;: 0.2, &quot;fillRule&quot;: &quot;evenodd&quot;, &quot;lineCap&quot;: &quot;round&quot;, &quot;lineJoin&quot;: &quot;round&quot;, &quot;opacity&quot;: 1.0, &quot;radius&quot;: 5, &quot;stroke&quot;: true, &quot;weight&quot;: 8}\n",
       "            ).addTo(map_f1a80e88c84cb76166b6aaa3e5941c99);\n",
       "        \n",
       "    \n",
       "        var popup_b80fbbf305388fc6fd0fa5cb44e5dc0e = L.popup({&quot;maxWidth&quot;: &quot;100%&quot;});\n",
       "\n",
       "        \n",
       "            \n",
       "                var html_4bdfd11bd96d4f9038f61fc147acedc2 = $(`&lt;div id=&quot;html_4bdfd11bd96d4f9038f61fc147acedc2&quot; style=&quot;width: 100.0%; height: 100.0%;&quot;&gt;start_text&lt;/div&gt;`)[0];\n",
       "                popup_b80fbbf305388fc6fd0fa5cb44e5dc0e.setContent(html_4bdfd11bd96d4f9038f61fc147acedc2);\n",
       "            \n",
       "        \n",
       "\n",
       "        circle_marker_0fad760eee30b09a9b10680f692986d2.bindPopup(popup_b80fbbf305388fc6fd0fa5cb44e5dc0e)\n",
       "        ;\n",
       "\n",
       "        \n",
       "    \n",
       "    \n",
       "            var marker_0fd1a57e82238b5326019b302ae4474f = L.marker(\n",
       "                [-37.8353532, 144.9703733],\n",
       "                {&quot;color&quot;: &quot;red&quot;, &quot;radius&quot;: 2, &quot;weight&quot;: 5}\n",
       "            ).addTo(map_f1a80e88c84cb76166b6aaa3e5941c99);\n",
       "        \n",
       "    \n",
       "        var popup_e354a24a4e2614bbf37b2ad8db18ee87 = L.popup({&quot;maxWidth&quot;: &quot;100%&quot;});\n",
       "\n",
       "        \n",
       "            \n",
       "                var html_f2bbbde20c234ca5b47daf606639c6dd = $(`&lt;div id=&quot;html_f2bbbde20c234ca5b47daf606639c6dd&quot; style=&quot;width: 100.0%; height: 100.0%;&quot;&gt;dest_text&lt;/div&gt;`)[0];\n",
       "                popup_e354a24a4e2614bbf37b2ad8db18ee87.setContent(html_f2bbbde20c234ca5b47daf606639c6dd);\n",
       "            \n",
       "        \n",
       "\n",
       "        marker_0fd1a57e82238b5326019b302ae4474f.bindPopup(popup_e354a24a4e2614bbf37b2ad8db18ee87)\n",
       "        ;\n",
       "\n",
       "        \n",
       "    \n",
       "&lt;/script&gt;\n",
       "&lt;/html&gt;\" style=\"position:absolute;width:100%;height:100%;left:0;top:0;border:none !important;\" allowfullscreen webkitallowfullscreen mozallowfullscreen></iframe></div></div>"
      ],
      "text/plain": [
       "<folium.folium.Map at 0x160b0cf50>"
      ]
     },
     "execution_count": 61,
     "metadata": {},
     "output_type": "execute_result"
    }
   ],
   "source": [
    "_, bikelanes_graph = create_bikelane_network()\n",
    "_, allroads_graph = create_all_roads_network()\n",
    "start_tuple = (144.9627652,-37.8102361)\n",
    "destination_tuple = (144.9703733,-37.8353532) \n",
    "\n",
    "# start_tuple = (144.9512, -37.796)\n",
    "# destination_tuple = (144.98818764532,-37.814201226257) \n",
    "\n",
    "fig, route_distance = colored_route(start_tuple, destination_tuple, bikelanes_graph,allroads_graph)\n",
    "average_speed = 15\n",
    "average_time = route_distance/average_speed\n",
    "print(f'Route distance: {round(route_distance,2)} km,\\nTime to reach: {round(average_time*60,1)} min' )\n",
    "fig"
   ]
  },
  {
   "cell_type": "code",
   "execution_count": 11,
   "metadata": {},
   "outputs": [],
   "source": [
    "################################### VISUALISATIONS ###################################################"
   ]
  },
  {
   "cell_type": "markdown",
   "metadata": {},
   "source": [
    "## Function to create suburb"
   ]
  },
  {
   "cell_type": "code",
   "execution_count": 12,
   "metadata": {},
   "outputs": [],
   "source": [
    "def find_nearest_suburb(user_lat, user_lon):\n",
    "    \n",
    "    min_distance = float('inf')\n",
    "    nearest_suburb = None\n",
    "    \n",
    "    for index, row in boundary_df.iterrows():\n",
    "        suburb_lat, suburb_lon = eval(row['geo_point_2d'])['lat'], eval(row['geo_point_2d'])['lon']\n",
    "     \n",
    "        distance = haversine(user_lat, user_lon, suburb_lat, suburb_lon)\n",
    "        if distance < min_distance:\n",
    "            min_distance = distance\n",
    "            nearest_suburb = row['area_name']\n",
    "    \n",
    "    return nearest_suburb\n",
    "\n",
    "def get_suburb_names(start_coord_tuple, end_coord_tuple ):\n",
    "    \n",
    "    start_point = Point(start_coord_tuple)\n",
    "    end_point = Point(end_coord_tuple)\n",
    "\n",
    "    nearest_start_suburb = find_nearest_suburb(start_coord_tuple[1], start_coord_tuple[0])\n",
    "    nearest_end_suburb = find_nearest_suburb(end_coord_tuple[1], end_coord_tuple[0])\n",
    "\n",
    "    \n",
    "    start_suburb = boundary_df[boundary_df['polygon_geometry'].apply(lambda x: start_point.within(x))]['area_name'].values\n",
    "    end_suburb = boundary_df[boundary_df['polygon_geometry'].apply(lambda x: end_point.within(x))]['area_name'].values\n",
    "    \n",
    "    start_suburb_name = start_suburb[0] if start_suburb.size > 0 else nearest_start_suburb\n",
    "    end_suburb_name = end_suburb[0] if end_suburb.size > 0 else nearest_end_suburb\n",
    "    \n",
    "    return [start_suburb_name, end_suburb_name]\n",
    "    "
   ]
  },
  {
   "cell_type": "markdown",
   "metadata": {},
   "source": [
    "## Function to create bar chart"
   ]
  },
  {
   "cell_type": "code",
   "execution_count": 13,
   "metadata": {},
   "outputs": [],
   "source": [
    "import plotly.graph_objs as go\n",
    "def bar_graph(x_array, y_array, marker_color=None):\n",
    "    if not marker_color:\n",
    "        marker_color = \"DodgerBlue\"\n",
    "\n",
    "    fig = go.Figure(\n",
    "        data=go.Bar(x=x_array, y=y_array, marker=dict(color=marker_color)),\n",
    "        layout=go.Layout(\n",
    "            height=300, margin=dict(l=0, r=0, t=0, b=0))\n",
    "        )\n",
    "    \n",
    "    return fig\n",
    "\n",
    "def rounded_bar_graph(x_array, y_array, marker_color=None):\n",
    "    if not marker_color:\n",
    "        marker_color = \"DodgerBlue\"\n",
    "\n",
    "    fig = bar_graph(x_array, y_array)\n",
    "\n",
    "    bw = 0.4  # half of the bar width\n",
    "    curve_height = 2.7\n",
    "    no_color = \"rgba(0,0,0,0)\"\n",
    "    shapes = []\n",
    "    for x, y in zip(fig[\"data\"][0][\"x\"], fig[\"data\"][0][\"y\"]):\n",
    "        path = f\"\"\"\n",
    "            M {x-bw},{y}\n",
    "            C {x-bw} {y+curve_height}, {x+bw} {y+curve_height}, {x+bw} {y}\n",
    "            V 0\n",
    "            M {x+bw},{0}\n",
    "            C {x+bw} {0-curve_height}, {x-bw} {0-curve_height}, {x-bw} {0}\n",
    "            H {x-bw}\n",
    "            Z\n",
    "        \"\"\"\n",
    "        shapes.append(\n",
    "            dict(type=\"path\", path=path, line_color=no_color, fillcolor=marker_color,)\n",
    "        )\n",
    "    fig.update_layout(shapes=shapes,)\n",
    "    return fig"
   ]
  },
  {
   "cell_type": "code",
   "execution_count": 14,
   "metadata": {},
   "outputs": [
    {
     "data": {
      "application/vnd.plotly.v1+json": {
       "config": {
        "displayModeBar": false,
        "plotlyServerURL": "https://plot.ly"
       },
       "data": [
        {
         "marker": {
          "color": "DodgerBlue"
         },
         "type": "bar",
         "x": [
          0,
          1,
          2,
          4,
          5,
          6,
          7,
          8,
          9,
          10,
          11,
          12,
          13,
          14,
          15,
          16,
          17,
          18,
          19,
          20,
          21,
          22,
          23
         ],
         "y": [
          4,
          1,
          3,
          2,
          2,
          9,
          17,
          60,
          43,
          20,
          17,
          21,
          11,
          23,
          24,
          38,
          64,
          57,
          19,
          13,
          8,
          9,
          6
         ]
        }
       ],
       "layout": {
        "height": 200,
        "margin": {
         "b": 0,
         "l": 0,
         "r": 0,
         "t": 0
        },
        "paper_bgcolor": "rgba(0,0,0,0)",
        "plot_bgcolor": "rgba(0,0,0,0)",
        "shapes": [
         {
          "fillcolor": "DodgerBlue",
          "line": {
           "color": "rgba(0,0,0,0)"
          },
          "path": "\n            M -0.4,4\n            C -0.4 6.7, 0.4 6.7, 0.4 4\n            V 0\n            M 0.4,0\n            C 0.4 -2.7, -0.4 -2.7, -0.4 0\n            H -0.4\n            Z\n        ",
          "type": "path"
         },
         {
          "fillcolor": "DodgerBlue",
          "line": {
           "color": "rgba(0,0,0,0)"
          },
          "path": "\n            M 0.6,1\n            C 0.6 3.7, 1.4 3.7, 1.4 1\n            V 0\n            M 1.4,0\n            C 1.4 -2.7, 0.6 -2.7, 0.6 0\n            H 0.6\n            Z\n        ",
          "type": "path"
         },
         {
          "fillcolor": "DodgerBlue",
          "line": {
           "color": "rgba(0,0,0,0)"
          },
          "path": "\n            M 1.6,3\n            C 1.6 5.7, 2.4 5.7, 2.4 3\n            V 0\n            M 2.4,0\n            C 2.4 -2.7, 1.6 -2.7, 1.6 0\n            H 1.6\n            Z\n        ",
          "type": "path"
         },
         {
          "fillcolor": "DodgerBlue",
          "line": {
           "color": "rgba(0,0,0,0)"
          },
          "path": "\n            M 3.6,2\n            C 3.6 4.7, 4.4 4.7, 4.4 2\n            V 0\n            M 4.4,0\n            C 4.4 -2.7, 3.6 -2.7, 3.6 0\n            H 3.6\n            Z\n        ",
          "type": "path"
         },
         {
          "fillcolor": "DodgerBlue",
          "line": {
           "color": "rgba(0,0,0,0)"
          },
          "path": "\n            M 4.6,2\n            C 4.6 4.7, 5.4 4.7, 5.4 2\n            V 0\n            M 5.4,0\n            C 5.4 -2.7, 4.6 -2.7, 4.6 0\n            H 4.6\n            Z\n        ",
          "type": "path"
         },
         {
          "fillcolor": "DodgerBlue",
          "line": {
           "color": "rgba(0,0,0,0)"
          },
          "path": "\n            M 5.6,9\n            C 5.6 11.7, 6.4 11.7, 6.4 9\n            V 0\n            M 6.4,0\n            C 6.4 -2.7, 5.6 -2.7, 5.6 0\n            H 5.6\n            Z\n        ",
          "type": "path"
         },
         {
          "fillcolor": "DodgerBlue",
          "line": {
           "color": "rgba(0,0,0,0)"
          },
          "path": "\n            M 6.6,17\n            C 6.6 19.7, 7.4 19.7, 7.4 17\n            V 0\n            M 7.4,0\n            C 7.4 -2.7, 6.6 -2.7, 6.6 0\n            H 6.6\n            Z\n        ",
          "type": "path"
         },
         {
          "fillcolor": "DodgerBlue",
          "line": {
           "color": "rgba(0,0,0,0)"
          },
          "path": "\n            M 7.6,60\n            C 7.6 62.7, 8.4 62.7, 8.4 60\n            V 0\n            M 8.4,0\n            C 8.4 -2.7, 7.6 -2.7, 7.6 0\n            H 7.6\n            Z\n        ",
          "type": "path"
         },
         {
          "fillcolor": "DodgerBlue",
          "line": {
           "color": "rgba(0,0,0,0)"
          },
          "path": "\n            M 8.6,43\n            C 8.6 45.7, 9.4 45.7, 9.4 43\n            V 0\n            M 9.4,0\n            C 9.4 -2.7, 8.6 -2.7, 8.6 0\n            H 8.6\n            Z\n        ",
          "type": "path"
         },
         {
          "fillcolor": "DodgerBlue",
          "line": {
           "color": "rgba(0,0,0,0)"
          },
          "path": "\n            M 9.6,20\n            C 9.6 22.7, 10.4 22.7, 10.4 20\n            V 0\n            M 10.4,0\n            C 10.4 -2.7, 9.6 -2.7, 9.6 0\n            H 9.6\n            Z\n        ",
          "type": "path"
         },
         {
          "fillcolor": "DodgerBlue",
          "line": {
           "color": "rgba(0,0,0,0)"
          },
          "path": "\n            M 10.6,17\n            C 10.6 19.7, 11.4 19.7, 11.4 17\n            V 0\n            M 11.4,0\n            C 11.4 -2.7, 10.6 -2.7, 10.6 0\n            H 10.6\n            Z\n        ",
          "type": "path"
         },
         {
          "fillcolor": "DodgerBlue",
          "line": {
           "color": "rgba(0,0,0,0)"
          },
          "path": "\n            M 11.6,21\n            C 11.6 23.7, 12.4 23.7, 12.4 21\n            V 0\n            M 12.4,0\n            C 12.4 -2.7, 11.6 -2.7, 11.6 0\n            H 11.6\n            Z\n        ",
          "type": "path"
         },
         {
          "fillcolor": "DodgerBlue",
          "line": {
           "color": "rgba(0,0,0,0)"
          },
          "path": "\n            M 12.6,11\n            C 12.6 13.7, 13.4 13.7, 13.4 11\n            V 0\n            M 13.4,0\n            C 13.4 -2.7, 12.6 -2.7, 12.6 0\n            H 12.6\n            Z\n        ",
          "type": "path"
         },
         {
          "fillcolor": "DodgerBlue",
          "line": {
           "color": "rgba(0,0,0,0)"
          },
          "path": "\n            M 13.6,23\n            C 13.6 25.7, 14.4 25.7, 14.4 23\n            V 0\n            M 14.4,0\n            C 14.4 -2.7, 13.6 -2.7, 13.6 0\n            H 13.6\n            Z\n        ",
          "type": "path"
         },
         {
          "fillcolor": "DodgerBlue",
          "line": {
           "color": "rgba(0,0,0,0)"
          },
          "path": "\n            M 14.6,24\n            C 14.6 26.7, 15.4 26.7, 15.4 24\n            V 0\n            M 15.4,0\n            C 15.4 -2.7, 14.6 -2.7, 14.6 0\n            H 14.6\n            Z\n        ",
          "type": "path"
         },
         {
          "fillcolor": "DodgerBlue",
          "line": {
           "color": "rgba(0,0,0,0)"
          },
          "path": "\n            M 15.6,38\n            C 15.6 40.7, 16.4 40.7, 16.4 38\n            V 0\n            M 16.4,0\n            C 16.4 -2.7, 15.6 -2.7, 15.6 0\n            H 15.6\n            Z\n        ",
          "type": "path"
         },
         {
          "fillcolor": "DodgerBlue",
          "line": {
           "color": "rgba(0,0,0,0)"
          },
          "path": "\n            M 16.6,64\n            C 16.6 66.7, 17.4 66.7, 17.4 64\n            V 0\n            M 17.4,0\n            C 17.4 -2.7, 16.6 -2.7, 16.6 0\n            H 16.6\n            Z\n        ",
          "type": "path"
         },
         {
          "fillcolor": "DodgerBlue",
          "line": {
           "color": "rgba(0,0,0,0)"
          },
          "path": "\n            M 17.6,57\n            C 17.6 59.7, 18.4 59.7, 18.4 57\n            V 0\n            M 18.4,0\n            C 18.4 -2.7, 17.6 -2.7, 17.6 0\n            H 17.6\n            Z\n        ",
          "type": "path"
         },
         {
          "fillcolor": "DodgerBlue",
          "line": {
           "color": "rgba(0,0,0,0)"
          },
          "path": "\n            M 18.6,19\n            C 18.6 21.7, 19.4 21.7, 19.4 19\n            V 0\n            M 19.4,0\n            C 19.4 -2.7, 18.6 -2.7, 18.6 0\n            H 18.6\n            Z\n        ",
          "type": "path"
         },
         {
          "fillcolor": "DodgerBlue",
          "line": {
           "color": "rgba(0,0,0,0)"
          },
          "path": "\n            M 19.6,13\n            C 19.6 15.7, 20.4 15.7, 20.4 13\n            V 0\n            M 20.4,0\n            C 20.4 -2.7, 19.6 -2.7, 19.6 0\n            H 19.6\n            Z\n        ",
          "type": "path"
         },
         {
          "fillcolor": "DodgerBlue",
          "line": {
           "color": "rgba(0,0,0,0)"
          },
          "path": "\n            M 20.6,8\n            C 20.6 10.7, 21.4 10.7, 21.4 8\n            V 0\n            M 21.4,0\n            C 21.4 -2.7, 20.6 -2.7, 20.6 0\n            H 20.6\n            Z\n        ",
          "type": "path"
         },
         {
          "fillcolor": "DodgerBlue",
          "line": {
           "color": "rgba(0,0,0,0)"
          },
          "path": "\n            M 21.6,9\n            C 21.6 11.7, 22.4 11.7, 22.4 9\n            V 0\n            M 22.4,0\n            C 22.4 -2.7, 21.6 -2.7, 21.6 0\n            H 21.6\n            Z\n        ",
          "type": "path"
         },
         {
          "fillcolor": "DodgerBlue",
          "line": {
           "color": "rgba(0,0,0,0)"
          },
          "path": "\n            M 22.6,6\n            C 22.6 8.7, 23.4 8.7, 23.4 6\n            V 0\n            M 23.4,0\n            C 23.4 -2.7, 22.6 -2.7, 22.6 0\n            H 22.6\n            Z\n        ",
          "type": "path"
         }
        ],
        "showlegend": false,
        "template": {
         "data": {
          "bar": [
           {
            "error_x": {
             "color": "#2a3f5f"
            },
            "error_y": {
             "color": "#2a3f5f"
            },
            "marker": {
             "line": {
              "color": "#E5ECF6",
              "width": 0.5
             },
             "pattern": {
              "fillmode": "overlay",
              "size": 10,
              "solidity": 0.2
             }
            },
            "type": "bar"
           }
          ],
          "barpolar": [
           {
            "marker": {
             "line": {
              "color": "#E5ECF6",
              "width": 0.5
             },
             "pattern": {
              "fillmode": "overlay",
              "size": 10,
              "solidity": 0.2
             }
            },
            "type": "barpolar"
           }
          ],
          "carpet": [
           {
            "aaxis": {
             "endlinecolor": "#2a3f5f",
             "gridcolor": "white",
             "linecolor": "white",
             "minorgridcolor": "white",
             "startlinecolor": "#2a3f5f"
            },
            "baxis": {
             "endlinecolor": "#2a3f5f",
             "gridcolor": "white",
             "linecolor": "white",
             "minorgridcolor": "white",
             "startlinecolor": "#2a3f5f"
            },
            "type": "carpet"
           }
          ],
          "choropleth": [
           {
            "colorbar": {
             "outlinewidth": 0,
             "ticks": ""
            },
            "type": "choropleth"
           }
          ],
          "contour": [
           {
            "colorbar": {
             "outlinewidth": 0,
             "ticks": ""
            },
            "colorscale": [
             [
              0,
              "#0d0887"
             ],
             [
              0.1111111111111111,
              "#46039f"
             ],
             [
              0.2222222222222222,
              "#7201a8"
             ],
             [
              0.3333333333333333,
              "#9c179e"
             ],
             [
              0.4444444444444444,
              "#bd3786"
             ],
             [
              0.5555555555555556,
              "#d8576b"
             ],
             [
              0.6666666666666666,
              "#ed7953"
             ],
             [
              0.7777777777777778,
              "#fb9f3a"
             ],
             [
              0.8888888888888888,
              "#fdca26"
             ],
             [
              1,
              "#f0f921"
             ]
            ],
            "type": "contour"
           }
          ],
          "contourcarpet": [
           {
            "colorbar": {
             "outlinewidth": 0,
             "ticks": ""
            },
            "type": "contourcarpet"
           }
          ],
          "heatmap": [
           {
            "colorbar": {
             "outlinewidth": 0,
             "ticks": ""
            },
            "colorscale": [
             [
              0,
              "#0d0887"
             ],
             [
              0.1111111111111111,
              "#46039f"
             ],
             [
              0.2222222222222222,
              "#7201a8"
             ],
             [
              0.3333333333333333,
              "#9c179e"
             ],
             [
              0.4444444444444444,
              "#bd3786"
             ],
             [
              0.5555555555555556,
              "#d8576b"
             ],
             [
              0.6666666666666666,
              "#ed7953"
             ],
             [
              0.7777777777777778,
              "#fb9f3a"
             ],
             [
              0.8888888888888888,
              "#fdca26"
             ],
             [
              1,
              "#f0f921"
             ]
            ],
            "type": "heatmap"
           }
          ],
          "heatmapgl": [
           {
            "colorbar": {
             "outlinewidth": 0,
             "ticks": ""
            },
            "colorscale": [
             [
              0,
              "#0d0887"
             ],
             [
              0.1111111111111111,
              "#46039f"
             ],
             [
              0.2222222222222222,
              "#7201a8"
             ],
             [
              0.3333333333333333,
              "#9c179e"
             ],
             [
              0.4444444444444444,
              "#bd3786"
             ],
             [
              0.5555555555555556,
              "#d8576b"
             ],
             [
              0.6666666666666666,
              "#ed7953"
             ],
             [
              0.7777777777777778,
              "#fb9f3a"
             ],
             [
              0.8888888888888888,
              "#fdca26"
             ],
             [
              1,
              "#f0f921"
             ]
            ],
            "type": "heatmapgl"
           }
          ],
          "histogram": [
           {
            "marker": {
             "pattern": {
              "fillmode": "overlay",
              "size": 10,
              "solidity": 0.2
             }
            },
            "type": "histogram"
           }
          ],
          "histogram2d": [
           {
            "colorbar": {
             "outlinewidth": 0,
             "ticks": ""
            },
            "colorscale": [
             [
              0,
              "#0d0887"
             ],
             [
              0.1111111111111111,
              "#46039f"
             ],
             [
              0.2222222222222222,
              "#7201a8"
             ],
             [
              0.3333333333333333,
              "#9c179e"
             ],
             [
              0.4444444444444444,
              "#bd3786"
             ],
             [
              0.5555555555555556,
              "#d8576b"
             ],
             [
              0.6666666666666666,
              "#ed7953"
             ],
             [
              0.7777777777777778,
              "#fb9f3a"
             ],
             [
              0.8888888888888888,
              "#fdca26"
             ],
             [
              1,
              "#f0f921"
             ]
            ],
            "type": "histogram2d"
           }
          ],
          "histogram2dcontour": [
           {
            "colorbar": {
             "outlinewidth": 0,
             "ticks": ""
            },
            "colorscale": [
             [
              0,
              "#0d0887"
             ],
             [
              0.1111111111111111,
              "#46039f"
             ],
             [
              0.2222222222222222,
              "#7201a8"
             ],
             [
              0.3333333333333333,
              "#9c179e"
             ],
             [
              0.4444444444444444,
              "#bd3786"
             ],
             [
              0.5555555555555556,
              "#d8576b"
             ],
             [
              0.6666666666666666,
              "#ed7953"
             ],
             [
              0.7777777777777778,
              "#fb9f3a"
             ],
             [
              0.8888888888888888,
              "#fdca26"
             ],
             [
              1,
              "#f0f921"
             ]
            ],
            "type": "histogram2dcontour"
           }
          ],
          "mesh3d": [
           {
            "colorbar": {
             "outlinewidth": 0,
             "ticks": ""
            },
            "type": "mesh3d"
           }
          ],
          "parcoords": [
           {
            "line": {
             "colorbar": {
              "outlinewidth": 0,
              "ticks": ""
             }
            },
            "type": "parcoords"
           }
          ],
          "pie": [
           {
            "automargin": true,
            "type": "pie"
           }
          ],
          "scatter": [
           {
            "marker": {
             "colorbar": {
              "outlinewidth": 0,
              "ticks": ""
             }
            },
            "type": "scatter"
           }
          ],
          "scatter3d": [
           {
            "line": {
             "colorbar": {
              "outlinewidth": 0,
              "ticks": ""
             }
            },
            "marker": {
             "colorbar": {
              "outlinewidth": 0,
              "ticks": ""
             }
            },
            "type": "scatter3d"
           }
          ],
          "scattercarpet": [
           {
            "marker": {
             "colorbar": {
              "outlinewidth": 0,
              "ticks": ""
             }
            },
            "type": "scattercarpet"
           }
          ],
          "scattergeo": [
           {
            "marker": {
             "colorbar": {
              "outlinewidth": 0,
              "ticks": ""
             }
            },
            "type": "scattergeo"
           }
          ],
          "scattergl": [
           {
            "marker": {
             "colorbar": {
              "outlinewidth": 0,
              "ticks": ""
             }
            },
            "type": "scattergl"
           }
          ],
          "scattermapbox": [
           {
            "marker": {
             "colorbar": {
              "outlinewidth": 0,
              "ticks": ""
             }
            },
            "type": "scattermapbox"
           }
          ],
          "scatterpolar": [
           {
            "marker": {
             "colorbar": {
              "outlinewidth": 0,
              "ticks": ""
             }
            },
            "type": "scatterpolar"
           }
          ],
          "scatterpolargl": [
           {
            "marker": {
             "colorbar": {
              "outlinewidth": 0,
              "ticks": ""
             }
            },
            "type": "scatterpolargl"
           }
          ],
          "scatterternary": [
           {
            "marker": {
             "colorbar": {
              "outlinewidth": 0,
              "ticks": ""
             }
            },
            "type": "scatterternary"
           }
          ],
          "surface": [
           {
            "colorbar": {
             "outlinewidth": 0,
             "ticks": ""
            },
            "colorscale": [
             [
              0,
              "#0d0887"
             ],
             [
              0.1111111111111111,
              "#46039f"
             ],
             [
              0.2222222222222222,
              "#7201a8"
             ],
             [
              0.3333333333333333,
              "#9c179e"
             ],
             [
              0.4444444444444444,
              "#bd3786"
             ],
             [
              0.5555555555555556,
              "#d8576b"
             ],
             [
              0.6666666666666666,
              "#ed7953"
             ],
             [
              0.7777777777777778,
              "#fb9f3a"
             ],
             [
              0.8888888888888888,
              "#fdca26"
             ],
             [
              1,
              "#f0f921"
             ]
            ],
            "type": "surface"
           }
          ],
          "table": [
           {
            "cells": {
             "fill": {
              "color": "#EBF0F8"
             },
             "line": {
              "color": "white"
             }
            },
            "header": {
             "fill": {
              "color": "#C8D4E3"
             },
             "line": {
              "color": "white"
             }
            },
            "type": "table"
           }
          ]
         },
         "layout": {
          "annotationdefaults": {
           "arrowcolor": "#2a3f5f",
           "arrowhead": 0,
           "arrowwidth": 1
          },
          "autotypenumbers": "strict",
          "coloraxis": {
           "colorbar": {
            "outlinewidth": 0,
            "ticks": ""
           }
          },
          "colorscale": {
           "diverging": [
            [
             0,
             "#8e0152"
            ],
            [
             0.1,
             "#c51b7d"
            ],
            [
             0.2,
             "#de77ae"
            ],
            [
             0.3,
             "#f1b6da"
            ],
            [
             0.4,
             "#fde0ef"
            ],
            [
             0.5,
             "#f7f7f7"
            ],
            [
             0.6,
             "#e6f5d0"
            ],
            [
             0.7,
             "#b8e186"
            ],
            [
             0.8,
             "#7fbc41"
            ],
            [
             0.9,
             "#4d9221"
            ],
            [
             1,
             "#276419"
            ]
           ],
           "sequential": [
            [
             0,
             "#0d0887"
            ],
            [
             0.1111111111111111,
             "#46039f"
            ],
            [
             0.2222222222222222,
             "#7201a8"
            ],
            [
             0.3333333333333333,
             "#9c179e"
            ],
            [
             0.4444444444444444,
             "#bd3786"
            ],
            [
             0.5555555555555556,
             "#d8576b"
            ],
            [
             0.6666666666666666,
             "#ed7953"
            ],
            [
             0.7777777777777778,
             "#fb9f3a"
            ],
            [
             0.8888888888888888,
             "#fdca26"
            ],
            [
             1,
             "#f0f921"
            ]
           ],
           "sequentialminus": [
            [
             0,
             "#0d0887"
            ],
            [
             0.1111111111111111,
             "#46039f"
            ],
            [
             0.2222222222222222,
             "#7201a8"
            ],
            [
             0.3333333333333333,
             "#9c179e"
            ],
            [
             0.4444444444444444,
             "#bd3786"
            ],
            [
             0.5555555555555556,
             "#d8576b"
            ],
            [
             0.6666666666666666,
             "#ed7953"
            ],
            [
             0.7777777777777778,
             "#fb9f3a"
            ],
            [
             0.8888888888888888,
             "#fdca26"
            ],
            [
             1,
             "#f0f921"
            ]
           ]
          },
          "colorway": [
           "#636efa",
           "#EF553B",
           "#00cc96",
           "#ab63fa",
           "#FFA15A",
           "#19d3f3",
           "#FF6692",
           "#B6E880",
           "#FF97FF",
           "#FECB52"
          ],
          "font": {
           "color": "#2a3f5f"
          },
          "geo": {
           "bgcolor": "white",
           "lakecolor": "white",
           "landcolor": "#E5ECF6",
           "showlakes": true,
           "showland": true,
           "subunitcolor": "white"
          },
          "hoverlabel": {
           "align": "left"
          },
          "hovermode": "closest",
          "mapbox": {
           "style": "light"
          },
          "paper_bgcolor": "white",
          "plot_bgcolor": "#E5ECF6",
          "polar": {
           "angularaxis": {
            "gridcolor": "white",
            "linecolor": "white",
            "ticks": ""
           },
           "bgcolor": "#E5ECF6",
           "radialaxis": {
            "gridcolor": "white",
            "linecolor": "white",
            "ticks": ""
           }
          },
          "scene": {
           "xaxis": {
            "backgroundcolor": "#E5ECF6",
            "gridcolor": "white",
            "gridwidth": 2,
            "linecolor": "white",
            "showbackground": true,
            "ticks": "",
            "zerolinecolor": "white"
           },
           "yaxis": {
            "backgroundcolor": "#E5ECF6",
            "gridcolor": "white",
            "gridwidth": 2,
            "linecolor": "white",
            "showbackground": true,
            "ticks": "",
            "zerolinecolor": "white"
           },
           "zaxis": {
            "backgroundcolor": "#E5ECF6",
            "gridcolor": "white",
            "gridwidth": 2,
            "linecolor": "white",
            "showbackground": true,
            "ticks": "",
            "zerolinecolor": "white"
           }
          },
          "shapedefaults": {
           "line": {
            "color": "#2a3f5f"
           }
          },
          "ternary": {
           "aaxis": {
            "gridcolor": "white",
            "linecolor": "white",
            "ticks": ""
           },
           "baxis": {
            "gridcolor": "white",
            "linecolor": "white",
            "ticks": ""
           },
           "bgcolor": "#E5ECF6",
           "caxis": {
            "gridcolor": "white",
            "linecolor": "white",
            "ticks": ""
           }
          },
          "title": {
           "x": 0.05
          },
          "xaxis": {
           "automargin": true,
           "gridcolor": "white",
           "linecolor": "white",
           "ticks": "",
           "title": {
            "standoff": 15
           },
           "zerolinecolor": "white",
           "zerolinewidth": 2
          },
          "yaxis": {
           "automargin": true,
           "gridcolor": "white",
           "linecolor": "white",
           "ticks": "",
           "title": {
            "standoff": 15
           },
           "zerolinecolor": "white",
           "zerolinewidth": 2
          }
         }
        },
        "width": 400,
        "xaxis": {
         "ticktext": [
          "12AM",
          "3AM",
          "6AM",
          "9AM",
          "12PM",
          "3PM",
          "6PM",
          "9PM"
         ],
         "tickvals": [
          0,
          3,
          6,
          9,
          12,
          15,
          18,
          21
         ],
         "title": {
          "text": "Hour of Day"
         }
        },
        "yaxis": {
         "title": {
          "text": "Accident count"
         }
        }
       }
      }
     },
     "metadata": {},
     "output_type": "display_data"
    }
   ],
   "source": [
    "def plot_accidents_by_time(accident_df, route_suburbs):\n",
    "    try:\n",
    "        #'date_time' is a datetime object and extract 'hour'\n",
    "        accident_df['date_time'] = pd.to_datetime(accident_df['date_time'])\n",
    "        accident_df['hour'] = accident_df['date_time'].dt.hour\n",
    "\n",
    "        #Filter the DataFrame for only the suburbs in the route\n",
    "        filtered_df = accident_df[accident_df['suburb'].isin(route_suburbs)]\n",
    "\n",
    "        #Check if the dataframe is empty\n",
    "        if filtered_df.empty:\n",
    "            raise ValueError(\"No data available for the specified suburbs.\")\n",
    "\n",
    "        #Group by 'hour' of day and count the total number of accidents\n",
    "        accident_counts_by_hour = filtered_df.groupby('hour').size().reset_index(name='count')\n",
    "\n",
    "        bar_fig = rounded_bar_graph(accident_counts_by_hour['hour'],accident_counts_by_hour['count'], marker_color=None)\n",
    "\n",
    "        #Change x-axis to show labels only once every 3 hours\n",
    "        tickvals = [i for i in range(0, 24, 3)]  # Every 3rd hour from 0 to 23\n",
    "        ticktext = [f\"{i % 12 if i % 12 != 0 else 12}{'AM' if i < 12 else 'PM'}\" for i in tickvals]\n",
    "\n",
    "        bar_fig.update_xaxes(\n",
    "            tickvals=tickvals,\n",
    "            ticktext=ticktext,\n",
    "            title='Hour of Day'\n",
    "        )\n",
    "\n",
    "        #y-axis title\n",
    "        bar_fig.update_yaxes(title='Accident count')\n",
    "\n",
    "        #Change the figure size\n",
    "        bar_fig.update_layout(\n",
    "            showlegend=False,\n",
    "            width=400,  # Custom width in pixels\n",
    "            height=200   # Custom height in pixels\n",
    "        )\n",
    "\n",
    "        #Display figure\n",
    "        return bar_fig\n",
    "\n",
    "    except KeyError as e:\n",
    "        print(f\"Error: DataFrame missing one or more required columns: {e}\")\n",
    "    except Exception as e:\n",
    "        print(f\"An error occurred: {e}\")\n",
    "\n",
    "# Example usage:\n",
    "start_tuple = (144.95,-37.825) \n",
    "destination_tuple = (144.9717,-37.771) \n",
    "route_suburbs = get_suburb_names(start_tuple, destination_tuple)\n",
    "\n",
    "fig = plot_accidents_by_time(accident_df, route_suburbs)\n",
    "config = {'displayModeBar': False}\n",
    "fig.update_layout(\n",
    "    paper_bgcolor='rgba(0,0,0,0)',\n",
    "    plot_bgcolor='rgba(0,0,0,0)',\n",
    ")\n",
    "fig.show(config=config)\n",
    "\n"
   ]
  },
  {
   "cell_type": "markdown",
   "metadata": {},
   "source": [
    "## Modified Treemap function"
   ]
  },
  {
   "cell_type": "code",
   "execution_count": 15,
   "metadata": {},
   "outputs": [
    {
     "data": {
      "application/vnd.plotly.v1+json": {
       "config": {
        "displayModeBar": false,
        "plotlyServerURL": "https://plot.ly"
       },
       "data": [
        {
         "labels": [
          "Other theft",
          "Steal from a motor vehicle",
          "Theft of a bicycle",
          "Receiving or handling stolen goods",
          "Motor vehicle theft"
         ],
         "marker": {
          "cmid": 0,
          "colors": [
           "F08080",
           "F4978E",
           "F8AD9D",
           "FBC4AB",
           "FFDAB9"
          ],
          "showscale": false
         },
         "parents": [
          "Top 5 crimes in Suburbs for Selected Route",
          "Top 5 crimes in Suburbs for Selected Route",
          "Top 5 crimes in Suburbs for Selected Route",
          "Top 5 crimes in Suburbs for Selected Route",
          "Top 5 crimes in Suburbs for Selected Route"
         ],
         "root": {
          "color": "#F6F5F2"
         },
         "textfont": {
          "color": "black",
          "size": 14
         },
         "texttemplate": "%{label}<br>%{value}",
         "type": "treemap",
         "values": [
          7434,
          5050,
          2793,
          2488,
          1932
         ]
        }
       ],
       "layout": {
        "height": 300,
        "margin": {
         "b": 25,
         "l": 25,
         "r": 25,
         "t": 50
        },
        "paper_bgcolor": "rgba(0,0,0,0)",
        "plot_bgcolor": "rgba(0,0,0,0)",
        "template": {
         "data": {
          "bar": [
           {
            "error_x": {
             "color": "#2a3f5f"
            },
            "error_y": {
             "color": "#2a3f5f"
            },
            "marker": {
             "line": {
              "color": "#E5ECF6",
              "width": 0.5
             },
             "pattern": {
              "fillmode": "overlay",
              "size": 10,
              "solidity": 0.2
             }
            },
            "type": "bar"
           }
          ],
          "barpolar": [
           {
            "marker": {
             "line": {
              "color": "#E5ECF6",
              "width": 0.5
             },
             "pattern": {
              "fillmode": "overlay",
              "size": 10,
              "solidity": 0.2
             }
            },
            "type": "barpolar"
           }
          ],
          "carpet": [
           {
            "aaxis": {
             "endlinecolor": "#2a3f5f",
             "gridcolor": "white",
             "linecolor": "white",
             "minorgridcolor": "white",
             "startlinecolor": "#2a3f5f"
            },
            "baxis": {
             "endlinecolor": "#2a3f5f",
             "gridcolor": "white",
             "linecolor": "white",
             "minorgridcolor": "white",
             "startlinecolor": "#2a3f5f"
            },
            "type": "carpet"
           }
          ],
          "choropleth": [
           {
            "colorbar": {
             "outlinewidth": 0,
             "ticks": ""
            },
            "type": "choropleth"
           }
          ],
          "contour": [
           {
            "colorbar": {
             "outlinewidth": 0,
             "ticks": ""
            },
            "colorscale": [
             [
              0,
              "#0d0887"
             ],
             [
              0.1111111111111111,
              "#46039f"
             ],
             [
              0.2222222222222222,
              "#7201a8"
             ],
             [
              0.3333333333333333,
              "#9c179e"
             ],
             [
              0.4444444444444444,
              "#bd3786"
             ],
             [
              0.5555555555555556,
              "#d8576b"
             ],
             [
              0.6666666666666666,
              "#ed7953"
             ],
             [
              0.7777777777777778,
              "#fb9f3a"
             ],
             [
              0.8888888888888888,
              "#fdca26"
             ],
             [
              1,
              "#f0f921"
             ]
            ],
            "type": "contour"
           }
          ],
          "contourcarpet": [
           {
            "colorbar": {
             "outlinewidth": 0,
             "ticks": ""
            },
            "type": "contourcarpet"
           }
          ],
          "heatmap": [
           {
            "colorbar": {
             "outlinewidth": 0,
             "ticks": ""
            },
            "colorscale": [
             [
              0,
              "#0d0887"
             ],
             [
              0.1111111111111111,
              "#46039f"
             ],
             [
              0.2222222222222222,
              "#7201a8"
             ],
             [
              0.3333333333333333,
              "#9c179e"
             ],
             [
              0.4444444444444444,
              "#bd3786"
             ],
             [
              0.5555555555555556,
              "#d8576b"
             ],
             [
              0.6666666666666666,
              "#ed7953"
             ],
             [
              0.7777777777777778,
              "#fb9f3a"
             ],
             [
              0.8888888888888888,
              "#fdca26"
             ],
             [
              1,
              "#f0f921"
             ]
            ],
            "type": "heatmap"
           }
          ],
          "heatmapgl": [
           {
            "colorbar": {
             "outlinewidth": 0,
             "ticks": ""
            },
            "colorscale": [
             [
              0,
              "#0d0887"
             ],
             [
              0.1111111111111111,
              "#46039f"
             ],
             [
              0.2222222222222222,
              "#7201a8"
             ],
             [
              0.3333333333333333,
              "#9c179e"
             ],
             [
              0.4444444444444444,
              "#bd3786"
             ],
             [
              0.5555555555555556,
              "#d8576b"
             ],
             [
              0.6666666666666666,
              "#ed7953"
             ],
             [
              0.7777777777777778,
              "#fb9f3a"
             ],
             [
              0.8888888888888888,
              "#fdca26"
             ],
             [
              1,
              "#f0f921"
             ]
            ],
            "type": "heatmapgl"
           }
          ],
          "histogram": [
           {
            "marker": {
             "pattern": {
              "fillmode": "overlay",
              "size": 10,
              "solidity": 0.2
             }
            },
            "type": "histogram"
           }
          ],
          "histogram2d": [
           {
            "colorbar": {
             "outlinewidth": 0,
             "ticks": ""
            },
            "colorscale": [
             [
              0,
              "#0d0887"
             ],
             [
              0.1111111111111111,
              "#46039f"
             ],
             [
              0.2222222222222222,
              "#7201a8"
             ],
             [
              0.3333333333333333,
              "#9c179e"
             ],
             [
              0.4444444444444444,
              "#bd3786"
             ],
             [
              0.5555555555555556,
              "#d8576b"
             ],
             [
              0.6666666666666666,
              "#ed7953"
             ],
             [
              0.7777777777777778,
              "#fb9f3a"
             ],
             [
              0.8888888888888888,
              "#fdca26"
             ],
             [
              1,
              "#f0f921"
             ]
            ],
            "type": "histogram2d"
           }
          ],
          "histogram2dcontour": [
           {
            "colorbar": {
             "outlinewidth": 0,
             "ticks": ""
            },
            "colorscale": [
             [
              0,
              "#0d0887"
             ],
             [
              0.1111111111111111,
              "#46039f"
             ],
             [
              0.2222222222222222,
              "#7201a8"
             ],
             [
              0.3333333333333333,
              "#9c179e"
             ],
             [
              0.4444444444444444,
              "#bd3786"
             ],
             [
              0.5555555555555556,
              "#d8576b"
             ],
             [
              0.6666666666666666,
              "#ed7953"
             ],
             [
              0.7777777777777778,
              "#fb9f3a"
             ],
             [
              0.8888888888888888,
              "#fdca26"
             ],
             [
              1,
              "#f0f921"
             ]
            ],
            "type": "histogram2dcontour"
           }
          ],
          "mesh3d": [
           {
            "colorbar": {
             "outlinewidth": 0,
             "ticks": ""
            },
            "type": "mesh3d"
           }
          ],
          "parcoords": [
           {
            "line": {
             "colorbar": {
              "outlinewidth": 0,
              "ticks": ""
             }
            },
            "type": "parcoords"
           }
          ],
          "pie": [
           {
            "automargin": true,
            "type": "pie"
           }
          ],
          "scatter": [
           {
            "marker": {
             "colorbar": {
              "outlinewidth": 0,
              "ticks": ""
             }
            },
            "type": "scatter"
           }
          ],
          "scatter3d": [
           {
            "line": {
             "colorbar": {
              "outlinewidth": 0,
              "ticks": ""
             }
            },
            "marker": {
             "colorbar": {
              "outlinewidth": 0,
              "ticks": ""
             }
            },
            "type": "scatter3d"
           }
          ],
          "scattercarpet": [
           {
            "marker": {
             "colorbar": {
              "outlinewidth": 0,
              "ticks": ""
             }
            },
            "type": "scattercarpet"
           }
          ],
          "scattergeo": [
           {
            "marker": {
             "colorbar": {
              "outlinewidth": 0,
              "ticks": ""
             }
            },
            "type": "scattergeo"
           }
          ],
          "scattergl": [
           {
            "marker": {
             "colorbar": {
              "outlinewidth": 0,
              "ticks": ""
             }
            },
            "type": "scattergl"
           }
          ],
          "scattermapbox": [
           {
            "marker": {
             "colorbar": {
              "outlinewidth": 0,
              "ticks": ""
             }
            },
            "type": "scattermapbox"
           }
          ],
          "scatterpolar": [
           {
            "marker": {
             "colorbar": {
              "outlinewidth": 0,
              "ticks": ""
             }
            },
            "type": "scatterpolar"
           }
          ],
          "scatterpolargl": [
           {
            "marker": {
             "colorbar": {
              "outlinewidth": 0,
              "ticks": ""
             }
            },
            "type": "scatterpolargl"
           }
          ],
          "scatterternary": [
           {
            "marker": {
             "colorbar": {
              "outlinewidth": 0,
              "ticks": ""
             }
            },
            "type": "scatterternary"
           }
          ],
          "surface": [
           {
            "colorbar": {
             "outlinewidth": 0,
             "ticks": ""
            },
            "colorscale": [
             [
              0,
              "#0d0887"
             ],
             [
              0.1111111111111111,
              "#46039f"
             ],
             [
              0.2222222222222222,
              "#7201a8"
             ],
             [
              0.3333333333333333,
              "#9c179e"
             ],
             [
              0.4444444444444444,
              "#bd3786"
             ],
             [
              0.5555555555555556,
              "#d8576b"
             ],
             [
              0.6666666666666666,
              "#ed7953"
             ],
             [
              0.7777777777777778,
              "#fb9f3a"
             ],
             [
              0.8888888888888888,
              "#fdca26"
             ],
             [
              1,
              "#f0f921"
             ]
            ],
            "type": "surface"
           }
          ],
          "table": [
           {
            "cells": {
             "fill": {
              "color": "#EBF0F8"
             },
             "line": {
              "color": "white"
             }
            },
            "header": {
             "fill": {
              "color": "#C8D4E3"
             },
             "line": {
              "color": "white"
             }
            },
            "type": "table"
           }
          ]
         },
         "layout": {
          "annotationdefaults": {
           "arrowcolor": "#2a3f5f",
           "arrowhead": 0,
           "arrowwidth": 1
          },
          "autotypenumbers": "strict",
          "coloraxis": {
           "colorbar": {
            "outlinewidth": 0,
            "ticks": ""
           }
          },
          "colorscale": {
           "diverging": [
            [
             0,
             "#8e0152"
            ],
            [
             0.1,
             "#c51b7d"
            ],
            [
             0.2,
             "#de77ae"
            ],
            [
             0.3,
             "#f1b6da"
            ],
            [
             0.4,
             "#fde0ef"
            ],
            [
             0.5,
             "#f7f7f7"
            ],
            [
             0.6,
             "#e6f5d0"
            ],
            [
             0.7,
             "#b8e186"
            ],
            [
             0.8,
             "#7fbc41"
            ],
            [
             0.9,
             "#4d9221"
            ],
            [
             1,
             "#276419"
            ]
           ],
           "sequential": [
            [
             0,
             "#0d0887"
            ],
            [
             0.1111111111111111,
             "#46039f"
            ],
            [
             0.2222222222222222,
             "#7201a8"
            ],
            [
             0.3333333333333333,
             "#9c179e"
            ],
            [
             0.4444444444444444,
             "#bd3786"
            ],
            [
             0.5555555555555556,
             "#d8576b"
            ],
            [
             0.6666666666666666,
             "#ed7953"
            ],
            [
             0.7777777777777778,
             "#fb9f3a"
            ],
            [
             0.8888888888888888,
             "#fdca26"
            ],
            [
             1,
             "#f0f921"
            ]
           ],
           "sequentialminus": [
            [
             0,
             "#0d0887"
            ],
            [
             0.1111111111111111,
             "#46039f"
            ],
            [
             0.2222222222222222,
             "#7201a8"
            ],
            [
             0.3333333333333333,
             "#9c179e"
            ],
            [
             0.4444444444444444,
             "#bd3786"
            ],
            [
             0.5555555555555556,
             "#d8576b"
            ],
            [
             0.6666666666666666,
             "#ed7953"
            ],
            [
             0.7777777777777778,
             "#fb9f3a"
            ],
            [
             0.8888888888888888,
             "#fdca26"
            ],
            [
             1,
             "#f0f921"
            ]
           ]
          },
          "colorway": [
           "#636efa",
           "#EF553B",
           "#00cc96",
           "#ab63fa",
           "#FFA15A",
           "#19d3f3",
           "#FF6692",
           "#B6E880",
           "#FF97FF",
           "#FECB52"
          ],
          "font": {
           "color": "#2a3f5f"
          },
          "geo": {
           "bgcolor": "white",
           "lakecolor": "white",
           "landcolor": "#E5ECF6",
           "showlakes": true,
           "showland": true,
           "subunitcolor": "white"
          },
          "hoverlabel": {
           "align": "left"
          },
          "hovermode": "closest",
          "mapbox": {
           "style": "light"
          },
          "paper_bgcolor": "white",
          "plot_bgcolor": "#E5ECF6",
          "polar": {
           "angularaxis": {
            "gridcolor": "white",
            "linecolor": "white",
            "ticks": ""
           },
           "bgcolor": "#E5ECF6",
           "radialaxis": {
            "gridcolor": "white",
            "linecolor": "white",
            "ticks": ""
           }
          },
          "scene": {
           "xaxis": {
            "backgroundcolor": "#E5ECF6",
            "gridcolor": "white",
            "gridwidth": 2,
            "linecolor": "white",
            "showbackground": true,
            "ticks": "",
            "zerolinecolor": "white"
           },
           "yaxis": {
            "backgroundcolor": "#E5ECF6",
            "gridcolor": "white",
            "gridwidth": 2,
            "linecolor": "white",
            "showbackground": true,
            "ticks": "",
            "zerolinecolor": "white"
           },
           "zaxis": {
            "backgroundcolor": "#E5ECF6",
            "gridcolor": "white",
            "gridwidth": 2,
            "linecolor": "white",
            "showbackground": true,
            "ticks": "",
            "zerolinecolor": "white"
           }
          },
          "shapedefaults": {
           "line": {
            "color": "#2a3f5f"
           }
          },
          "ternary": {
           "aaxis": {
            "gridcolor": "white",
            "linecolor": "white",
            "ticks": ""
           },
           "baxis": {
            "gridcolor": "white",
            "linecolor": "white",
            "ticks": ""
           },
           "bgcolor": "#E5ECF6",
           "caxis": {
            "gridcolor": "white",
            "linecolor": "white",
            "ticks": ""
           }
          },
          "title": {
           "x": 0.05
          },
          "xaxis": {
           "automargin": true,
           "gridcolor": "white",
           "linecolor": "white",
           "ticks": "",
           "title": {
            "standoff": 15
           },
           "zerolinecolor": "white",
           "zerolinewidth": 2
          },
          "yaxis": {
           "automargin": true,
           "gridcolor": "white",
           "linecolor": "white",
           "ticks": "",
           "title": {
            "standoff": 15
           },
           "zerolinecolor": "white",
           "zerolinewidth": 2
          }
         }
        },
        "title": {
         "text": "Top 5 Crime Types along the Bicycle Route"
        },
        "width": 600
       }
      }
     },
     "metadata": {},
     "output_type": "display_data"
    }
   ],
   "source": [
    "import plotly.graph_objects as go\n",
    "\n",
    "def create_treemap_top5(crime_df, route_suburbs):\n",
    "    # Filter crime_df for the suburbs the route passes through\n",
    "    route_crime_data = crime_df[crime_df['suburb'].isin(route_suburbs)]\n",
    "\n",
    "    # Aggregate data at the offence subgroup level for the specified suburbs\n",
    "    route_crime_summary = route_crime_data.groupby('offence_subgroup')['count'].sum().reset_index()\n",
    "\n",
    "    # Select the top 5 offence subgroups by count\n",
    "    top5_crime_summary = route_crime_summary.nlargest(5, 'count')\n",
    "\n",
    "    # Add 'All' as a parent node for hierarchy\n",
    "    top5_crime_summary['parent'] = 'Top 5 crimes in Suburbs for Selected Route'\n",
    "\n",
    "    # Create the treemap using Plotly Graph Objects\n",
    "    fig = go.Figure(go.Treemap(\n",
    "        labels=top5_crime_summary['offence_subgroup'],\n",
    "        parents=top5_crime_summary['parent'],\n",
    "        values=top5_crime_summary['count'],\n",
    "        marker_colors = [\"F08080\", \"F4978E\", \"F8AD9D\", \"FBC4AB\", \"FFDAB9\"],\n",
    "        texttemplate=\"%{label}<br>%{value}\",\n",
    "        marker=dict(\n",
    "            colors=top5_crime_summary['count'],\n",
    "            #colorscale='RdYlGn_r',\n",
    "            cmid=0,\n",
    "            showscale=False\n",
    "                            )\n",
    "    ))\n",
    "\n",
    "    # Customize the layout\n",
    "    fig.update_layout(\n",
    "        title='Top 5 Crime Types along the Bicycle Route',\n",
    "        margin=dict(t=50, l=25, r=25, b=25),\n",
    "        width =600,\n",
    "        height=300,\n",
    "        paper_bgcolor='rgba(0,0,0,0)',\n",
    "        plot_bgcolor='rgba(0,0,0,0)',\n",
    "        \n",
    "        \n",
    "        \n",
    "    )\n",
    "\n",
    "    # Customize font color\n",
    "    fig.update_traces(textfont={'color': 'black', 'size': 14})\n",
    "\n",
    "    return fig\n",
    "\n",
    "# Example usage\n",
    "start_tuple = (144.95, -37.825)\n",
    "destination_tuple = (144.9717, -37.771)\n",
    "route_suburbs = get_suburb_names(start_tuple, destination_tuple)  # Ensure this function is defined and working\n",
    "fig = create_treemap_top5(crime_df, route_suburbs)\n",
    "config = {'displayModeBar': False}\n",
    "fig.update_traces(root_color=\"#F6F5F2\")\n",
    "fig.show(config=config)\n",
    "# fig.write_image(\"treemap_top5.png\", engine=\"kaleido\")\n"
   ]
  },
  {
   "cell_type": "markdown",
   "metadata": {},
   "source": [
    "## Bikerails"
   ]
  },
  {
   "cell_type": "code",
   "execution_count": 24,
   "metadata": {},
   "outputs": [
    {
     "data": {
      "text/html": [
       "<div style=\"width:100%;\"><div style=\"position:relative;width:100%;height:0;padding-bottom:60%;\"><span style=\"color:#565656\">Make this Notebook Trusted to load map: File -> Trust Notebook</span><iframe srcdoc=\"&lt;!DOCTYPE html&gt;\n",
       "&lt;html&gt;\n",
       "&lt;head&gt;\n",
       "    \n",
       "    &lt;meta http-equiv=&quot;content-type&quot; content=&quot;text/html; charset=UTF-8&quot; /&gt;\n",
       "    \n",
       "        &lt;script&gt;\n",
       "            L_NO_TOUCH = false;\n",
       "            L_DISABLE_3D = false;\n",
       "        &lt;/script&gt;\n",
       "    \n",
       "    &lt;style&gt;html, body {width: 100%;height: 100%;margin: 0;padding: 0;}&lt;/style&gt;\n",
       "    &lt;style&gt;#map {position:absolute;top:0;bottom:0;right:0;left:0;}&lt;/style&gt;\n",
       "    &lt;script src=&quot;https://cdn.jsdelivr.net/npm/leaflet@1.9.3/dist/leaflet.js&quot;&gt;&lt;/script&gt;\n",
       "    &lt;script src=&quot;https://code.jquery.com/jquery-1.12.4.min.js&quot;&gt;&lt;/script&gt;\n",
       "    &lt;script src=&quot;https://cdn.jsdelivr.net/npm/bootstrap@5.2.2/dist/js/bootstrap.bundle.min.js&quot;&gt;&lt;/script&gt;\n",
       "    &lt;script src=&quot;https://cdnjs.cloudflare.com/ajax/libs/Leaflet.awesome-markers/2.0.2/leaflet.awesome-markers.js&quot;&gt;&lt;/script&gt;\n",
       "    &lt;link rel=&quot;stylesheet&quot; href=&quot;https://cdn.jsdelivr.net/npm/leaflet@1.9.3/dist/leaflet.css&quot;/&gt;\n",
       "    &lt;link rel=&quot;stylesheet&quot; href=&quot;https://cdn.jsdelivr.net/npm/bootstrap@5.2.2/dist/css/bootstrap.min.css&quot;/&gt;\n",
       "    &lt;link rel=&quot;stylesheet&quot; href=&quot;https://netdna.bootstrapcdn.com/bootstrap/3.0.0/css/bootstrap.min.css&quot;/&gt;\n",
       "    &lt;link rel=&quot;stylesheet&quot; href=&quot;https://cdn.jsdelivr.net/npm/@fortawesome/fontawesome-free@6.2.0/css/all.min.css&quot;/&gt;\n",
       "    &lt;link rel=&quot;stylesheet&quot; href=&quot;https://cdnjs.cloudflare.com/ajax/libs/Leaflet.awesome-markers/2.0.2/leaflet.awesome-markers.css&quot;/&gt;\n",
       "    &lt;link rel=&quot;stylesheet&quot; href=&quot;https://cdn.jsdelivr.net/gh/python-visualization/folium/folium/templates/leaflet.awesome.rotate.min.css&quot;/&gt;\n",
       "    \n",
       "            &lt;meta name=&quot;viewport&quot; content=&quot;width=device-width,\n",
       "                initial-scale=1.0, maximum-scale=1.0, user-scalable=no&quot; /&gt;\n",
       "            &lt;style&gt;\n",
       "                #map_1c912af29b0c350f3f58ce55e0eda2ba {\n",
       "                    position: relative;\n",
       "                    width: 100.0%;\n",
       "                    height: 100.0%;\n",
       "                    left: 0.0%;\n",
       "                    top: 0.0%;\n",
       "                }\n",
       "                .leaflet-container { font-size: 1rem; }\n",
       "            &lt;/style&gt;\n",
       "        \n",
       "    &lt;script src=&quot;https://cdnjs.cloudflare.com/ajax/libs/leaflet.markercluster/1.1.0/leaflet.markercluster.js&quot;&gt;&lt;/script&gt;\n",
       "    &lt;link rel=&quot;stylesheet&quot; href=&quot;https://cdnjs.cloudflare.com/ajax/libs/leaflet.markercluster/1.1.0/MarkerCluster.css&quot;/&gt;\n",
       "    &lt;link rel=&quot;stylesheet&quot; href=&quot;https://cdnjs.cloudflare.com/ajax/libs/leaflet.markercluster/1.1.0/MarkerCluster.Default.css&quot;/&gt;\n",
       "&lt;/head&gt;\n",
       "&lt;body&gt;\n",
       "    \n",
       "    \n",
       "            &lt;div class=&quot;folium-map&quot; id=&quot;map_1c912af29b0c350f3f58ce55e0eda2ba&quot; &gt;&lt;/div&gt;\n",
       "        \n",
       "&lt;/body&gt;\n",
       "&lt;script&gt;\n",
       "    \n",
       "    \n",
       "            var map_1c912af29b0c350f3f58ce55e0eda2ba = L.map(\n",
       "                &quot;map_1c912af29b0c350f3f58ce55e0eda2ba&quot;,\n",
       "                {\n",
       "                    center: [-37.80897674731234, 144.9578394119283],\n",
       "                    crs: L.CRS.EPSG3857,\n",
       "                    zoom: 12,\n",
       "                    zoomControl: true,\n",
       "                    preferCanvas: false,\n",
       "                }\n",
       "            );\n",
       "\n",
       "            \n",
       "\n",
       "        \n",
       "    \n",
       "            var tile_layer_b21358d80ab7b229f2149bf9be3cdd4d = L.tileLayer(\n",
       "                &quot;https://tile.jawg.io/jawg-terrain/{z}/{x}/{y}{r}.png?access-token=vJATUvPkKU7abTaQMSHw2p9x0jpRE1EcXBTlkPfKH7zeLdtwpN8LyDjoQEXRFjKr&quot;,\n",
       "                {&quot;attribution&quot;: &quot;\\u003ca href=\\&quot;https://jawg.io\\&quot; title=\\&quot;Tiles Courtesy of Jawg Maps\\&quot; target=\\&quot;_blank\\&quot;\\u003e\\u0026copy; \\u003cb\\u003eJawg\\u003c/b\\u003eMaps\\u003c/a\\u003e \\u0026copy; \\u003ca href=\\&quot;https://www.openstreetmap.org/copyright\\&quot;\\u003eOpenStreetMap\\u003c/a\\u003e contributors&quot;, &quot;detectRetina&quot;: false, &quot;maxNativeZoom&quot;: 18, &quot;maxZoom&quot;: 18, &quot;minZoom&quot;: 0, &quot;noWrap&quot;: false, &quot;opacity&quot;: 1, &quot;subdomains&quot;: &quot;abc&quot;, &quot;tms&quot;: false}\n",
       "            ).addTo(map_1c912af29b0c350f3f58ce55e0eda2ba);\n",
       "        \n",
       "    \n",
       "            var marker_cluster_bbe2c0899d6480718214f14c575e9472 = L.markerClusterGroup(\n",
       "                {&quot;disableClusteringAtZoom&quot;: 18}\n",
       "            );\n",
       "            map_1c912af29b0c350f3f58ce55e0eda2ba.addLayer(marker_cluster_bbe2c0899d6480718214f14c575e9472);\n",
       "        \n",
       "    \n",
       "            var marker_19e0564fbadbfd8356cf07a7fe744d5f = L.marker(\n",
       "                [-37.83309901476533, 144.9738914484839],\n",
       "                {}\n",
       "            ).addTo(map_1c912af29b0c350f3f58ce55e0eda2ba);\n",
       "        \n",
       "    \n",
       "            var icon_5bfcc1941dd6a09c05d4606acafc5701 = L.AwesomeMarkers.icon(\n",
       "                {&quot;extraClasses&quot;: &quot;fa-rotate-0&quot;, &quot;icon&quot;: &quot;fa-solid fa-square-parking&quot;, &quot;iconColor&quot;: &quot;white&quot;, &quot;markerColor&quot;: &quot;blue&quot;, &quot;prefix&quot;: &quot;fa&quot;}\n",
       "            );\n",
       "            marker_19e0564fbadbfd8356cf07a7fe744d5f.setIcon(icon_5bfcc1941dd6a09c05d4606acafc5701);\n",
       "        \n",
       "    \n",
       "        var popup_c1f78da8efbacc6cfc39a2ea7953b46a = L.popup({&quot;maxWidth&quot;: 500});\n",
       "\n",
       "        \n",
       "            \n",
       "                var i_frame_2c3a9b0897f72b1f0d98a15ec42a2d66 = $(`&lt;iframe src=&quot;data:text/html;charset=utf-8;base64,CiAgICA8Yj5Bc3NldCBUeXBlPC9iPjogQmljeWNsZSBSYWlscyA8L2JyPiA8Yj5EZXNjcmlwdGlvbjwvYj46IEJpY3ljbGUgUmFpbHMgLSBTdGFpbmxlc3MgU3RlZWwgQmljeWNsZSBIb29w&quot; width=&quot;400&quot; style=&quot;border:none !important;&quot; height=&quot;50&quot;&gt;&lt;/iframe&gt;`)[0];\n",
       "                popup_c1f78da8efbacc6cfc39a2ea7953b46a.setContent(i_frame_2c3a9b0897f72b1f0d98a15ec42a2d66);\n",
       "            \n",
       "        \n",
       "\n",
       "        marker_19e0564fbadbfd8356cf07a7fe744d5f.bindPopup(popup_c1f78da8efbacc6cfc39a2ea7953b46a)\n",
       "        ;\n",
       "\n",
       "        \n",
       "    \n",
       "    \n",
       "            var marker_4101453294a826f8c963b10090929837 = L.marker(\n",
       "                [-37.83310497368306, 144.9739444614215],\n",
       "                {}\n",
       "            ).addTo(map_1c912af29b0c350f3f58ce55e0eda2ba);\n",
       "        \n",
       "    \n",
       "            var icon_7b8e0e867c94fee35d0d15cf0c6bc057 = L.AwesomeMarkers.icon(\n",
       "                {&quot;extraClasses&quot;: &quot;fa-rotate-0&quot;, &quot;icon&quot;: &quot;fa-solid fa-square-parking&quot;, &quot;iconColor&quot;: &quot;white&quot;, &quot;markerColor&quot;: &quot;blue&quot;, &quot;prefix&quot;: &quot;fa&quot;}\n",
       "            );\n",
       "            marker_4101453294a826f8c963b10090929837.setIcon(icon_7b8e0e867c94fee35d0d15cf0c6bc057);\n",
       "        \n",
       "    \n",
       "        var popup_b4f7dd5ff770ac0b860cf511e2901766 = L.popup({&quot;maxWidth&quot;: 500});\n",
       "\n",
       "        \n",
       "            \n",
       "                var i_frame_7058d2420e8efbebc856b96e33f4702a = $(`&lt;iframe src=&quot;data:text/html;charset=utf-8;base64,CiAgICA8Yj5Bc3NldCBUeXBlPC9iPjogQmljeWNsZSBSYWlscyA8L2JyPiA8Yj5EZXNjcmlwdGlvbjwvYj46IEJpY3ljbGUgUmFpbHMgLSBTdGFpbmxlc3MgU3RlZWwgQmljeWNsZSBIb29w&quot; width=&quot;400&quot; style=&quot;border:none !important;&quot; height=&quot;50&quot;&gt;&lt;/iframe&gt;`)[0];\n",
       "                popup_b4f7dd5ff770ac0b860cf511e2901766.setContent(i_frame_7058d2420e8efbebc856b96e33f4702a);\n",
       "            \n",
       "        \n",
       "\n",
       "        marker_4101453294a826f8c963b10090929837.bindPopup(popup_b4f7dd5ff770ac0b860cf511e2901766)\n",
       "        ;\n",
       "\n",
       "        \n",
       "    \n",
       "    \n",
       "            var marker_3675606506becd8867a738b4697efe3f = L.marker(\n",
       "                [-37.83569680431423, 144.9755923973115],\n",
       "                {}\n",
       "            ).addTo(map_1c912af29b0c350f3f58ce55e0eda2ba);\n",
       "        \n",
       "    \n",
       "            var icon_31e44e520644ef5d8fe05ca97e3fc266 = L.AwesomeMarkers.icon(\n",
       "                {&quot;extraClasses&quot;: &quot;fa-rotate-0&quot;, &quot;icon&quot;: &quot;fa-solid fa-square-parking&quot;, &quot;iconColor&quot;: &quot;white&quot;, &quot;markerColor&quot;: &quot;blue&quot;, &quot;prefix&quot;: &quot;fa&quot;}\n",
       "            );\n",
       "            marker_3675606506becd8867a738b4697efe3f.setIcon(icon_31e44e520644ef5d8fe05ca97e3fc266);\n",
       "        \n",
       "    \n",
       "        var popup_3c6f3c3244079768d12f26700c90227e = L.popup({&quot;maxWidth&quot;: 500});\n",
       "\n",
       "        \n",
       "            \n",
       "                var i_frame_3b9eaff1cd04c00a56bf17ea21994947 = $(`&lt;iframe src=&quot;data:text/html;charset=utf-8;base64,CiAgICA8Yj5Bc3NldCBUeXBlPC9iPjogQmljeWNsZSBSYWlscyA8L2JyPiA8Yj5EZXNjcmlwdGlvbjwvYj46IEJpY3ljbGUgUmFpbHMgLSBTdGFpbmxlc3MgU3RlZWwgQmljeWNsZSBIb29w&quot; width=&quot;400&quot; style=&quot;border:none !important;&quot; height=&quot;50&quot;&gt;&lt;/iframe&gt;`)[0];\n",
       "                popup_3c6f3c3244079768d12f26700c90227e.setContent(i_frame_3b9eaff1cd04c00a56bf17ea21994947);\n",
       "            \n",
       "        \n",
       "\n",
       "        marker_3675606506becd8867a738b4697efe3f.bindPopup(popup_3c6f3c3244079768d12f26700c90227e)\n",
       "        ;\n",
       "\n",
       "        \n",
       "    \n",
       "    \n",
       "            var marker_925347202dfc3e66ba13d1b012daacf3 = L.marker(\n",
       "                [-37.83570402375862, 144.9755982222196],\n",
       "                {}\n",
       "            ).addTo(map_1c912af29b0c350f3f58ce55e0eda2ba);\n",
       "        \n",
       "    \n",
       "            var icon_8f553f2f8190c4c42a1bf47659d26f02 = L.AwesomeMarkers.icon(\n",
       "                {&quot;extraClasses&quot;: &quot;fa-rotate-0&quot;, &quot;icon&quot;: &quot;fa-solid fa-square-parking&quot;, &quot;iconColor&quot;: &quot;white&quot;, &quot;markerColor&quot;: &quot;blue&quot;, &quot;prefix&quot;: &quot;fa&quot;}\n",
       "            );\n",
       "            marker_925347202dfc3e66ba13d1b012daacf3.setIcon(icon_8f553f2f8190c4c42a1bf47659d26f02);\n",
       "        \n",
       "    \n",
       "        var popup_a9a3e1c3d6329e01baf8b26da7ebb6a0 = L.popup({&quot;maxWidth&quot;: 500});\n",
       "\n",
       "        \n",
       "            \n",
       "                var i_frame_47c908f09f7b856a3bf8b6916f806e08 = $(`&lt;iframe src=&quot;data:text/html;charset=utf-8;base64,CiAgICA8Yj5Bc3NldCBUeXBlPC9iPjogQmljeWNsZSBSYWlscyA8L2JyPiA8Yj5EZXNjcmlwdGlvbjwvYj46IEJpY3ljbGUgUmFpbHMgLSBTdGFpbmxlc3MgU3RlZWwgQmljeWNsZSBIb29w&quot; width=&quot;400&quot; style=&quot;border:none !important;&quot; height=&quot;50&quot;&gt;&lt;/iframe&gt;`)[0];\n",
       "                popup_a9a3e1c3d6329e01baf8b26da7ebb6a0.setContent(i_frame_47c908f09f7b856a3bf8b6916f806e08);\n",
       "            \n",
       "        \n",
       "\n",
       "        marker_925347202dfc3e66ba13d1b012daacf3.bindPopup(popup_a9a3e1c3d6329e01baf8b26da7ebb6a0)\n",
       "        ;\n",
       "\n",
       "        \n",
       "    \n",
       "    \n",
       "            var marker_2142d9249b61a0e377d4abef8f87e183 = L.marker(\n",
       "                [-37.83616358069386, 144.9759731319616],\n",
       "                {}\n",
       "            ).addTo(map_1c912af29b0c350f3f58ce55e0eda2ba);\n",
       "        \n",
       "    \n",
       "            var icon_d31f683a35e1db5b8410771d493ca7e8 = L.AwesomeMarkers.icon(\n",
       "                {&quot;extraClasses&quot;: &quot;fa-rotate-0&quot;, &quot;icon&quot;: &quot;fa-solid fa-square-parking&quot;, &quot;iconColor&quot;: &quot;white&quot;, &quot;markerColor&quot;: &quot;blue&quot;, &quot;prefix&quot;: &quot;fa&quot;}\n",
       "            );\n",
       "            marker_2142d9249b61a0e377d4abef8f87e183.setIcon(icon_d31f683a35e1db5b8410771d493ca7e8);\n",
       "        \n",
       "    \n",
       "        var popup_a1c925b5d2996e83d6c0e1796d000aa4 = L.popup({&quot;maxWidth&quot;: 500});\n",
       "\n",
       "        \n",
       "            \n",
       "                var i_frame_ff2778f0c0a312bf61dec3e8a68afa1f = $(`&lt;iframe src=&quot;data:text/html;charset=utf-8;base64,CiAgICA8Yj5Bc3NldCBUeXBlPC9iPjogQmljeWNsZSBSYWlscyA8L2JyPiA8Yj5EZXNjcmlwdGlvbjwvYj46IEJpY3ljbGUgUmFpbHMgLSBTdGFpbmxlc3MgU3RlZWwgQmljeWNsZSBIb29w&quot; width=&quot;400&quot; style=&quot;border:none !important;&quot; height=&quot;50&quot;&gt;&lt;/iframe&gt;`)[0];\n",
       "                popup_a1c925b5d2996e83d6c0e1796d000aa4.setContent(i_frame_ff2778f0c0a312bf61dec3e8a68afa1f);\n",
       "            \n",
       "        \n",
       "\n",
       "        marker_2142d9249b61a0e377d4abef8f87e183.bindPopup(popup_a1c925b5d2996e83d6c0e1796d000aa4)\n",
       "        ;\n",
       "\n",
       "        \n",
       "    \n",
       "    \n",
       "            var marker_6c25be93483924b13536d46cfe5074ac = L.marker(\n",
       "                [-37.83617555652928, 144.9759778042739],\n",
       "                {}\n",
       "            ).addTo(map_1c912af29b0c350f3f58ce55e0eda2ba);\n",
       "        \n",
       "    \n",
       "            var icon_395874b848c5c2bad9d583b074cf2aa5 = L.AwesomeMarkers.icon(\n",
       "                {&quot;extraClasses&quot;: &quot;fa-rotate-0&quot;, &quot;icon&quot;: &quot;fa-solid fa-square-parking&quot;, &quot;iconColor&quot;: &quot;white&quot;, &quot;markerColor&quot;: &quot;blue&quot;, &quot;prefix&quot;: &quot;fa&quot;}\n",
       "            );\n",
       "            marker_6c25be93483924b13536d46cfe5074ac.setIcon(icon_395874b848c5c2bad9d583b074cf2aa5);\n",
       "        \n",
       "    \n",
       "        var popup_3540840690ea6b5f987fd086d5be77c6 = L.popup({&quot;maxWidth&quot;: 500});\n",
       "\n",
       "        \n",
       "            \n",
       "                var i_frame_c000ba43ec0a6a49badb5b2a0cc2c89f = $(`&lt;iframe src=&quot;data:text/html;charset=utf-8;base64,CiAgICA8Yj5Bc3NldCBUeXBlPC9iPjogQmljeWNsZSBSYWlscyA8L2JyPiA8Yj5EZXNjcmlwdGlvbjwvYj46IEJpY3ljbGUgUmFpbHMgLSBTdGFpbmxlc3MgU3RlZWwgQmljeWNsZSBIb29w&quot; width=&quot;400&quot; style=&quot;border:none !important;&quot; height=&quot;50&quot;&gt;&lt;/iframe&gt;`)[0];\n",
       "                popup_3540840690ea6b5f987fd086d5be77c6.setContent(i_frame_c000ba43ec0a6a49badb5b2a0cc2c89f);\n",
       "            \n",
       "        \n",
       "\n",
       "        marker_6c25be93483924b13536d46cfe5074ac.bindPopup(popup_3540840690ea6b5f987fd086d5be77c6)\n",
       "        ;\n",
       "\n",
       "        \n",
       "    \n",
       "    \n",
       "            var marker_c05ff555f0dce7d19e255e61413610c1 = L.marker(\n",
       "                [-37.83618546258902, 144.9759826467912],\n",
       "                {}\n",
       "            ).addTo(map_1c912af29b0c350f3f58ce55e0eda2ba);\n",
       "        \n",
       "    \n",
       "            var icon_c842adf1fe0bd9f95f32002df102a73d = L.AwesomeMarkers.icon(\n",
       "                {&quot;extraClasses&quot;: &quot;fa-rotate-0&quot;, &quot;icon&quot;: &quot;fa-solid fa-square-parking&quot;, &quot;iconColor&quot;: &quot;white&quot;, &quot;markerColor&quot;: &quot;blue&quot;, &quot;prefix&quot;: &quot;fa&quot;}\n",
       "            );\n",
       "            marker_c05ff555f0dce7d19e255e61413610c1.setIcon(icon_c842adf1fe0bd9f95f32002df102a73d);\n",
       "        \n",
       "    \n",
       "        var popup_0ab7d102020c8d88e75c51aced22a72e = L.popup({&quot;maxWidth&quot;: 500});\n",
       "\n",
       "        \n",
       "            \n",
       "                var i_frame_f2858aa673f2113f9e87ddb2b5d3e883 = $(`&lt;iframe src=&quot;data:text/html;charset=utf-8;base64,CiAgICA8Yj5Bc3NldCBUeXBlPC9iPjogQmljeWNsZSBSYWlscyA8L2JyPiA8Yj5EZXNjcmlwdGlvbjwvYj46IEJpY3ljbGUgUmFpbHMgLSBTdGFpbmxlc3MgU3RlZWwgQmljeWNsZSBIb29w&quot; width=&quot;400&quot; style=&quot;border:none !important;&quot; height=&quot;50&quot;&gt;&lt;/iframe&gt;`)[0];\n",
       "                popup_0ab7d102020c8d88e75c51aced22a72e.setContent(i_frame_f2858aa673f2113f9e87ddb2b5d3e883);\n",
       "            \n",
       "        \n",
       "\n",
       "        marker_c05ff555f0dce7d19e255e61413610c1.bindPopup(popup_0ab7d102020c8d88e75c51aced22a72e)\n",
       "        ;\n",
       "\n",
       "        \n",
       "    \n",
       "    \n",
       "            var marker_d9501238ff49e911128866579532966b = L.marker(\n",
       "                [-37.83618903214647, 144.9759858444519],\n",
       "                {}\n",
       "            ).addTo(map_1c912af29b0c350f3f58ce55e0eda2ba);\n",
       "        \n",
       "    \n",
       "            var icon_c0a48071350ba6b4dde2c8d318784383 = L.AwesomeMarkers.icon(\n",
       "                {&quot;extraClasses&quot;: &quot;fa-rotate-0&quot;, &quot;icon&quot;: &quot;fa-solid fa-square-parking&quot;, &quot;iconColor&quot;: &quot;white&quot;, &quot;markerColor&quot;: &quot;blue&quot;, &quot;prefix&quot;: &quot;fa&quot;}\n",
       "            );\n",
       "            marker_d9501238ff49e911128866579532966b.setIcon(icon_c0a48071350ba6b4dde2c8d318784383);\n",
       "        \n",
       "    \n",
       "        var popup_7a52c3064ac74bb7f14c66bbd9cd258f = L.popup({&quot;maxWidth&quot;: 500});\n",
       "\n",
       "        \n",
       "            \n",
       "                var i_frame_1668ea7ff495025ffe7d650e7fa6924e = $(`&lt;iframe src=&quot;data:text/html;charset=utf-8;base64,CiAgICA8Yj5Bc3NldCBUeXBlPC9iPjogQmljeWNsZSBSYWlscyA8L2JyPiA8Yj5EZXNjcmlwdGlvbjwvYj46IEJpY3ljbGUgUmFpbHMgLSBTdGFpbmxlc3MgU3RlZWwgQmljeWNsZSBIb29w&quot; width=&quot;400&quot; style=&quot;border:none !important;&quot; height=&quot;50&quot;&gt;&lt;/iframe&gt;`)[0];\n",
       "                popup_7a52c3064ac74bb7f14c66bbd9cd258f.setContent(i_frame_1668ea7ff495025ffe7d650e7fa6924e);\n",
       "            \n",
       "        \n",
       "\n",
       "        marker_d9501238ff49e911128866579532966b.bindPopup(popup_7a52c3064ac74bb7f14c66bbd9cd258f)\n",
       "        ;\n",
       "\n",
       "        \n",
       "    \n",
       "    \n",
       "            var marker_f94d1d053ff2b7765018e51b505ed427 = L.marker(\n",
       "                [-37.83070123883335, 144.9681749174741],\n",
       "                {}\n",
       "            ).addTo(map_1c912af29b0c350f3f58ce55e0eda2ba);\n",
       "        \n",
       "    \n",
       "            var icon_f4b35ca40244fb45c1d5f54bcf3804e9 = L.AwesomeMarkers.icon(\n",
       "                {&quot;extraClasses&quot;: &quot;fa-rotate-0&quot;, &quot;icon&quot;: &quot;fa-solid fa-square-parking&quot;, &quot;iconColor&quot;: &quot;white&quot;, &quot;markerColor&quot;: &quot;blue&quot;, &quot;prefix&quot;: &quot;fa&quot;}\n",
       "            );\n",
       "            marker_f94d1d053ff2b7765018e51b505ed427.setIcon(icon_f4b35ca40244fb45c1d5f54bcf3804e9);\n",
       "        \n",
       "    \n",
       "        var popup_ff865c017b2cf6153a98c94f273f0ba0 = L.popup({&quot;maxWidth&quot;: 500});\n",
       "\n",
       "        \n",
       "            \n",
       "                var i_frame_244c560cde1a78fe83039fcbe4057979 = $(`&lt;iframe src=&quot;data:text/html;charset=utf-8;base64,CiAgICA8Yj5Bc3NldCBUeXBlPC9iPjogQmljeWNsZSBSYWlscyA8L2JyPiA8Yj5EZXNjcmlwdGlvbjwvYj46IEJpY3ljbGUgUmFpbHMgLSBTdGFpbmxlc3MgU3RlZWwgQmljeWNsZSBIb29w&quot; width=&quot;400&quot; style=&quot;border:none !important;&quot; height=&quot;50&quot;&gt;&lt;/iframe&gt;`)[0];\n",
       "                popup_ff865c017b2cf6153a98c94f273f0ba0.setContent(i_frame_244c560cde1a78fe83039fcbe4057979);\n",
       "            \n",
       "        \n",
       "\n",
       "        marker_f94d1d053ff2b7765018e51b505ed427.bindPopup(popup_ff865c017b2cf6153a98c94f273f0ba0)\n",
       "        ;\n",
       "\n",
       "        \n",
       "    \n",
       "    \n",
       "            var marker_f987d12366f220a6267fd801cd042990 = L.marker(\n",
       "                [-37.83070504908039, 144.9681554975311],\n",
       "                {}\n",
       "            ).addTo(map_1c912af29b0c350f3f58ce55e0eda2ba);\n",
       "        \n",
       "    \n",
       "            var icon_645fdfc941a0209d1f63277a4be19033 = L.AwesomeMarkers.icon(\n",
       "                {&quot;extraClasses&quot;: &quot;fa-rotate-0&quot;, &quot;icon&quot;: &quot;fa-solid fa-square-parking&quot;, &quot;iconColor&quot;: &quot;white&quot;, &quot;markerColor&quot;: &quot;blue&quot;, &quot;prefix&quot;: &quot;fa&quot;}\n",
       "            );\n",
       "            marker_f987d12366f220a6267fd801cd042990.setIcon(icon_645fdfc941a0209d1f63277a4be19033);\n",
       "        \n",
       "    \n",
       "        var popup_9b3b9a3cce891bc493d26faf7344dbda = L.popup({&quot;maxWidth&quot;: 500});\n",
       "\n",
       "        \n",
       "            \n",
       "                var i_frame_e6bbb9be9425204fe6f31d5d3f3647e2 = $(`&lt;iframe src=&quot;data:text/html;charset=utf-8;base64,CiAgICA8Yj5Bc3NldCBUeXBlPC9iPjogQmljeWNsZSBSYWlscyA8L2JyPiA8Yj5EZXNjcmlwdGlvbjwvYj46IEJpY3ljbGUgUmFpbHMgLSBTdGFpbmxlc3MgU3RlZWwgQmljeWNsZSBIb29w&quot; width=&quot;400&quot; style=&quot;border:none !important;&quot; height=&quot;50&quot;&gt;&lt;/iframe&gt;`)[0];\n",
       "                popup_9b3b9a3cce891bc493d26faf7344dbda.setContent(i_frame_e6bbb9be9425204fe6f31d5d3f3647e2);\n",
       "            \n",
       "        \n",
       "\n",
       "        marker_f987d12366f220a6267fd801cd042990.bindPopup(popup_9b3b9a3cce891bc493d26faf7344dbda)\n",
       "        ;\n",
       "\n",
       "        \n",
       "    \n",
       "&lt;/script&gt;\n",
       "&lt;/html&gt;\" style=\"position:absolute;width:100%;height:100%;left:0;top:0;border:none !important;\" allowfullscreen webkitallowfullscreen mozallowfullscreen></iframe></div></div>"
      ],
      "text/plain": [
       "<folium.folium.Map at 0x16a4e33d0>"
      ]
     },
     "execution_count": 24,
     "metadata": {},
     "output_type": "execute_result"
    }
   ],
   "source": [
    "\n",
    "import branca\n",
    "from folium.plugins import MarkerCluster\n",
    "\n",
    "\n",
    "def create_map(dataframe, access_token, zoom_start=12, show_all = True, dest_lat=None, dest_long=None):\n",
    "\n",
    "    # Calculate the center of the map from the dataframe\n",
    "    dest_lat = dest_lat\n",
    "    dest_long = dest_long\n",
    "    center_latitude = dataframe.geometry.y.mean()\n",
    "    center_longitude = dataframe.geometry.x.mean()\n",
    "\n",
    "    # Setup the tile theme with the provided access token\n",
    "    tiles = f'https://tile.jawg.io/jawg-terrain/{{z}}/{{x}}/{{y}}{{r}}.png?access-token={access_token}'\n",
    "    attr = ('<a href=\"https://jawg.io\" title=\"Tiles Courtesy of Jawg Maps\" target=\"_blank\">&copy; <b>Jawg</b>Maps</a> &copy; '\n",
    "            '<a href=\"https://www.openstreetmap.org/copyright\">OpenStreetMap</a> contributors')\n",
    "\n",
    "    # Create the map centered around the average location\n",
    "    mymap = folium.Map(location=[center_latitude, center_longitude], zoom_start=zoom_start, tiles=tiles, attr=attr)\n",
    "\n",
    "    # Create a MarkerCluster object\n",
    "    marker_cluster = MarkerCluster(disableClusteringAtZoom=18).add_to(mymap)\n",
    "    if show_all == True:\n",
    "        # Add points to the marker cluster from the dataframe\n",
    "        for idx, row in dataframe.iterrows():\n",
    "            html = f\"<b>Asset Type</b>: {row['asset_type']} </br> <b>Description</b>: {row['description']}\"\n",
    "            iframe = branca.element.IFrame(html=html, width=400, height=50)\n",
    "            popup = folium.Popup(iframe, max_width=500)\n",
    "            \n",
    "            folium.Marker(\n",
    "                location=[row.geometry.y, row.geometry.x],\n",
    "                popup=popup,\n",
    "                icon=folium.Icon(icon='fa-solid fa-square-parking', prefix='fa'),\n",
    "            ).add_to(marker_cluster)\n",
    "    \n",
    "\n",
    "        return mymap\n",
    "    else:\n",
    "        new_df = dataframe.copy()\n",
    "        new_df['distance'] = new_df.apply(lambda row: haversine(row['geometry'].y, row['geometry'].x, dest_lat, dest_long), axis=1)\n",
    "    \n",
    "        # Sort DataFrame based on distance and select the 'n=10' nearest bicycle rails\n",
    "        nearest_bikerails = new_df.nsmallest(10, 'distance')\n",
    "        for idx, row in nearest_bikerails.iterrows():\n",
    "            html = f\"<b>Asset Type</b>: {row['asset_type']} </br> <b>Description</b>: {row['description']}\"\n",
    "            iframe = branca.element.IFrame(html=html, width=400, height=50)\n",
    "            popup = folium.Popup(iframe, max_width=500)\n",
    "            \n",
    "            folium.Marker(\n",
    "                location=[row.geometry.y, row.geometry.x],\n",
    "                popup=popup,\n",
    "                icon=folium.Icon(icon='fa-solid fa-square-parking', prefix='fa'),\n",
    "            ).add_to(mymap)\n",
    "\n",
    "\n",
    "        return mymap\n",
    "\n",
    "\n",
    "\n",
    "\n",
    "\n",
    "# Example \n",
    "access_token = 'vJATUvPkKU7abTaQMSHw2p9x0jpRE1EcXBTlkPfKH7zeLdtwpN8LyDjoQEXRFjKr'\n",
    "mymap = create_map(bikerails_gdf, access_token, show_all = False, dest_lat=-37.8353532, dest_long=144.9703733)\n",
    "mymap\n"
   ]
  }
 ],
 "metadata": {
  "kernelspec": {
   "display_name": "pedalsafe",
   "language": "python",
   "name": "python3"
  },
  "language_info": {
   "codemirror_mode": {
    "name": "ipython",
    "version": 3
   },
   "file_extension": ".py",
   "mimetype": "text/x-python",
   "name": "python",
   "nbconvert_exporter": "python",
   "pygments_lexer": "ipython3",
   "version": "3.11.8"
  }
 },
 "nbformat": 4,
 "nbformat_minor": 2
}
